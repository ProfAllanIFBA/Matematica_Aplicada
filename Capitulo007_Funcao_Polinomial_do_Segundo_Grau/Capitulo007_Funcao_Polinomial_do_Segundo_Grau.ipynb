{
 "cells": [
  {
   "cell_type": "markdown",
   "id": "de40f19b",
   "metadata": {},
   "source": [
    "<center> <img src=\"logo_ifba.jpg\" alt=\"jpg_python\" width=\"100\" height=\"\"> </center>\n",
    "<br><br>\n",
    "<div align=\"center\"><span style=\"font-size: 26px;\"><strong>Matemática Aplicada <br></strong></span></div> <br>\n",
    "<center> <img src=\"python_gif.gif\" alt=\"gif_python\" width=\"80\"> </center>"
   ]
  },
  {
   "cell_type": "markdown",
   "id": "52af9bb6",
   "metadata": {},
   "source": [
    "<div style=\"border: 2px solid black; padding: 10px; width: 95%; background-color: lightgray; display: flex; align-items: center;\">\n",
    "    <h1 style=\"color: red; text-align: center; margin: auto;\">\n",
    "        Capítulo 7: Função Polinomial do Segundo Grau\n",
    "    </h1>\n",
    "</div>\n",
    "\n",
    "<font color='red'></font>\n",
    "<a href=\"\"></a>"
   ]
  },
  {
   "cell_type": "markdown",
   "id": "55c4bea9",
   "metadata": {},
   "source": [
    "A função polinomial do segundo grau, frequentemente representada pela forma $f(x) = ax^{2} + b + x$ onde $a,b$ e $c$ são constantes e $a \\neq 0$, é uma das expressões matemáticas mais fundamentais e versáteis. Originando-se na antiguidade e se estendendo até aplicações modernas em física, engenharia e economia, esta função tem a singularidade de produzir uma parábola quando graficada. A compreensão da forma, orientação e características dessa parábola, como seu vértice e pontos onde cruza o eixo, oferece insights importantes para resolver problemas práticos e teóricos. Assim, a função quadrática serve não apenas como um tópico crucial em cursos de álgebra, mas também como uma ferramenta indispensável em diversas disciplinas científicas."
   ]
  },
  {
   "cell_type": "markdown",
   "id": "4bcf7343",
   "metadata": {},
   "source": [
    "# <div style=\"margin-top: -20px;\">\n",
    "<hr style=\"border: 2px solid black;\">\n",
    "\n",
    "<font color='black'><span style=\"font-size: 22px;\"><strong>7.1 Definição e Exemplos</strong></span></font>\n",
    "\n",
    "<hr style=\"border: 2px solid black;\">\n",
    "</div>"
   ]
  },
  {
   "cell_type": "markdown",
   "id": "9fca6429",
   "metadata": {},
   "source": [
    "#### Situação Prática"
   ]
  },
  {
   "cell_type": "markdown",
   "id": "a77f6094",
   "metadata": {},
   "source": [
    "<center> <img src=\"fig7_1.jpg\" alt=\"jpg_python\" width=\"250\" height=\"\"> </center>"
   ]
  },
  {
   "cell_type": "markdown",
   "id": "be0d98e7",
   "metadata": {},
   "source": [
    "Vamos considerar o fenômeno que abrange o lançamento vertical de um objeto (no vácuo, por exemplo na Lua). Sabe-se, por meio das aulas de física, que ao lançarmos uma pedra para cima com certa velocidade inicial $v_{0}$ a partir da posição $h_{0}$ que esta tem sua posição $h$ em função do tempo $t$ dada pela função\n",
    "$$h(t) = h_{0} + v_{0}t - \\frac{g}{2}t^{2},$$\n",
    "em que $g$ corresponde a aceleração da gravidade (local).\n",
    "\n",
    "Na Terra, por exemplo, temos que uma pedra, arremessada para cima a uma velocidade de $100 \\, m m/s$, a partir do solo, em um ambiente controlado, isto é, sem resistência do ar, tem sua posição dada pela equação:\n",
    "$$h(t) = 0 + 100t - \\frac{9.8}{2}t^{2}$$\n",
    "$$h(t) = 100t - 4.9t^{2}$$\n",
    "As alturas obtidas durante os $5$ primeiros segundos, medidas a cada segundo, é apresentada no gráfico a seguir:<br><br>\n",
    "<center> <img src=\"fig7_2.jpg\" alt=\"jpg_python\" width=\"500\" height=\"\"> </center>"
   ]
  },
  {
   "cell_type": "markdown",
   "id": "16195db2",
   "metadata": {},
   "source": [
    "##### Perguntas"
   ]
  },
  {
   "cell_type": "markdown",
   "id": "0a4368f3",
   "metadata": {},
   "source": [
    "*1) Em qual instante a pedra irá atingir o solo, isto é, para qual valor de $t > 0$ teremos $h(t) = 0$?*\n",
    "\n",
    "*2) Em qual instante a pedra para de subir e passará a cair?*\n",
    "\n",
    "*3) Qual a altura máxima atingida pela pedra?*"
   ]
  },
  {
   "cell_type": "markdown",
   "id": "7896b116",
   "metadata": {},
   "source": [
    "##### Respostas \"Aproximadas\""
   ]
  },
  {
   "cell_type": "markdown",
   "id": "e7521aed",
   "metadata": {},
   "source": [
    "Podemos estimar as respostas a estas perguntas observando por mais tempo, digamos $30 \\,s$ e colocando mais pontos no nosso gráfico, com avaliações por exemplo nos instantes, $0.0, 0.1, 0.2, \\ldots, 30$.<br><br>\n",
    "<center> <img src=\"fig7_3.jpg\" alt=\"jpg_python\" width=\"350\" height=\"\"> </center>\n",
    "\n",
    "Sendo assim, temos as seguintes respostas aproximadas (por mim, o olho do professor):\n",
    "\n",
    "*1) A pedra retornará ao solo por volta de $20 \\ s$ após o lançamento;*\n",
    "\n",
    "*2) A pedra para de subir por volta de $10 \\ s$ após o lançamento;*\n",
    "\n",
    "*3) A altura máxima gira em torno de $500 \\ m$.*"
   ]
  },
  {
   "cell_type": "markdown",
   "id": "a552d004",
   "metadata": {},
   "source": [
    "##### Observação"
   ]
  },
  {
   "cell_type": "markdown",
   "id": "540651d2",
   "metadata": {},
   "source": [
    "Observe que as estimativas feitas para as perguntas , *1*, *2* e *3* são visuais e podem são ser exatamente precisas. Veremos que, uma vez sabendo a natureza do lançamento vertical, poderemos determinar com bastante precisão as respostas para cada uma destas e muitas outras perguntas."
   ]
  },
  {
   "cell_type": "markdown",
   "id": "58d447de",
   "metadata": {},
   "source": [
    "####  <font color='red'> Definição 1 </font>"
   ]
  },
  {
   "cell_type": "markdown",
   "id": "e50d8675",
   "metadata": {},
   "source": [
    "<font color='red'> Uma função $f: \\mathbb{R} \\rightarrow \\mathbb{R}$ é dita polinomial do segundo grau se pode ser escrita na forma $f(x) = ax^{2} + bx + c$, com $a$, $b$ e $c$ constantes reais e $a \\neq 0$."
   ]
  },
  {
   "cell_type": "markdown",
   "id": "0a51c517",
   "metadata": {},
   "source": [
    "####  <font color='blue'> Exemplo 1 </font>"
   ]
  },
  {
   "cell_type": "markdown",
   "id": "63521880",
   "metadata": {},
   "source": [
    "<font color='blue'> As seguintes funções são quadráticas:<br><br>\n",
    " a) $f(x) = x^{2} - 5x+6 \\Rightarrow a = 1, b = -5, c = 6$<br><br>\n",
    " b) $g(x) = -2x^{2} + 18 \\Rightarrow a = -2, b = 0, c = 18$<br><br>\n",
    " c) $h(t) = 100t - 4,9t^{2} \\Rightarrow a = -4,9, b = 100, c = 0$<br><br>"
   ]
  },
  {
   "cell_type": "markdown",
   "id": "5e5ea9aa",
   "metadata": {},
   "source": [
    "# <div style=\"margin-top: -20px;\">\n",
    "<hr style=\"border: 2px solid black;\">\n",
    "\n",
    "<font color='black'><span style=\"font-size: 22px;\"><strong>7.2 Esboço Gráfico</strong></span></font>\n",
    "\n",
    "<hr style=\"border: 2px solid black;\">\n",
    "</div>"
   ]
  },
  {
   "cell_type": "markdown",
   "id": "74d943bb",
   "metadata": {},
   "source": [
    "O gráfico de uma equação da forma descrita na **Definição 1** é uma parábola. \n",
    "\n",
    "<font color='red'>Uma parábola é uma seção cônica gerada pela interseção de uma superfície cônica de segundo grau e um plano paralelo à reta geratriz do cone, sendo que o plano não contém esta. Equivalentemente, uma parábola é a curva plana definida como o conjunto dos pontos que são equidistantes de um ponto dado (chamado de foco) e de uma reta dada (chamada de diretriz). </font>\n",
    "\n",
    "Os coeficientes $a$, $b$ e $c$ e também o delta $\\Delta$ ($\\Delta = b^{2} - 4ac$) nos fornecerão informações como: i) em que ponto o gráfico de $f$ intersecta o eixo-$x$, se a sua concavidade está voltada para cima ou para baixo, o valor mais alto ou mais baixo, conforme o caso etc.\n"
   ]
  },
  {
   "cell_type": "markdown",
   "id": "e55e101e",
   "metadata": {},
   "source": [
    "#### Significado do coeficiente \"a\""
   ]
  },
  {
   "cell_type": "markdown",
   "id": "92e70f11",
   "metadata": {},
   "source": [
    "Caso $a > 0$, teremos que o gráfico de $f$ corresponderá a uma parábola com concavidade (boca) voltada para cima. Caso contrário, isto é, $a < 0$, a concavidade será voltada para baixo.<br><br>\n",
    "<center> <img src=\"fig7_4.jpg\" alt=\"jpg_python\" width=\"250\" height=\"\"> </center>"
   ]
  },
  {
   "cell_type": "markdown",
   "id": "92a73d2b",
   "metadata": {},
   "source": [
    "Por exemplo, consideremos os gráficos das funções $f(x) = x^{2}$ ($a > 0$) e $g(x) = -x^{2} + 2$ ($a < 0$)."
   ]
  },
  {
   "cell_type": "code",
   "execution_count": 11,
   "id": "9a8afe89",
   "metadata": {},
   "outputs": [
    {
     "data": {
      "image/png": "[encoded data removed]",
      "text/plain": [
       "<Figure size 640x480 with 1 Axes>"
      ]
     },
     "metadata": {},
     "output_type": "display_data"
    }
   ],
   "source": [
    "# Módulo contendo funções matemáticas não nativas\n",
    "import numpy as np\n",
    "import matplotlib.pyplot as plt # Módulo necessário para o esboço de gráficos\n",
    "\n",
    "# Definindo uma função\n",
    "def f(x):\n",
    "    return x**2  #Repasse para -x**2 +10\n",
    "\n",
    "# Gerando o conjunto de entrada A\n",
    "x = np.arange(-10,10,0.1) # Intevalo de plotagem\n",
    "\n",
    "# Plotando as retas dos eixos x e y\n",
    "plt.axhline(0, color='black', linewidth=1.5)  # Reta do eixo x\n",
    "plt.axvline(0, color='black', linewidth=1.5)  # Reta do eixo y\n",
    "\n",
    "# Configurações adicionais\n",
    "plt.xlabel('Eixo-y')\n",
    "plt.ylabel('Eixo-x')\n",
    "plt.grid() # Grade\n",
    "\n",
    "\n",
    "# Plotando o gráfico\n",
    "plt.plot(x,f(x),'-',color='red') # '-' muda para uma linha ligando os pontos\n",
    "plt.show()"
   ]
  },
  {
   "cell_type": "markdown",
   "id": "1d8262c9",
   "metadata": {},
   "source": [
    "#### Significado do coeficiente \"c\""
   ]
  },
  {
   "cell_type": "markdown",
   "id": "e6fc1b73",
   "metadata": {},
   "source": [
    "Note que \n",
    "$$f(0) = a \\cdot 0^{2} + b \\cdot 0 + c \\Rightarrow f(0) = c.$$\n",
    "Sendo assim, o valor $c$ (correspondente ao ponto $(0,c)$) é o ponto de intersecção da parábola com o eixo-$y$.<br><br>\n",
    "<center> <img src=\"fig7_5.jpg\" alt=\"jpg_python\" width=\"120\" height=\"\"> </center>"
   ]
  },
  {
   "cell_type": "markdown",
   "id": "54086a71",
   "metadata": {},
   "source": [
    "Consideremos a função $f(x) = x^{2} - 3x + 1$ ($c = 1$)"
   ]
  },
  {
   "cell_type": "code",
   "execution_count": 31,
   "id": "db5c21b0",
   "metadata": {},
   "outputs": [
    {
     "data": {
      "image/png": "[encoded data removed]",
      "text/plain": [
       "<Figure size 640x480 with 1 Axes>"
      ]
     },
     "metadata": {},
     "output_type": "display_data"
    }
   ],
   "source": [
    "# Módulo contendo funções matemáticas não nativas\n",
    "import numpy as np\n",
    "import matplotlib.pyplot as plt # Módulo necessário para o esboço de gráficos\n",
    "\n",
    "# Definindo uma função\n",
    "def f(x):\n",
    "    return x**2 - 3*x + 1\n",
    "\n",
    "# Gerando o conjunto de entrada A\n",
    "x = np.arange(-0.5,3.5,0.1) # Intevalo de plotagem\n",
    "\n",
    "# Plotando as retas dos eixos x e y\n",
    "plt.axhline(0, color='black', linewidth=1.5)  # Reta do eixo x\n",
    "plt.axvline(0, color='black', linewidth=1.5)  # Reta do eixo y\n",
    "\n",
    "# Configurações adicionais\n",
    "plt.xlabel('Eixo-y')\n",
    "plt.ylabel('Eixo-x')\n",
    "plt.grid() # Grade\n",
    "\n",
    "\n",
    "# Plotando o gráfico\n",
    "plt.plot(x,f(x),'-',color='red') # '-' muda para uma linha ligando os pontos\n",
    "plt.show()"
   ]
  },
  {
   "cell_type": "markdown",
   "id": "6f9bec3d",
   "metadata": {},
   "source": [
    "#### As raízes e o delta"
   ]
  },
  {
   "cell_type": "markdown",
   "id": "120c540d",
   "metadata": {},
   "source": [
    "As raízes de uma função $f$ corresponde aos valores de $x$ para os quais $f(x) = 0$. Caso $x \\in \\mathbb{R}$ temos as abscissas dos pontos de interseção do gráfico de $f$ com o eixo-$x$. Em se tratando de uma função polinomial do segundo grau, temos uma fórmula para a obtenção das raízes a partir dos coeficientes $a$, $b$ e $c$. Contudo, como veremos, nem sempre essas raízes serão reais. A fórmula que nos fornece as raízes é dada por:\n",
    "$$x = \\frac{-b \\pm \\sqrt{\\Delta}}{2a}, \\ \\ \\Delta = b^{2}-4ac$$\n",
    "Nos casos em que $\\Delta < 0$, não teremos raízes reais. Seguem algumas informações sobre a natureza das raízes de $f$ em função do valor de $\\Delta$:"
   ]
  },
  {
   "cell_type": "markdown",
   "id": "499721a1",
   "metadata": {},
   "source": [
    "##### Delta > 0"
   ]
  },
  {
   "cell_type": "markdown",
   "id": "7662c9e9",
   "metadata": {},
   "source": [
    "A função $f$ possuirá duas raízes reais distintas: $x_{1} = \\frac{-b - \\sqrt{\\Delta}}{2a}$ e $x_{2} = \\frac{-b + \\sqrt{\\Delta}}{2a}$. Neste caso o gráfico de $f$ intersectará o eixo-$x$ em dois pontos distintos."
   ]
  },
  {
   "cell_type": "markdown",
   "id": "343edfdc",
   "metadata": {},
   "source": [
    "##### Delta = 0"
   ]
  },
  {
   "cell_type": "markdown",
   "id": "56f52111",
   "metadata": {},
   "source": [
    "$\\Delta = 0$: A função $f$ possuirá duas raízes reais iguais (não somente uma): $x_{1} = x_{2} =  \\frac{-b - \\sqrt{0}}{2a} = -\\frac{b}{2a}$. Neste caso, o gráfico de $f$ intersectará o eixo-$x$ em somente um ponto."
   ]
  },
  {
   "cell_type": "markdown",
   "id": "7da6479c",
   "metadata": {},
   "source": [
    "##### Delta < 0"
   ]
  },
  {
   "cell_type": "markdown",
   "id": "2269a478",
   "metadata": {},
   "source": [
    "A função $f$ possuirá duas raízes complexas (não reais) diferentes:\n",
    "$x_{1} = \\frac{-b - \\sqrt{\\Delta}}{2a}$ e $x_{2} = \\frac{-b + \\sqrt{\\Delta}}{2a}$. Neste caso, o gráfico de $f$ não intersectará o eixo-$x$, estando assim, sempre acima ou sempre abaixo deste."
   ]
  },
  {
   "cell_type": "markdown",
   "id": "61518848",
   "metadata": {},
   "source": [
    "##### Esquema geral ($a$ e $\\Delta$)"
   ]
  },
  {
   "cell_type": "markdown",
   "id": "fbadfc29",
   "metadata": {},
   "source": [
    "<center> <img src=\"fig7_6.jpg\" alt=\"jpg_python\" width=\"500\" height=\"\"> </center>"
   ]
  },
  {
   "cell_type": "markdown",
   "id": "514498e1",
   "metadata": {},
   "source": [
    "####  <font color='blue'> Exemplo 2 </font>"
   ]
  },
  {
   "cell_type": "markdown",
   "id": "8dcec9ff",
   "metadata": {},
   "source": [
    "<font color='blue'> Determine as raízes da função $f(x) = x^{2} - 5x + 6$."
   ]
  },
  {
   "cell_type": "markdown",
   "id": "679fd91b",
   "metadata": {},
   "source": [
    "#####  <font color='blue'> Solução </font>"
   ]
  },
  {
   "cell_type": "markdown",
   "id": "f4fbf63c",
   "metadata": {},
   "source": [
    "<font color='blue'> Usando a fórmula<br><br>\n",
    "$$x = \\frac{-b \\pm \\sqrt{\\Delta}}{2a}, \\ \\ \\Delta = b^{2}-4ac$$<br>\n",
    "temos<br><br>\n",
    "$$\\Delta = (-5)^2-4 \\cdot 1 \\cdot 6 = 1 \\Rightarrow x = \\frac{-(-5) \\pm \\sqrt{1}}{2 \\cdot 1} \\Rightarrow x_{1} = \\frac{5-1}{2} = 2 \\ \\ e \\ \\ x_{2} = \\frac{5+1}{2} = 3$$<br>\n",
    "Portanto, as raízes de $f$ são $2$ e $3$."
   ]
  },
  {
   "cell_type": "markdown",
   "id": "bed6ea19",
   "metadata": {},
   "source": [
    "Uma solução computacional para o **Exemplo 2** é dada na célula a seguir:"
   ]
  },
  {
   "cell_type": "code",
   "execution_count": 35,
   "id": "aba4de91",
   "metadata": {},
   "outputs": [
    {
     "name": "stdout",
     "output_type": "stream",
     "text": [
      "As raízes de f são: 2.0 e 3.0.\n"
     ]
    }
   ],
   "source": [
    "# Coeficientes\n",
    "a,b,c = 1,-5,6\n",
    "\n",
    "# Delta\n",
    "delta = b**2 - 4*a*c\n",
    "\n",
    "# Raizes\n",
    "x1 = (-b-delta**(1/2))/(2*a)\n",
    "x2 = (-b+delta**(1/2))/(2*a)\n",
    "\n",
    "# Imprimindo as raízes\n",
    "print(f'As raízes de f são: {x1} e {x2}.')"
   ]
  },
  {
   "cell_type": "markdown",
   "id": "5ca07251",
   "metadata": {},
   "source": [
    "#### O vértice"
   ]
  },
  {
   "cell_type": "markdown",
   "id": "b1707b7b",
   "metadata": {},
   "source": [
    "O vértice é o ponto mais baixo de uma parábola caso $a > 0$ ou mais alto caso $a < 0$.\n",
    "\n",
    "<center> <img src=\"fig7_7.jpg\" alt=\"jpg_python\" width=\"400\" height=\"\"> </center>\n",
    "\n",
    "As coordenadas do vértice $V = (x_{v},y_{v})$ são dadas por $x_{v} = -\\frac{b}{2a}$ e $y_{v} = -\\frac{\\Delta}{4a}$."
   ]
  },
  {
   "cell_type": "markdown",
   "id": "2a6cc346",
   "metadata": {},
   "source": [
    "####  <font color='blue'> Exemplo 3 </font>"
   ]
  },
  {
   "cell_type": "markdown",
   "id": "7de97625",
   "metadata": {},
   "source": [
    "<font color='blue'> Determine os vértices do parábola descrita pela função $f(x) = x^{2} - 5x + 6$."
   ]
  },
  {
   "cell_type": "markdown",
   "id": "14c55eae",
   "metadata": {},
   "source": [
    "#####  <font color='blue'> Solução </font>"
   ]
  },
  {
   "cell_type": "markdown",
   "id": "ac8a72ff",
   "metadata": {},
   "source": [
    "<font color='blue'> Aplicando as fórmulas $x_{v} = -\\frac{b}{2a}$ e $y_{v} = -\\frac{\\Delta}{4a}$, temos<br><br>\n",
    "$$x_{v} = -\\frac{-5}{2 \\cdot 1} = \\frac{5}{2} \\,\\, e \\,\\, y_{v} = -\\frac{1}{4 \\cdot 1} = -\\frac{1}{4} \\Rightarrow V  = \\left(\\frac{5}{2},-\\frac{1}{4}\\right).$$"
   ]
  },
  {
   "cell_type": "markdown",
   "id": "87f4f265",
   "metadata": {},
   "source": [
    "####  <font color='blue'> Exemplo 4 </font>"
   ]
  },
  {
   "cell_type": "markdown",
   "id": "5b0107c7",
   "metadata": {},
   "source": [
    "<font color='blue'> Junte os **Exemplos 2** e **3** e esboce o gráfico de $f(x) = x^{2} - 5x + 6$."
   ]
  },
  {
   "cell_type": "markdown",
   "id": "fb70e949",
   "metadata": {},
   "source": [
    "#####  <font color='blue'> Solução </font>"
   ]
  },
  {
   "cell_type": "markdown",
   "id": "3746079d",
   "metadata": {},
   "source": [
    "<font color='blue'> Temos o seguinte gráfico:<br><br>\n",
    "<center> <img src=\"fig7_8.jpg\" alt=\"jpg_python\" width=\"300\" height=\"\"> </center>"
   ]
  },
  {
   "cell_type": "markdown",
   "id": "51d6bb84",
   "metadata": {},
   "source": [
    "#### Retornando à situação incial"
   ]
  },
  {
   "cell_type": "markdown",
   "id": "27378d10",
   "metadata": {},
   "source": [
    "Voltemos à nossa questão inicial envolvendo o lançamento de uma pedra cujas alturas são dadas pela função $h(t) = 100t - 4.9t^{2}$. Note que esta é uma equação do segundo grau na variável $t$ com $a = -4.9$, $b = -100$ e $c = 0$. Sendo assim, podemos responder a cada uma das perguntas acima de forma mais precisa. Pois bem,\n",
    "\n",
    "*1) Em qual instante a pedra irá atingir o solo, isto é, para qual valor de $t > 0$ teremos $h(t) = 0$?*\n",
    "\n",
    "**Solução**: Note que os instantes em que $h(t)$ vale $0$, um no início do lançamento e o outro no final, são as raízes da função $h(t)$. Neste caso,<br><br>\n",
    "$$\\Delta = b^{2} - 4ac = 100^{2} - 4 \\cdot (-4.9) \\cdot 0 = 10000 \\Rightarrow t = \\frac{-b \\pm \\sqrt{\\Delta}}{2a} = \\frac{-100 \\pm \\sqrt{10000}}{2 \\cdot (-4.9)} \\Rightarrow $$<br>\n",
    "$$\\Rightarrow t_{1} = \\frac{-100 - \\sqrt{10000}}{-9.8} = \\frac{-200}{-9.8} \\approx 20.41 \\,\\, e \\,\\, t_{2} = \\frac{-100 + \\sqrt{10000}}{-9.8} = \\frac{0}{-9.8} = 0$$<br>\n",
    "Portanto, a pedra atingirá o solo no instante $20.4 \\ s$.<br><br>\n",
    "\n",
    "*2) Em qual instante a pedra para de subir e passa a cair?*\n",
    "\n",
    "**Solução**: Note que o instante em que a pedra para de subir e passa a cair é dado por $t_{v}$ (equivalente a $x_{v}$). Neste caso,<br><br>\n",
    "$$t_{v} = -\\frac{b}{2a} = -\\frac{100}{2\\cdot(-4.9)} \\approx 10.2$$<br>\n",
    "Portanto, a pedra para de subir e passa a cair no instante $10.2 \\ s$.<br><br>\n",
    "\n",
    "*3) Qual a altura máxima atingida pela pedra?*\n",
    "\n",
    "**Solução**: A altura máxima atingida pela pedra ocorre exatamente no instante em que esta para de subir e passa a cair. Podemos obter a altura máxima calculando o $h_{v}$ (equivalente ao $y_{v}$). Pois bem,<br><br>\n",
    "$$h_{v} = -\\frac{\\Delta}{4a} = -\\frac{10000}{4\\cdot(-4.9)} \\approx 510.2 \\ m.$$<br>\n",
    "Portanto, a altura máxima é dada por $510.2 \\ m$.<br><br>\n",
    "\n",
    "Volte às soluções aproximadas dadas anteriormente e compare os resultados!"
   ]
  },
  {
   "cell_type": "markdown",
   "id": "b10e58a2",
   "metadata": {},
   "source": [
    "# <div style=\"margin-top: -20px;\">\n",
    "<hr style=\"border: 2px solid black;\">\n",
    "\n",
    "<font color='black'><span style=\"font-size: 22px;\"><strong>7.3 Exercícios</strong></span></font>\n",
    "\n",
    "<hr style=\"border: 2px solid black;\">\n",
    "</div>"
   ]
  },
  {
   "cell_type": "markdown",
   "id": "cfe6c7e8",
   "metadata": {},
   "source": [
    "#### Exercício 1"
   ]
  },
  {
   "cell_type": "markdown",
   "id": "abeb8ed1",
   "metadata": {},
   "source": [
    "Para cada uma das funções quadráticas dadas a seguir, determine:\n",
    "\n",
    "i) As raízes;\n",
    "\n",
    "ii) O vértice;\n",
    "\n",
    "iii) O esboço gráfico.\n",
    "\n",
    "a) $f(x) = x^{2} + x - 2$ $\\ \\ \\ \\ \\ $ b) $g(x) = 2x^{2} - 18$ $\\ \\ \\ $ c) $h(x) = -x^{2} + 4x - 4$\n",
    "\n",
    "d) $k(x) = -10x + 3x^{2}$ $\\ \\ \\ $ e) $s(x) = -x^{2} - 4$"
   ]
  },
  {
   "cell_type": "markdown",
   "id": "f5eced0c",
   "metadata": {},
   "source": [
    "#### Exercício 2"
   ]
  },
  {
   "cell_type": "markdown",
   "id": "5a935fbd",
   "metadata": {},
   "source": [
    "Observando o gráfico de $f(x) = x^{2} - 2x - 3$, determine para quais valores de $x$, temos que $f(x) > 0$."
   ]
  },
  {
   "cell_type": "markdown",
   "id": "ee46739c",
   "metadata": {},
   "source": [
    "#### Exercício 3"
   ]
  },
  {
   "cell_type": "markdown",
   "id": "77243510",
   "metadata": {},
   "source": [
    "Observando o gráfico de $f(x) = x^{2} + 1$, determine para quais valores de $x$, temos que $f(x) < 0$. "
   ]
  },
  {
   "cell_type": "markdown",
   "id": "5ac2c9e1",
   "metadata": {},
   "source": [
    "#### Exercício 4"
   ]
  },
  {
   "cell_type": "markdown",
   "id": "68e7346b",
   "metadata": {},
   "source": [
    "A função a seguir foi formulada para estimar o peso semanal de um indivíduo, pesando $80\\,kg$ ($80000\\,g$), seguindo certa rotina de atividade física e alimentação.<br><br>\n",
    "$$P(t) = 80000 - 1500t + 50t^{2},$$<br>\n",
    "em que $t$ é dado em semanas $P$ em gramas. A função em questão só estima o peso em até $10$ semanas após iniciada a rotina de atividades propostas. Com base nestas informações:\n",
    "\n",
    "a) Qual o peso inicial do indivíduo.\n",
    "\n",
    "b) Qual o peso estimado deste indivíduo após $3$ semanas seguindo a rotina em questão?\n",
    "\n",
    "c) A variação de peso observada entre uma semana e a próxima é sempre constante ao longo das semanas? Justifique."
   ]
  },
  {
   "cell_type": "markdown",
   "id": "4e568688",
   "metadata": {},
   "source": [
    "#### Exercício 5"
   ]
  },
  {
   "cell_type": "markdown",
   "id": "955e04ca",
   "metadata": {},
   "source": [
    "Um objeto é lançado, para cima, a uma velocidade de $30 \\, m/s$ a partir de uma plataforma Lunar a $70\\, m$ do solo.<br><br>\n",
    "<center> <img src=\"fig7_9.jpg\" alt=\"jpg_python\" width=\"350\" height=\"\"> </center><br>\n",
    "Admitindo a gravidade da Lua sendo $1,6 \\, m/s^{2}$, determine:\n",
    "\n",
    "a) A função modela este movimento?\n",
    "\n",
    "b) O instante o objeto irá atingir o solo?\n",
    "\n",
    "c) O instante o objeto atingirá a altura máxima?\n",
    "\n",
    "d) A altura máxima atingida pele objeto?"
   ]
  },
  {
   "cell_type": "markdown",
   "id": "1cdedc46",
   "metadata": {},
   "source": [
    "## <div style=\"margin-top: -20px;\">\n",
    "<hr style=\"border: 2px solid black;\">\n",
    "\n",
    "<font color='black'><span style=\"font-size: 18px;\"><strong>Respostas</strong></span></font>\n",
    "\n",
    "<hr style=\"border: 2px solid black;\">\n",
    "</div>"
   ]
  },
  {
   "cell_type": "markdown",
   "id": "d96f9cb2",
   "metadata": {},
   "source": [
    "#### Respostas do Exercício 1"
   ]
  },
  {
   "cell_type": "markdown",
   "id": "4fc35b37",
   "metadata": {},
   "source": [
    "a) i) $x_{1} = -2$, $x_{2} = 1$, ii) $V = (-0.5,-2.25)$; b) i) $x_{1} = -3$, $x_{2} = 3$, ii) $V = (0,-18)$; c) i) $x_{1} = x_{2} = 2$, ii) $V = (2,0)$; d) i) $x_{1} = 0$, $x_{2} = \\frac{10}{3}$, ii) $V = \\left(\\frac{5}{3},-\\frac{25}{3}\\right)$; e) i) $x_{1} = x_{2} = 0$, ii) $V = (0,0)$\n",
    "Os gráficos são dados a seguir:<br><br>\n",
    "<center> <img src=\"fig7_10.jpg\" alt=\"jpg_python\" width=\"500\" height=\"\"> </center><br><br>\n",
    "<center> <img src=\"fig7_11.jpg\" alt=\"jpg_python\" width=\"500\" height=\"\"> </center><br>"
   ]
  },
  {
   "cell_type": "markdown",
   "id": "8f1d3f5f",
   "metadata": {},
   "source": [
    "#### Respostas do Exercício 2"
   ]
  },
  {
   "cell_type": "markdown",
   "id": "d32045ca",
   "metadata": {},
   "source": [
    "$x < -1$ ou $x > 3$<br><br>\n",
    "<center> <img src=\"fig7_12.jpg\" alt=\"jpg_python\" width=\"400\" height=\"\"> </center><br>"
   ]
  },
  {
   "cell_type": "markdown",
   "id": "824c9846",
   "metadata": {},
   "source": [
    "#### Respostas do Exercício 3"
   ]
  },
  {
   "cell_type": "markdown",
   "id": "3e77d4ab",
   "metadata": {},
   "source": [
    "Para nenhum valor de $x$ temos $f(x) = x^{2} + 1$ negativa. O gráfico está todo acima do eixo-$x$.<br><br>\n",
    "<center> <img src=\"fig7_13.jpg\" alt=\"jpg_python\" width=\"350\" height=\"\"> </center><br>\n",
    " "
   ]
  },
  {
   "cell_type": "markdown",
   "id": "d9ecac4b",
   "metadata": {},
   "source": [
    "#### Respostas do Exercício 4"
   ]
  },
  {
   "cell_type": "markdown",
   "id": "a0ad3dd3",
   "metadata": {},
   "source": [
    "a) $80000 \\ g$, b) $75950 \\ g = 75.950 \\ kg$, c) Não. Basta notar, por exemplo, que $P(2)-P(1) = -1350$ e $P(3)-P(2) = -1250$ são diferentes."
   ]
  },
  {
   "cell_type": "markdown",
   "id": "8730118d",
   "metadata": {},
   "source": [
    "#### Respostas do Exercício 5"
   ]
  },
  {
   "cell_type": "markdown",
   "id": "020cd6e7",
   "metadata": {},
   "source": [
    "a) $h(t) = 70 + 30t - 0.8t^{2}$, b) $39.7 \\ s$, c) $18.75 \\ s$, d) $351.25 \\ m$"
   ]
  },
  {
   "cell_type": "markdown",
   "id": "9e4a04e6",
   "metadata": {},
   "source": [
    "# <div style=\"margin-top: -20px;\">\n",
    "<hr style=\"border: 2px solid black;\">\n",
    "\n",
    "<font color='black'><span style=\"font-size: 22px;\"><strong>7.4 Vídeo Aulas</strong></span></font>\n",
    "\n",
    "<hr style=\"border: 2px solid black;\">\n",
    "</div>"
   ]
  },
  {
   "cell_type": "markdown",
   "id": "42dc0ec2",
   "metadata": {},
   "source": [
    "Clicando nos links a seguir você será redirecionado às aulas referentes a este capítulo.\n",
    "\n",
    "[Introdução ao Estudo da Função Quadrática](https://youtu.be/-hyjI1o_oRo)\n",
    "\n",
    "[Usando o GeoGebra Para o Esboço de Uma Função Quadrática](https://youtu.be/y9uZ95rjKEQ)\n",
    "\n",
    "[Definindo a Função Quadrática](https://youtu.be/MsmmQHCnhKM)\n",
    "\n",
    "[Coeficientes 'a', 'c' e Raízes da Função Quadrática](https://youtu.be/lUelz2Rt2TM)\n",
    "\n",
    "[Vértice da Parábola e Esboço Gráfico](https://youtu.be/BX56Rh2CUN8)\n",
    "\n",
    "[Exercício 1: Esboço Gráfico da Função Quadrática](https://youtu.be/MqN22scL6wk)\n",
    "\n",
    "[Exercício 2: Inequação Quadrática](https://youtu.be/VQicuIN6NU0)\n",
    "\n",
    "[Exercício 3: Inequação Quadrática](https://youtu.be/Wi0o4CHUze4)\n",
    "\n",
    "[Exercício 4: Problema Envolvendo Função Quadrática](https://youtu.be/Q56-6tN7hwM)\n",
    "\n",
    "[Exercício 5: Problema Envolvendo Função Quadrática](https://youtu.be/YO403nWfwo4)"
   ]
  }
 ],
 "metadata": {
  "kernelspec": {
   "display_name": "Python 3 (ipykernel)",
   "language": "python",
   "name": "python3"
  },
  "language_info": {
   "codemirror_mode": {
    "name": "ipython",
    "version": 3
   },
   "file_extension": ".py",
   "mimetype": "text/x-python",
   "name": "python",
   "nbconvert_exporter": "python",
   "pygments_lexer": "ipython3",
   "version": "3.11.5"
  },
  "varInspector": {
   "cols": {
    "lenName": 16,
    "lenType": 16,
    "lenVar": 40
   },
   "kernels_config": {
    "python": {
     "delete_cmd_postfix": "",
     "delete_cmd_prefix": "del ",
     "library": "var_list.py",
     "varRefreshCmd": "print(var_dic_list())"
    },
    "r": {
     "delete_cmd_postfix": ") ",
     "delete_cmd_prefix": "rm(",
     "library": "var_list.r",
     "varRefreshCmd": "cat(var_dic_list()) "
    }
   },
   "types_to_exclude": [
    "module",
    "function",
    "builtin_function_or_method",
    "instance",
    "_Feature"
   ],
   "window_display": false
  }
 },
 "nbformat": 4,
 "nbformat_minor": 5
}
