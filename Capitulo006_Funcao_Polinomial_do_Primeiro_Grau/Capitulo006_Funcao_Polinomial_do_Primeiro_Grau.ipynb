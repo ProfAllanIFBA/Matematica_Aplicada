{
 "cells": [
  {
   "cell_type": "markdown",
   "id": "de40f19b",
   "metadata": {},
   "source": [
    "<center> <img src=\"logo_ifba.jpg\" alt=\"jpg_python\" width=\"100\" height=\"\"> </center>\n",
    "<br><br>\n",
    "<div align=\"center\"><span style=\"font-size: 26px;\"><strong>Matemática Aplicada <br></strong></span></div> <br>\n",
    "<center> <img src=\"python_gif.gif\" alt=\"gif_python\" width=\"80\"> </center>"
   ]
  },
  {
   "cell_type": "markdown",
   "id": "52af9bb6",
   "metadata": {},
   "source": [
    "<div style=\"border: 2px solid black; padding: 10px; width: 95%; background-color: lightgray; display: flex; align-items: center;\">\n",
    "    <h1 style=\"color: red; text-align: center; margin: auto;\">\n",
    "        Capítulo 6: Função Polinomial do Primeiro Grau\n",
    "    </h1>\n",
    "</div>\n",
    "\n",
    "<font color='red'></font>\n",
    "<a href=\"\"></a>"
   ]
  },
  {
   "cell_type": "markdown",
   "id": "0c2310e1",
   "metadata": {},
   "source": [
    "A função polinomial do primeiro grau, também conhecida como função linear, desempenha um papel fundamental na análise matemática e nas aplicações do cotidiano. Essa classe de funções é caracterizada por sua forma simples e direta, expressa pela equação f(x) = ax + b, onde 'a' representa a inclinação da reta e 'b' é o coeficiente linear. Através da função polinomial do primeiro grau, é possível modelar relações lineares entre variáveis, calcular taxas de variação e prever comportamentos lineares em diversos contextos, da matemática financeira à ciência dos dados. Por exemplo, em economia, pode-se usar uma função afim para modelar a relação entre o preço de um bem e a quantidade oferecida, ou entre o salário de um trabalhador e sua produtividade. Em física, pode-se usar uma função afim para modelar a relação entre a força aplicada a um objeto e a sua aceleração."
   ]
  },
  {
   "cell_type": "markdown",
   "id": "4bcf7343",
   "metadata": {},
   "source": [
    "# <div style=\"margin-top: -20px;\">\n",
    "<hr style=\"border: 2px solid black;\">\n",
    "\n",
    "<font color='black'><span style=\"font-size: 22px;\"><strong>6.1 Definição e Exemplos</strong></span></font>\n",
    "\n",
    "<hr style=\"border: 2px solid black;\">\n",
    "</div>"
   ]
  },
  {
   "cell_type": "markdown",
   "id": "bf2f5da8",
   "metadata": {},
   "source": [
    "#### Situação Prática"
   ]
  },
  {
   "cell_type": "markdown",
   "id": "d7711954",
   "metadata": {},
   "source": [
    "<center> <img src=\"fig6_1.jpg\" alt=\"jpg_python\" width=\"300\" height=\"200\"> </center>\n",
    "\n",
    "Vamos considerar a seguinte situação: Uma empresa de transporte turístico oferece viagens a um custo fixo de $R\\$ 2.000,00$ correspondente ao aluguel de um ônibus, mais $R\\$ 8,00$ por $km$ rodado. Com base nestas informações respondamos duas perguntas:"
   ]
  },
  {
   "cell_type": "markdown",
   "id": "184099f4",
   "metadata": {},
   "source": [
    "##### Perguntas"
   ]
  },
  {
   "cell_type": "markdown",
   "id": "312e1910",
   "metadata": {},
   "source": [
    "*1)  Paulo e alguns amigos fretaram um ônibus para uma viagem (ida e volta) de $620 \\, km$. Quanto terão que desembolsar para a viagem?*\n",
    "\n",
    "*2) Ana e alguns amigos do trabalho juntaram um montante de $R\\$ \\ 4400,00$ para conhecer alguns pontos turísticos de certa região. Qual a quantidade máxima de $km$ poderão rodar (contando ida e volta)?*"
   ]
  },
  {
   "cell_type": "markdown",
   "id": "8bdc5cf9",
   "metadata": {},
   "source": [
    "##### Respostas"
   ]
  },
  {
   "cell_type": "markdown",
   "id": "8c3093ad",
   "metadata": {},
   "source": [
    "Podemos modelar tal situação acima por meio de uma função da forma:<br><br>\n",
    "$$C(x) = 8x + 2000,$$<br>\n",
    "em que $x$ representa a distância percorrida e $C(x)$ o custo em percorrer tal distância. Assim, podemos responder as perguntas i e ii por simples substituições:\n",
    "\n",
    "**Resposta da Pergunta 1**: Para obtermos o custo de uma viagem de $x$ quilômetros basta substituirmos o valor de $x$ na expressão dada. Pois bem,<br><br>\n",
    "$$C(620) = 8 \\cdot 620 + 2000 = 6960$$<br>\n",
    "Sendo assim, serão necessários $R\\$ \\ 6960,00$ para realizar toda a viagem.\n",
    "\n",
    "**Resposta da Pergunta 2**: Neste caso, devemos obter $x$ tal que $C(x) = 4400$. Sendo assim, basta substituirmos $C(x)$ por $4400$ na expressão dada e calcularmos $x$. Pois bem,<br><br>\n",
    "$$C(x) = 4400 \\Rightarrow 8x + 2000 = 4400 \\Rightarrow 8x = 4400-2000 \\Rightarrow 8x = 2400 \\Rightarrow x = \\frac{2400}{8} \\Rightarrow x = 300$$<br>\n",
    "Sendo assim, Ana e seus amigos poderão rodar por $300 \\ km$ para conhecer pontos turísticos da região."
   ]
  },
  {
   "cell_type": "markdown",
   "id": "192eff86",
   "metadata": {},
   "source": [
    "####  <font color='red'> Definição 1 </font>"
   ]
  },
  {
   "cell_type": "markdown",
   "id": "727c583d",
   "metadata": {},
   "source": [
    "<font color='red'> Uma função $f: \\mathbb{R} \\rightarrow \\mathbb{R}$ é dita afim quando é escrita na forma $f(x) = ax + b$ com $a$ e $b$ constantes reais. O valor $a$ é chamado de coeficiente angular ou taxa de variação da função. O valor $b$ é chamado de coeficiente linear."
   ]
  },
  {
   "cell_type": "markdown",
   "id": "eef6f272",
   "metadata": {},
   "source": [
    "#### Denotações"
   ]
  },
  {
   "cell_type": "markdown",
   "id": "1b51aeb3",
   "metadata": {},
   "source": [
    "Uma função da forma dada na **Definição 1** recebe algumas denominações em função dos valores de $a$ e $b$. Caso $a = 0$ diremos que a função é constante. Caso $a \\neq 0$ e $b = 0$ diremos que a função é dita linear. Caso $a \\neq 0$ e $b \\neq 0$ diremos que a função é, simplesmente, afim."
   ]
  },
  {
   "cell_type": "markdown",
   "id": "842e5032",
   "metadata": {},
   "source": [
    "####  <font color='blue'> Exemplo 1 </font>"
   ]
  },
  {
   "cell_type": "markdown",
   "id": "88dee631",
   "metadata": {},
   "source": [
    "<font color='blue'> Classifique cada uma das funções a seguir em afim, linear ou constante.<br><br>\n",
    "a) $f(x) = -x$ $\\ \\ \\ \\ \\ \\ \\ \\ \\ \\ \\ \\ \\ \\ \\ \\ \\ \\ \\ \\ $ b) $g(x) = 2$ $\\ \\ \\ \\ \\ \\ \\ \\ \\ \\ \\ \\ \\ \\ \\ \\ \\ \\ \\ \\ $ c) $h(x) = 3x + 3$"
   ]
  },
  {
   "cell_type": "markdown",
   "id": "77e1de04",
   "metadata": {},
   "source": [
    "#####  <font color='blue'> Solução </font>"
   ]
  },
  {
   "cell_type": "markdown",
   "id": "68e83f80",
   "metadata": {},
   "source": [
    "<font color='blue'>Temos que<br><br>\n",
    " a) $f$ é linear pois $a = -1$ e $b = 0$.<br><br>\n",
    " b) $g$ e constante pois $a = 0$ e $b = 2$.<br><br>\n",
    " c) $h$ é afim pois $a = 3$ e $b = 3$."
   ]
  },
  {
   "cell_type": "markdown",
   "id": "ff43e2ea",
   "metadata": {},
   "source": [
    "# <div style=\"margin-top: -20px;\">\n",
    "<hr style=\"border: 2px solid black;\">\n",
    "\n",
    "<font color='black'><span style=\"font-size: 22px;\"><strong>6.2 Esboço Gráfico</strong></span></font>\n",
    "\n",
    "<hr style=\"border: 2px solid black;\">\n",
    "</div>"
   ]
  },
  {
   "cell_type": "markdown",
   "id": "fec74f9c",
   "metadata": {},
   "source": [
    "O gráfico de uma função afim (linear ou constante) é dado por uma reta. Neste caso, basta tomarmos a reta que passa por dois pontos distintos $A = (x_{1},f(x_{1}))$ e $B = (x_{2},f(x_{2}))$."
   ]
  },
  {
   "cell_type": "markdown",
   "id": "cbcc0ea4",
   "metadata": {},
   "source": [
    "####  <font color='blue'> Exemplo 2 </font>"
   ]
  },
  {
   "cell_type": "markdown",
   "id": "a69ef5d4",
   "metadata": {},
   "source": [
    "<font color='blue'> Esboce os gráficos das funções a seguir:<br><br>\n",
    "a) $f(x) = -x$ $\\ \\ \\ \\ \\ \\ \\ \\ \\ \\ \\ \\ \\ \\ \\ \\ \\ \\ \\ \\ $ b) $g(x) = 2$ $\\ \\ \\ \\ \\ \\ \\ \\ \\ \\ \\ \\ \\ \\ \\ \\ \\ \\ \\ \\ $ c) $h(x) = 3x + 3$"
   ]
  },
  {
   "cell_type": "markdown",
   "id": "5b85f74c",
   "metadata": {},
   "source": [
    "#####  <font color='blue'> Solução </font>"
   ]
  },
  {
   "cell_type": "markdown",
   "id": "8ebf5d4c",
   "metadata": {},
   "source": [
    "<font color='blue'> Para os três exemplos, vamos considerar os pontos de abscissa $x = 0$ e $x = 1$. Temos os seguintes gráficos:<br><br>\n",
    "<center> <img src=\"fig6_2.jpg\" alt=\"jpg_python\" width=\"600\" height=\"\"> </center><br>\n",
    "\n",
    "<font color='blue'> ***Observação***: *Os gráficos a acima foram feitos na plataforma [GeoGebra](https://www.geogebra.org/graphing?lang=pt)*"
   ]
  },
  {
   "cell_type": "markdown",
   "id": "a18121a0",
   "metadata": {},
   "source": [
    "#### Plotando gráficos com o Jupyter"
   ]
  },
  {
   "cell_type": "markdown",
   "id": "e46539c9",
   "metadata": {},
   "source": [
    "O código a seguir, usado no **Capítulo 5** apresentará o esboço de cada um dos gráficos dados."
   ]
  },
  {
   "cell_type": "code",
   "execution_count": 6,
   "id": "f5fc1acd",
   "metadata": {
    "ExecuteTime": {
     "end_time": "2023-08-23T13:37:06.864157Z",
     "start_time": "2023-08-23T13:37:06.630781Z"
    }
   },
   "outputs": [
    {
     "data": {
      "text/plain": [
       "[<matplotlib.lines.Line2D at 0x13e5919f6d0>]"
      ]
     },
     "execution_count": 6,
     "metadata": {},
     "output_type": "execute_result"
    },
    {
     "data": {
      "image/png": "[encoded data removed]",
      "text/plain": [
       "<Figure size 640x480 with 1 Axes>"
      ]
     },
     "metadata": {},
     "output_type": "display_data"
    }
   ],
   "source": [
    "# Módulo contendo funções matemáticas não nativas\n",
    "import numpy as np\n",
    "import matplotlib.pyplot as plt # Módulo necessário para o esboço de gráficos\n",
    "\n",
    "# Definindo uma função\n",
    "def f(x):\n",
    "    return -x   #Repasse para 0*x + 2 e 3x + 3\n",
    "\n",
    "# Gerando o conjunto de entrada A\n",
    "x = np.arange(-10,10) # Intevalo de plotagem\n",
    "\n",
    "# Configurações adicionais\n",
    "plt.title('Gráfico da função')\n",
    "plt.xlabel('Eixo-y')\n",
    "plt.ylabel('Eixo-x')\n",
    "plt.grid() # Grade\n",
    "\n",
    "\n",
    "# Plotando o gráfico\n",
    "plt.plot(x,f(x),'-',color='red') # '-' muda para uma linha ligando os pontos"
   ]
  },
  {
   "cell_type": "markdown",
   "id": "9bb57059",
   "metadata": {},
   "source": [
    "#### Melhores pontos"
   ]
  },
  {
   "cell_type": "markdown",
   "id": "dce99f96",
   "metadata": {},
   "source": [
    "De modo mais preciso, dois pontos (notáveis) merecem destaque, são eles a intersecção com eixo-$x$ ($y = 0$) e com o eixo-$y$ ($x = 0$). Note que:<br><br>\n",
    "i) $y = 0 \\Rightarrow ax + b = 0 \\Rightarrow ax = -b \\Rightarrow x = -\\frac{b}{a} \\Rightarrow A = \\left(-\\frac{b}{a},0\\right)$<br><br>\n",
    "ii) $x = 0 \\Rightarrow a \\cdot 0 + b = b \\Rightarrow B = (0,b)$<br><br>\n",
    "De modo genérico, temos:<br><br>\n",
    "<center> <img src=\"fig6_3.jpg\" alt=\"jpg_python\" width=\"250\" height=\"\"> </center><br>\n",
    "O valor de $x$ para o qual $y = 0$ é chamado de raiz da função. \n"
   ]
  },
  {
   "cell_type": "markdown",
   "id": "04b4d241",
   "metadata": {},
   "source": [
    "####  <font color='blue'> Exemplo 3 </font>"
   ]
  },
  {
   "cell_type": "markdown",
   "id": "24a2dd40",
   "metadata": {},
   "source": [
    "<font color='blue'> Com base nas informações anteriores esboce o gráfico de $f(x) = 2x + 1$."
   ]
  },
  {
   "cell_type": "markdown",
   "id": "32ed6bb7",
   "metadata": {},
   "source": [
    "#####  <font color='blue'> Solução </font>"
   ]
  },
  {
   "cell_type": "markdown",
   "id": "6a04d593",
   "metadata": {},
   "source": [
    "<font color='blue'>Temos que<br><br>\n",
    " i) $y = 0 \\Rightarrow 2x + 1 = 0 \\Rightarrow 2x = -1 \\Rightarrow x = -\\frac{1}{2} \\Rightarrow A = \\left(-\\frac{1}{2},0\\right)$<br><br>\n",
    " ii) $x = 0 \\Rightarrow y = 2 \\cdot 0 + 1 \\Rightarrow y = 1 \\Rightarrow B = (0,1)$<br><br>\n",
    " Temos portanto, o seguinte gráfico:\n",
    "<center> <img src=\"fig6_4.jpg\" alt=\"jpg_python\" width=\"250\" height=\"\"> </center><br>"
   ]
  },
  {
   "cell_type": "markdown",
   "id": "9ec61a0e",
   "metadata": {},
   "source": [
    "#### O coeficiente $a$ e o crescimento da função"
   ]
  },
  {
   "cell_type": "markdown",
   "id": "a2a4fd42",
   "metadata": {},
   "source": [
    "Note que se $a > 0$, o valor de $f(x)$ aumenta conforme $x$ aumenta (Observe o **Exemplo 2** item 'c'). Caso $a < 0$, o valor de $f(x)$ diminui quando o valor de $x$ aumenta (**Exemplo 2** item 'a') . Por fim, caso $a = 0$, o valor de $f(x)$ permanece inalterado, sempre igual a $b$ (**Exemplo 3** item 'b'). Neste casos, temos as seguintes classificações:\n",
    "\n",
    "i) $a > 0 \\Rightarrow$ $f$ é dita crescente.\n",
    "\n",
    "ii) $a < 0 \\Rightarrow$ $f$ é dita decrescente.\n",
    "\n",
    "iii) $a = 0 \\Rightarrow$ $f$ é dita constante (conforme dito anteriormente)."
   ]
  },
  {
   "cell_type": "markdown",
   "id": "a006653a",
   "metadata": {},
   "source": [
    "####  <font color='blue'> Exemplo 4 </font>"
   ]
  },
  {
   "cell_type": "markdown",
   "id": "6d15591b",
   "metadata": {},
   "source": [
    "<font color='blue'> Classifique cada uma das funções a seguir em crescente, decrescente ou constante:<br><br>\n",
    "a) $f(x) = 4 - x$ $\\ \\ \\ \\ \\ \\ \\ \\ \\ \\ \\ \\ \\ \\ \\ \\ \\ \\ \\ \\ $ b) $g(x) = -3$ $\\ \\ \\ \\ \\ \\ \\ \\ \\ \\ \\ \\ \\ \\ \\ \\ \\ \\ \\ \\ $ c) $h(x) = 3x - 1$\n"
   ]
  },
  {
   "cell_type": "markdown",
   "id": "49cf409b",
   "metadata": {},
   "source": [
    "#####  <font color='blue'> Solução </font>"
   ]
  },
  {
   "cell_type": "markdown",
   "id": "a5aadc5f",
   "metadata": {},
   "source": [
    "<font color='blue'> Temos que<br><br>\n",
    " a) $f$ é decrescente pois $a = -1 < 0$.<br><br>\n",
    " b) $g$ é constante pois $a = 0$.<br><br>\n",
    " c) $h$ é crescente pois $a = 3 > 0$.<br><br>\n",
    " *Use o código anterior para esboçar os gráficos de $f$, $g$ e $h$.*"
   ]
  },
  {
   "cell_type": "markdown",
   "id": "43b4c1fa",
   "metadata": {
    "ExecuteTime": {
     "end_time": "2023-08-23T14:01:20.762906Z",
     "start_time": "2023-08-23T14:01:20.758911Z"
    }
   },
   "source": [
    "#### O coeficiente $a$ e a inclinação da reta"
   ]
  },
  {
   "cell_type": "markdown",
   "id": "e4a45d4a",
   "metadata": {},
   "source": [
    "\n",
    "Quanto maior o valor de \"a\" mais inclinada será a reta correspondente ao gráfico de $f$ (mais proxima de uma reta vertical). O ângulo $\\theta$ de inclinação desta reta é dado por $arctg(a)$ (O arco tangente é o ângulo entre o eixo $x$ para uma linha que contém a origem $(0, 0)$ e um ponto com coordenadas $(x, y)$)."
   ]
  },
  {
   "cell_type": "markdown",
   "id": "67ff95b3",
   "metadata": {},
   "source": [
    "O código a seguir nos mostrará como a variação de $a$ afeta a inclinação da reta. Nele consideraremos três funções $f(x) = \\frac{1}{2}x$ (azul), $g(x) = x $ (vermelha) e $h(x) = 2x$ (verde)."
   ]
  },
  {
   "cell_type": "code",
   "execution_count": 1,
   "id": "83f1eb4f",
   "metadata": {
    "ExecuteTime": {
     "end_time": "2023-09-11T14:10:23.797769Z",
     "start_time": "2023-09-11T14:10:23.027175Z"
    }
   },
   "outputs": [
    {
     "data": {
      "text/plain": [
       "[<matplotlib.lines.Line2D at 0x2af8dc57010>]"
      ]
     },
     "execution_count": 1,
     "metadata": {},
     "output_type": "execute_result"
    },
    {
     "data": {
      "image/png": "[encoded data removed]",
      "text/plain": [
       "<Figure size 640x480 with 1 Axes>"
      ]
     },
     "metadata": {},
     "output_type": "display_data"
    }
   ],
   "source": [
    "# Módulo contendo funções matemáticas não nativas\n",
    "import numpy as np\n",
    "import matplotlib.pyplot as plt # Módulo necessário para o esboço de gráficos\n",
    "\n",
    "# Definindo uma função\n",
    "def f(x):\n",
    "    return (1/2)*x,x,2*x\n",
    "\n",
    "# Gerando o conjunto de entrada A\n",
    "x = np.arange(-10,10) # Intevalo de plotagem\n",
    "\n",
    "# Plotando as retas dos eixos x e y\n",
    "plt.axhline(0, color='black', linewidth=2)  # Reta do eixo x\n",
    "plt.axvline(0, color='black', linewidth=2)  # Reta do eixo y\n",
    "\n",
    "# Configurações adicionais\n",
    "plt.title('Gráfico da função')\n",
    "plt.xlabel('Eixo-y')\n",
    "plt.ylabel('Eixo-x')\n",
    "plt.grid() # Grade\n",
    "\n",
    "\n",
    "# Plotando o gráfico\n",
    "plt.plot(x,f(x)[0],'-',color='blue')\n",
    "plt.plot(x,f(x)[1],'-',color='red')\n",
    "plt.plot(x,f(x)[2],'-',color='green')"
   ]
  },
  {
   "cell_type": "markdown",
   "id": "731ee8a7",
   "metadata": {},
   "source": [
    "####  <font color='blue'> Exemplo 5 </font>"
   ]
  },
  {
   "cell_type": "markdown",
   "id": "54ac6a69",
   "metadata": {},
   "source": [
    "<font color='blue'> A função a seguir mostra o aquecimento de certa substância ao longo de $30 \\, min$.<br><br>\n",
    " <center> <img src=\"fig6_5.jpg\" alt=\"jpg_python\" width=\"300\" height=\"\"> </center><br>\n",
    " a) Qual a temperatura no instante $20 \\, min$?<br><br>\n",
    " b) Em qual instante a temperatura atingiu $0^{o}C$?\n"
   ]
  },
  {
   "cell_type": "markdown",
   "id": "e1f945ff",
   "metadata": {},
   "source": [
    "#####  <font color='blue'> Solução </font>"
   ]
  },
  {
   "cell_type": "markdown",
   "id": "22b554fd",
   "metadata": {},
   "source": [
    "<font color='blue'> Para respondermos as peguntas propostas podemos obter expressão que representa o fenômeno em questão. Como o gráfico em questão trata-se de uma reta, esta deve ser da forma $f(x) = ax = b$ em que $f(x)$ representa a temperatura, em graus $^{o}C$, no instante $x$, em $min$. Pois bem,<br><br>\n",
    " i) $f(0) = -20 \\Rightarrow a \\cdot 0 + b = -20 \\Rightarrow b = -20$<br><br>\n",
    " ii) $f(30) = 140$ e $b = -20$ $\\Rightarrow a \\cdot 30 - 20 = 140 \\Rightarrow 30a = 140 + 20 \\Rightarrow 30a = 160 \\Rightarrow a = \\frac{160}{30} ( ou \\approx 5,33)$<br><br>\n",
    " Assim, $f(x) = \\frac{160}{30}x - 20$.<br><br>\n",
    " a) Temos que a temperatura no instante $20 \\, min$ é dada por:<br><br>\n",
    " $$f(20) = \\frac{160}{30} \\cdot 20 - 20 \\approx 86,7 ^{o}C.$$<br>\n",
    " b) A temperatura atinge $0^{o}C$ quando o gráfico de $f$ intersecta o eixo-$x$, isto é, quando $f(x) = 0$. Assim,<br><br>\n",
    " $$f(x) = 0 \\Rightarrow \\frac{160}{30}x - 20 = 0 \\Rightarrow \\frac{160}{30}x = 20 \\Rightarrow x = \\frac{20 \\cdot 30}{160} = 3,75 \\, min = 3min45s.$$<br>\n",
    " Observe que $0,75 \\, min = 0,75 \\cdot 60 s = 45 \\, s$."
   ]
  },
  {
   "cell_type": "markdown",
   "id": "b10e58a2",
   "metadata": {},
   "source": [
    "# <div style=\"margin-top: -20px;\">\n",
    "<hr style=\"border: 2px solid black;\">\n",
    "\n",
    "<font color='black'><span style=\"font-size: 22px;\"><strong>6.3 Exercícios</strong></span></font>\n",
    "\n",
    "<hr style=\"border: 2px solid black;\">\n",
    "</div>"
   ]
  },
  {
   "cell_type": "markdown",
   "id": "cfe6c7e8",
   "metadata": {},
   "source": [
    "#### Exercício 1"
   ]
  },
  {
   "cell_type": "markdown",
   "id": "abeb8ed1",
   "metadata": {},
   "source": [
    "Para cada uma das funções a seguir:\n",
    "\n",
    "i) classifique em afim, linear ou constante; \n",
    "\n",
    "ii) crescente, decrescente ou constante; \n",
    "\n",
    "iii) esboce o gráfico usando os pontos notáveis.\n",
    "\n",
    "a) $f(x) = 2x - 4$ $\\ \\ \\ \\ \\ \\ \\ \\ \\ \\ \\ \\ \\ \\ \\ \\ \\ \\ \\ \\ $ b) $g(x) = -2x$ $\\ \\ \\ \\ \\ \\ \\ \\ \\ \\ \\ \\ \\ \\ \\ \\ \\ \\ \\ \\ $ c) $h(x) = 2 - x$ $\\ \\ \\ \\ \\ \\ \\ \\ \\ \\ \\ \\ \\ \\ \\ \\ \\ \\ \\ \\ $ d) $k(x) = -1$"
   ]
  },
  {
   "cell_type": "markdown",
   "id": "f5eced0c",
   "metadata": {},
   "source": [
    "#### Exercício 2"
   ]
  },
  {
   "cell_type": "markdown",
   "id": "5a935fbd",
   "metadata": {},
   "source": [
    "Considere a função $f$ cujo gráfico é uma reta que passa pelos pontos $A = (0,-2)$ e $B = (-1,0)$.\n",
    "\n",
    "a) Determine se $f$ é crescente, decrescente ou constante.\n",
    "\n",
    "b) Encontre $f(1)$.\n",
    "\n",
    "c) Encontre o intervalo, no eixo-$x$, para o qual $f(x) > 0$ (gráfico acima do eixo-$x$)."
   ]
  },
  {
   "cell_type": "markdown",
   "id": "ee46739c",
   "metadata": {},
   "source": [
    "#### Exercício 3"
   ]
  },
  {
   "cell_type": "markdown",
   "id": "77243510",
   "metadata": {},
   "source": [
    "Considere a função $f$ cujo gráfico é uma reta que passa pelos pontos $A = (0,3)$ e $B = (2,4)$.\n",
    "\n",
    "a) Determine a raiz de $f$.\n",
    "\n",
    "b) Encontre o intervalo, no eixo-$x$, para o qual $f(x) > 2$."
   ]
  },
  {
   "cell_type": "markdown",
   "id": "5ac2c9e1",
   "metadata": {},
   "source": [
    "#### Exercício 4"
   ]
  },
  {
   "cell_type": "markdown",
   "id": "68e7346b",
   "metadata": {},
   "source": [
    "Um taxista cobra em suas corridas uma taxa fixa de $R\\$ \\ 3,50$ mais uma taxa variável de $R\\$ \\ 4,80$ por $km$ rodado. Nestas condições, determine:\n",
    "\n",
    "a) Qual o valor a ser cobrado em uma corrida de $3,8 \\ km$?\n",
    "\n",
    "b) Uma corrida cujo valor pago foi de $R\\$ \\ 23,66$ resultou em quantos quilômetros?\n",
    "\n",
    "c) Esboce um gráfico representando o custo de uma viagem em função da quantidade de quilômetros rodados."
   ]
  },
  {
   "cell_type": "markdown",
   "id": "4e568688",
   "metadata": {},
   "source": [
    "#### Exercício 5"
   ]
  },
  {
   "cell_type": "markdown",
   "id": "955e04ca",
   "metadata": {},
   "source": [
    "Uma empresa de transportes opera cobrando em cada corrida uma taxa fixa de $3,20$ mais uma taxa variável de $R\\$ \\ 4,50$ por $km$ rodado pelo passageiro. Ao longo de um dia, um funcionário desta empresa obteve um total de $R\\$ \\ 610,40$ após concluir $22$ corridas. Determine o lucro obtido pelo taxista considerando que:\n",
    "\n",
    "i) O automóvel utilizado faz $10 \\ km$ com um litro de combustível e que o custo por litro do mesmo é de $R\\$ \\ 5,00$;\n",
    "\n",
    "ii) Além disso, a empresa de táxi cobra sobre o valor total obtido uma taxa de $20\\%$."
   ]
  },
  {
   "cell_type": "markdown",
   "id": "1cdedc46",
   "metadata": {},
   "source": [
    "## <div style=\"margin-top: -20px;\">\n",
    "<hr style=\"border: 2px solid black;\">\n",
    "\n",
    "<font color='black'><span style=\"font-size: 18px;\"><strong>Respostas</strong></span></font>\n",
    "\n",
    "<hr style=\"border: 2px solid black;\">\n",
    "</div>"
   ]
  },
  {
   "cell_type": "markdown",
   "id": "d96f9cb2",
   "metadata": {},
   "source": [
    "#### Respostas do Exercício 1"
   ]
  },
  {
   "cell_type": "markdown",
   "id": "4fc35b37",
   "metadata": {},
   "source": [
    "a) $f$ é afim e crescente, b) $g$ é linear e decrescente, c) $h$ é afim e decrescente, d) $k$ é constante. Os gráficos são dados a seguir:\n",
    " <center> <img src=\"fig6_6.jpg\" alt=\"jpg_python\" width=\"500\" height=\"\"> </center><br>\n",
    " <center> <img src=\"fig6_7.jpg\" alt=\"jpg_python\" width=\"500\" height=\"\"> </center><br>"
   ]
  },
  {
   "cell_type": "markdown",
   "id": "8f1d3f5f",
   "metadata": {},
   "source": [
    "#### Respostas do Exercício 2"
   ]
  },
  {
   "cell_type": "markdown",
   "id": "d32045ca",
   "metadata": {},
   "source": [
    "a) decrescente, b) $-4$, c) $(-\\infty,-1)$."
   ]
  },
  {
   "cell_type": "markdown",
   "id": "824c9846",
   "metadata": {},
   "source": [
    "#### Respostas do Exercício 3"
   ]
  },
  {
   "cell_type": "markdown",
   "id": "3e77d4ab",
   "metadata": {},
   "source": [
    "a) $-6$, b) $x > -2$"
   ]
  },
  {
   "cell_type": "markdown",
   "id": "d9ecac4b",
   "metadata": {},
   "source": [
    "#### Respostas do Exercício 4"
   ]
  },
  {
   "cell_type": "markdown",
   "id": "a0ad3dd3",
   "metadata": {},
   "source": [
    "a) $R\\$ \\ 21,74$, b) $4,2 \\ km$, <br><br>c) \n",
    " <center> <img src=\"fig6_8.jpg\" alt=\"jpg_python\" width=\"300\" height=\"\"> </center><br>\n",
    "Note que a parte da reta correspondente a $x < 0$ foi descartada uma vez que não faz sentido a distância percorrida ser negativa. Observe novamente o **Exemplo 5** no qual consideramos somente o gráfico correspondente ao intervalo de tempo $[0,30]$.\n"
   ]
  },
  {
   "cell_type": "markdown",
   "id": "8730118d",
   "metadata": {},
   "source": [
    "#### Respostas do Exercício 5"
   ]
  },
  {
   "cell_type": "markdown",
   "id": "020cd6e7",
   "metadata": {},
   "source": [
    "$R\\$ \\ 428,32$"
   ]
  },
  {
   "cell_type": "markdown",
   "id": "9e4a04e6",
   "metadata": {},
   "source": [
    "# <div style=\"margin-top: -20px;\">\n",
    "<hr style=\"border: 2px solid black;\">\n",
    "\n",
    "<font color='black'><span style=\"font-size: 22px;\"><strong>6.4 Vídeo Aulas</strong></span></font>\n",
    "\n",
    "<hr style=\"border: 2px solid black;\">\n",
    "</div>"
   ]
  },
  {
   "cell_type": "markdown",
   "id": "42dc0ec2",
   "metadata": {},
   "source": [
    "Clicando nos links a seguir você será redirecionado às aulas referentes a este capítulo.\n",
    "\n",
    "[Introdução ao Estudo da Função Afim](https://youtu.be/uXs8e1wquZM)\n",
    "\n",
    "[Definindo as Funções Afim, Linear e Constante](https://youtu.be/yjLOPFXmVuo)\n",
    "\n",
    "[Gráfico (Padrão) da Função Afim](https://youtu.be/cEXuKDAPSHI)\n",
    "\n",
    "[Gráficos das Funções Afim, Linear ou Constante](https://youtu.be/Qd8HJWB1SaI)\n",
    "\n",
    "[Crescimento das Funções Afim, Linear ou Constante](https://youtu.be/un9l0k-ga4o)\n",
    "\n",
    "[Exemplo: Aplicando a Função Afim](https://youtu.be/6oWpr3lX6hc)\n",
    "\n",
    "[Exercício 1: Classificação de Uma Função Polinomial de primeiro Grau e Esboço Gráfico](https://youtu.be/9S58Z76sax8)\n",
    "\n",
    "[Exercício 2: Classificação de Uma Função Polinomial de primeiro Grau e Esboço Gráfico](https://youtu.be/-xMWNNZikWU)\n",
    "\n",
    "[Exercício 3: Classificação de Uma Função Polinomial de primeiro Grau e Esboço Gráfico](https://youtu.be/wRDSqWNS02E)\n",
    "\n",
    "[Exercício 4: Problema Envolvendo Função Polinomial do Primeiro Grau](https://youtu.be/qISE4GoeraU)\n",
    "\n",
    "[Exercício 5: Problema Envolvendo Função Polinomial do Primeiro Grau](https://youtu.be/mapDHTkdblI)"
   ]
  }
 ],
 "metadata": {
  "kernelspec": {
   "display_name": "Python 3 (ipykernel)",
   "language": "python",
   "name": "python3"
  },
  "language_info": {
   "codemirror_mode": {
    "name": "ipython",
    "version": 3
   },
   "file_extension": ".py",
   "mimetype": "text/x-python",
   "name": "python",
   "nbconvert_exporter": "python",
   "pygments_lexer": "ipython3",
   "version": "3.11.5"
  },
  "varInspector": {
   "cols": {
    "lenName": 16,
    "lenType": 16,
    "lenVar": 40
   },
   "kernels_config": {
    "python": {
     "delete_cmd_postfix": "",
     "delete_cmd_prefix": "del ",
     "library": "var_list.py",
     "varRefreshCmd": "print(var_dic_list())"
    },
    "r": {
     "delete_cmd_postfix": ") ",
     "delete_cmd_prefix": "rm(",
     "library": "var_list.r",
     "varRefreshCmd": "cat(var_dic_list()) "
    }
   },
   "types_to_exclude": [
    "module",
    "function",
    "builtin_function_or_method",
    "instance",
    "_Feature"
   ],
   "window_display": false
  }
 },
 "nbformat": 4,
 "nbformat_minor": 5
}
