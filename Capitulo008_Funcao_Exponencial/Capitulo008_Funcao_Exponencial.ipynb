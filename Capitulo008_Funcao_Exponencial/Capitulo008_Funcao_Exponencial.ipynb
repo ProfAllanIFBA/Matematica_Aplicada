{
 "cells": [
  {
   "cell_type": "markdown",
   "id": "de40f19b",
   "metadata": {},
   "source": [
    "<center> <img src=\"logo_ifba.jpg\" alt=\"jpg_python\" width=\"100\" height=\"\"> </center>\n",
    "<br><br>\n",
    "<div align=\"center\"><span style=\"font-size: 26px;\"><strong>Matemática Aplicada <br></strong></span></div> <br>\n",
    "<center> <img src=\"python_gif.gif\" alt=\"gif_python\" width=\"80\"> </center>"
   ]
  },
  {
   "cell_type": "markdown",
   "id": "52af9bb6",
   "metadata": {},
   "source": [
    "<div style=\"border: 2px solid black; padding: 10px; width: 95%; background-color: lightgray; display: flex; align-items: center;\">\n",
    "    <h1 style=\"color: red; text-align: center; margin: auto;\">\n",
    "        Capítulo 8: Função Exponencial\n",
    "    </h1>\n",
    "</div>\n",
    "\n",
    "<font color='red'></font>\n",
    "<a href=\"\"></a>"
   ]
  },
  {
   "cell_type": "markdown",
   "id": "55c4bea9",
   "metadata": {},
   "source": [
    "A função exponencial, geralmente expressa como $f(x) = a^{x}$, onde $a$ é uma constante real $a>0$ e $a \\neq 1$, desempenha um papel central em diversas áreas do conhecimento, incluindo física, economia e biologia. Suas características únicas, como crescimento ou decrescimento acelerado e uma taxa constante de variação, a tornam uma ferramenta essencial na modelagem de fenômenos que variam exponencialmente com o tempo ou com outra variável. Compreender seu comportamento e propriedades facilita a análise e resolução de problemas práticos e teóricos, sendo, portanto, um tópico vital em cursos de matemática e ciências aplicadas. Uma variação mais geral da função exponencial $f(x) = b \\cdot a^{x}$, com $a$ e $b$ constantes reais, $b > 0$ e $b \\neq 1$."
   ]
  },
  {
   "cell_type": "markdown",
   "id": "c16308be",
   "metadata": {
    "ExecuteTime": {
     "end_time": "2023-09-11T13:16:54.769258Z",
     "start_time": "2023-09-11T13:16:54.746096Z"
    }
   },
   "source": [
    "# <div style=\"margin-top: -20px;\">\n",
    "<hr style=\"border: 2px solid black;\">\n",
    "\n",
    "<font color='black'><span style=\"font-size: 22px;\"><strong>8.1 Revisão Rápida - Exponenciação </strong></span></font>\n",
    "\n",
    "<hr style=\"border: 2px solid black;\">\n",
    "</div>"
   ]
  },
  {
   "cell_type": "markdown",
   "id": "0ca92a26",
   "metadata": {},
   "source": [
    "####  <font color='red'> Definição 1 </font>"
   ]
  },
  {
   "cell_type": "markdown",
   "id": "c4f7661c",
   "metadata": {},
   "source": [
    "<font color='red'> A $n$-ésima potência de um número real $a$ é dada por:<br><br>\n",
    "$$a^{n} = \\underset{n \\,\\, vezes}{\\underbrace{a \\cdot a \\cdot a \\cdots a}}.$$"
   ]
  },
  {
   "cell_type": "markdown",
   "id": "48420002",
   "metadata": {},
   "source": [
    "<font color='blue'> Por exemplo, $2^{5} = 2 \\cdot 2 \\cdot 2 \\cdot 2 \\cdot 2 = 32$."
   ]
  },
  {
   "cell_type": "markdown",
   "id": "d5b33c2d",
   "metadata": {},
   "source": [
    "####  <font color='red'> Propriedades </font>"
   ]
  },
  {
   "cell_type": "markdown",
   "id": "1b14ba73",
   "metadata": {},
   "source": [
    "<font color='red'> Sejam $a$ e $b$ reais positivos e $x$ e $y$ reais quaisquer. Valem as seguintes propriedades:"
   ]
  },
  {
   "cell_type": "markdown",
   "id": "44f2d144",
   "metadata": {},
   "source": [
    "##### <font color='red'> 1. $a^{0} = 1$"
   ]
  },
  {
   "cell_type": "markdown",
   "id": "35135da6",
   "metadata": {},
   "source": [
    "<font color='blue'> Por exemplo, $2^{0} = 1$ e $\\left(\\frac{1}{5}\\right)^{0} = 1$."
   ]
  },
  {
   "cell_type": "markdown",
   "id": "ce201e1c",
   "metadata": {},
   "source": [
    "##### <font color='red'> 2. $a^{1} = a$"
   ]
  },
  {
   "cell_type": "markdown",
   "id": "1a7970d5",
   "metadata": {},
   "source": [
    "<font color='blue'> Por exemplo, $2^{1} = 2$, $\\left(\\frac{2}{3}\\right)^{1} = \\frac{2}{3}$."
   ]
  },
  {
   "cell_type": "markdown",
   "id": "1c4970fb",
   "metadata": {},
   "source": [
    "##### <font color='red'> 3. $a^{n+m} = a^{n} \\cdot a^{m}$"
   ]
  },
  {
   "cell_type": "markdown",
   "id": "aafccb76",
   "metadata": {},
   "source": [
    "<font color='blue'> Por exemplo, $2^{3} = 8$ ou, de outra maneira $2^{3} = 2^{2+1} = 2^{2} \\cdot 2^{1} = 4 \\cdot 2 = 8$."
   ]
  },
  {
   "cell_type": "markdown",
   "id": "ac801551",
   "metadata": {},
   "source": [
    "##### <font color='red'> 4. $a^{n-m} = \\frac{a^{n}}{a^{m}}$"
   ]
  },
  {
   "cell_type": "markdown",
   "id": "3f97522f",
   "metadata": {},
   "source": [
    "<font color='blue'> Por exemplo, $\\frac{2^{5}}{2^{3}} = \\frac{32}{8} = 4$ e $\\frac{2^{5}}{2^{3}} = 2^{5-3} = 2^{2} = 4$. Um caso particular desta propriedade é $a^{-n} = \\frac{1}{a^{n}}$. Por exemplo, $2^{-2} = \\frac{1}{2^{2}} = \\frac{1}{4}$."
   ]
  },
  {
   "cell_type": "markdown",
   "id": "95e9ab5c",
   "metadata": {},
   "source": [
    "##### <font color='red'> 5. $(ab)^{x} = a^{x} \\cdot b^{x}$"
   ]
  },
  {
   "cell_type": "markdown",
   "id": "086f5b7b",
   "metadata": {},
   "source": [
    "<font color='blue'> Por exemplo, $(2 \\cdot 3)^{2} = 6^{2} = 36$ ou, de outra maneira $(2 \\cdot 3)^{2} = 2^{2} \\cdot 3^{2} = 4 \\cdot 9 = 36$."
   ]
  },
  {
   "cell_type": "markdown",
   "id": "e1703f4b",
   "metadata": {},
   "source": [
    "##### <font color='red'> 6. $\\left(\\frac{a}{b}\\right)^{x} = \\frac{a^{x}}{b^{x}}$"
   ]
  },
  {
   "cell_type": "markdown",
   "id": "f331bcc9",
   "metadata": {},
   "source": [
    "<font color='blue'>"
   ]
  },
  {
   "cell_type": "markdown",
   "id": "42bda105",
   "metadata": {},
   "source": [
    "<font color='blue'> Por exemplo, $\\left(\\frac{6}{2}\\right)^{3} = 3^{3} = 27$ ou, de outra maneira $\\left(\\frac{6}{2}\\right)^{3} = \\frac{6^{3}}{2^{3}} = \\frac{216}{8} = 27$. Juntando a propriedade iv) e esta temos que $\\left(\\frac{a}{b}\\right)^{-n} = \\left(\\frac{b}{a}\\right)^{n}$. Por exemplo, $\\left(\\frac{3}{5}\\right)^{-2} = \\left(\\frac{5}{3}\\right)^{2} = \\frac{25}{9} \\approx 2,78$."
   ]
  },
  {
   "cell_type": "markdown",
   "id": "0dd5bec9",
   "metadata": {},
   "source": [
    "##### <font color='red'> 7. $\\sqrt[n]{a^{m}} = a^{\\frac{m}{n}}$"
   ]
  },
  {
   "cell_type": "markdown",
   "id": "af95d24c",
   "metadata": {},
   "source": [
    "<font color='blue'> Por exemplo, $\\sqrt[3]{2^{6}} = 2^{\\frac{6}{2}} = 2^{2} = 4$ ou, de outra maneira $\\sqrt[3]{2^{6}} = \\sqrt[3]{64} = 4$."
   ]
  },
  {
   "cell_type": "markdown",
   "id": "85ac87d8",
   "metadata": {
    "ExecuteTime": {
     "end_time": "2023-09-11T14:11:16.292952Z",
     "start_time": "2023-09-11T14:11:16.289723Z"
    }
   },
   "source": [
    "#### Calculando potências no Jupyter"
   ]
  },
  {
   "cell_type": "markdown",
   "id": "f792fe57",
   "metadata": {},
   "source": [
    "O cálculo de potências no Jupyter Notebook é feito usando-se \"$**$\" ao invés de \"$^{\\wedge}$\" como ocorre em outras linguagens de programação."
   ]
  },
  {
   "cell_type": "code",
   "execution_count": 42,
   "id": "aa1dbc76",
   "metadata": {
    "ExecuteTime": {
     "end_time": "2023-09-11T14:13:56.351653Z",
     "start_time": "2023-09-11T14:13:56.346358Z"
    }
   },
   "outputs": [
    {
     "name": "stdout",
     "output_type": "stream",
     "text": [
      "8\n",
      "0.4444444444444444\n",
      "0.3333333333333333\n"
     ]
    }
   ],
   "source": [
    "x1 = 2**3\n",
    "x2 = (2/3)**2\n",
    "x3 = 3**(-1)\n",
    "\n",
    "print(x1)\n",
    "print(x2)\n",
    "print(x3)"
   ]
  },
  {
   "cell_type": "markdown",
   "id": "0abe32e0",
   "metadata": {},
   "source": [
    "# <div style=\"margin-top: -20px;\">\n",
    "<hr style=\"border: 2px solid black;\">\n",
    "\n",
    "<font color='black'><span style=\"font-size: 22px;\"><strong>8.2 Definição e Exemplos</strong></span></font>\n",
    "\n",
    "<hr style=\"border: 2px solid black;\">\n",
    "</div>"
   ]
  },
  {
   "cell_type": "markdown",
   "id": "f55f058e",
   "metadata": {},
   "source": [
    "#### Situação Prática"
   ]
  },
  {
   "cell_type": "markdown",
   "id": "4c78e600",
   "metadata": {},
   "source": [
    "Vamos considerar o fenômeno que envolve a proliferação de certa planta. Certo lago de área total $100 \\ m^{2}$ tem posto em seu centro (aproximado) uma planta aquática que se reproduz dobrando sua extensão sobre o lago a cada mês. No instante em que é inserida no lago esta toma cerca de $1 \\ m^{2}$ de sua extensão. No mês seguinte esta passa a ocupar $2 \\ m^{2}$ da superfície do lago (o dobro do mês anterior). No segundo mês esta passa a ocupar $4 \\ m^{2}$ e assim por diante, dobrando a cada mês. "
   ]
  },
  {
   "cell_type": "markdown",
   "id": "3ad52598",
   "metadata": {},
   "source": [
    "##### Pergunta"
   ]
  },
  {
   "cell_type": "markdown",
   "id": "b5a6f50b",
   "metadata": {},
   "source": [
    "Em qual mês ela terá crescido tanto a ponto de ter coberto todo o lago?"
   ]
  },
  {
   "cell_type": "markdown",
   "id": "c14b63cb",
   "metadata": {},
   "source": [
    "##### Resposta Estimada"
   ]
  },
  {
   "cell_type": "markdown",
   "id": "69baa4ea",
   "metadata": {},
   "source": [
    "Uma resposta aproximada pode ser obtida tomando-se mais termos da sequência: $1,2,4,\\ldots$ até ultrapassarmos $100$. Neste caso,<br><br>\n",
    "<center>\n",
    "\\begin{array}{} \n",
    "\t\\hline\n",
    "Tempo \\ (meses)\t& 0\t\t& 1 & 2  & 3 & 4 & 5  & 6 & 7  \\\\\n",
    "\t\\hline\n",
    "Área \\ Coberta \\ (m^{2}) &\t1\t\t& 2 & 4  & 8 & 16 & 32  & 64 &  100*  \\\\\n",
    "\t\\hline\n",
    "\\end{array}\n",
    "</center><br>\n",
    "Portanto, levará entre $6$ e $7$ meses para que toda a superfície do lago esteja coberta."
   ]
  },
  {
   "cell_type": "markdown",
   "id": "a0a26f9a",
   "metadata": {},
   "source": [
    "####  <font color='red'> Definição 2 </font>"
   ]
  },
  {
   "cell_type": "markdown",
   "id": "04d48033",
   "metadata": {},
   "source": [
    "<font color='red'> Uma função $f: \\mathbb{R} \\rightarrow \\mathbb{R}_{+}^{*}$ é dita exponencial se é escrita na forma $f(x) = a^{x}$, $a > 0$ e $a \\neq 1$."
   ]
  },
  {
   "cell_type": "markdown",
   "id": "9c99dead",
   "metadata": {},
   "source": [
    "####  <font color='blue'> Exemplo 1 </font>"
   ]
  },
  {
   "cell_type": "markdown",
   "id": "0da347ca",
   "metadata": {},
   "source": [
    "<font color='blue'> São funções exponencias:<br><br>\n",
    " a) $f(x) = 3^{x}$, neste caso, $a = 3$ $\\ \\ \\ \\ \\ \\ \\ \\ \\ \\ $ b) $g(x) = 0,5^{x}$, neste caso, $a = 0,5 = \\frac{1}{2}$"
   ]
  },
  {
   "cell_type": "markdown",
   "id": "d859d765",
   "metadata": {},
   "source": [
    "####  <font color='blue'> Exemplo 2 </font>"
   ]
  },
  {
   "cell_type": "markdown",
   "id": "913151d1",
   "metadata": {},
   "source": [
    "<font color='blue'> Com o uso de uma calculadora científica, esboce os gráficos das funções dadas no **Exemplo 1** considerando as entradas $x = -2,-1,0,1,2$."
   ]
  },
  {
   "cell_type": "markdown",
   "id": "d6430154",
   "metadata": {},
   "source": [
    "##### <font color='blue'> Solução"
   ]
  },
  {
   "cell_type": "markdown",
   "id": "8a2dd701",
   "metadata": {},
   "source": [
    "<font color='blue'> Temos os seguintes gráficos:<br><br>\n",
    " a) O gráfico de $f(x) = 3^{x}$ é dado por:<br>\n",
    " <center> <img src=\"fig8_1.jpg\" alt=\"jpg_python\" width=\"230\" height=\"\"> </center><br>\n",
    " b) O gráfico de $g(x) = 0.5^{x}$ é dado por:<br>\n",
    "<center> <img src=\"fig8_2.jpg\" alt=\"jpg_python\" width=\"250\" height=\"\"> </center><br>"
   ]
  },
  {
   "cell_type": "markdown",
   "id": "16da1d2d",
   "metadata": {},
   "source": [
    "#### Plotando Gráficos Com o Jupyter"
   ]
  },
  {
   "cell_type": "markdown",
   "id": "d766190b",
   "metadata": {},
   "source": [
    " código a seguir, usado no **Capítulo 5** apresentará o esboço de cada um dos gráficos dados no **Exemplo 2**"
   ]
  },
  {
   "cell_type": "code",
   "execution_count": 1,
   "id": "5cd884c4",
   "metadata": {
    "ExecuteTime": {
     "end_time": "2023-09-11T15:58:17.164788Z",
     "start_time": "2023-09-11T15:58:16.443683Z"
    }
   },
   "outputs": [
    {
     "data": {
      "text/plain": [
       "[<matplotlib.lines.Line2D at 0x2233ab8edd0>]"
      ]
     },
     "execution_count": 1,
     "metadata": {},
     "output_type": "execute_result"
    },
    {
     "data": {
      "image/png": "[encoded data removed]",
      "text/plain": [
       "<Figure size 640x480 with 1 Axes>"
      ]
     },
     "metadata": {},
     "output_type": "display_data"
    }
   ],
   "source": [
    "# Módulo contendo funções matemáticas não nativas\n",
    "import numpy as np \n",
    "import matplotlib.pyplot as plt # Módulo necessário para o esboço de gráficos\n",
    "\n",
    "# Definindo uma função\n",
    "def f(x):\n",
    "    return 3**x #Repasse para 0.5**x\n",
    "\n",
    "# Gerando o conjunto de entrada A\n",
    "x = np.arange(-5,5,0.1) # Intevalo de plotagem\n",
    "\n",
    "# Plotando as retas dos eixos x e y\n",
    "plt.axhline(0, color='black', linewidth=2)  # Reta do eixo x\n",
    "plt.axvline(0, color='black', linewidth=2)  # Reta do eixo y\n",
    "\n",
    "# Configurações adicionais\n",
    "plt.title('Gráfico da função')\n",
    "plt.xlabel('Eixo-y')\n",
    "plt.ylabel('Eixo-x')\n",
    "plt.grid() # Grade\n",
    "\n",
    "\n",
    "# Plotando o gráfico\n",
    "plt.plot(x,f(x),'-',color='red') # '-' muda para uma linha ligando os pontos"
   ]
  },
  {
   "cell_type": "markdown",
   "id": "68fe407b",
   "metadata": {},
   "source": [
    "#### Retornando à Situação Inicial"
   ]
  },
  {
   "cell_type": "markdown",
   "id": "d502554f",
   "metadata": {},
   "source": [
    "Considerando o exemplo posto no início deste capítulo temos o seguinte gráfico referente à função<br><br>\n",
    "\n",
    "<center> <img src=\"fig8_3.jpg\" alt=\"jpg_python\" width=\"400\" height=\"\"> </center><br>\n",
    "\n",
    "A parte tracejada ({\\large- - -}) está fora do domínio seja por $x < 0$ não fazer sentido (tempo negativo?); e $x$  tal que $f(x) > 100$ não ser possível pois a planta precisa de uma superfície coberta por água para se proliferar. É muito importante estarmos atentos aos intervalos nos quais as variáveis estão postas."
   ]
  },
  {
   "cell_type": "markdown",
   "id": "8d8a1653",
   "metadata": {},
   "source": [
    "#### Melhorando a estimativa"
   ]
  },
  {
   "cell_type": "code",
   "execution_count": 45,
   "id": "6547da92",
   "metadata": {
    "ExecuteTime": {
     "end_time": "2023-09-11T14:21:24.286598Z",
     "start_time": "2023-09-11T14:21:24.281694Z"
    }
   },
   "outputs": [
    {
     "name": "stdout",
     "output_type": "stream",
     "text": [
      "f(6.0) = 64.0\n",
      "f(6.1) = 68.59350160232275\n",
      "f(6.2) = 73.5166947198102\n",
      "f(6.3) = 78.79324245407459\n",
      "f(6.4) = 84.44850628946514\n",
      "f(6.5) = 90.50966799187798\n",
      "f(6.6) = 97.00586025666533\n",
      "f(6.7) = 103.96830673359797\n",
      "f(6.8) = 111.43047210190367\n",
      "f(6.9) = 119.42822291671108\n",
      "f(7.0) = 127.99999999999969\n"
     ]
    }
   ],
   "source": [
    "incremento = 0.1\n",
    "intervalo = np.arange(6,7.1,incremento) # Intevalo\n",
    "\n",
    "for x in intervalo:\n",
    "    print(f'f({round(x,2)}) = {2**x}')"
   ]
  },
  {
   "cell_type": "markdown",
   "id": "4d388039",
   "metadata": {},
   "source": [
    "Note que a planta cobrirá todo o lago entre $6.6$ e $6.7$ meses, isto é, por volta de $6$ meses e $18$ a $21$ dias. Pode-se diminuir o incremento para se obter um resultado mais preciso.\n",
    "\n",
    "**Observação**: $0.6 \\times 30 = 18$ e $0.7 \\times 30 = 21$"
   ]
  },
  {
   "cell_type": "markdown",
   "id": "45cf01f1",
   "metadata": {},
   "source": [
    "# <div style=\"margin-top: -20px;\">\n",
    "<hr style=\"border: 2px solid black;\">\n",
    "\n",
    "<font color='black'><span style=\"font-size: 22px;\"><strong>8.3 Esboço Gráfico</strong></span></font>\n",
    "\n",
    "<hr style=\"border: 2px solid black;\">\n",
    "</div>"
   ]
  },
  {
   "cell_type": "markdown",
   "id": "523f3d78",
   "metadata": {},
   "source": [
    "#### Esboço Rápido"
   ]
  },
  {
   "cell_type": "markdown",
   "id": "4eca15ab",
   "metadata": {},
   "source": [
    "Temos dois gráficos para uma função exponencial da forma $f(x) = a^{x}$. Caso $a > 1$, teremos uma curva ascendente, isto é, os valores de $y$ crescem quando $x$ aumenta e se aproximam de zero quando $x$ diminui, assumindo um comportamento assintótico; Caso $0 < a < 1$, teremos uma curva descendente, isto é, os valores de $y$ se aproximam de zero de forma assintótica quando $x$ aumenta e aumentam quando $x$ diminui.<br><br>\n",
    "\n",
    "<center> <img src=\"fig8_4.jpg\" alt=\"jpg_python\" width=\"500\" height=\"\"> </center><br>"
   ]
  },
  {
   "cell_type": "markdown",
   "id": "a9acb3ee",
   "metadata": {},
   "source": [
    "Na verdade, dadas as formas duas formas possível, traçar o gráfico de uma função exponencial $f(x) = a^{x}$ exige apenas a marcação de dois pontos $(0,f(0))$ e $(1,f(1))$, isto é, o gráfico passará por \n",
    "\n",
    "i) $f(0) = a^{0} = 1 \\Rightarrow (0,1)$ \n",
    "\n",
    "ii) $f(1) = a^{1} \\Rightarrow (1,a)$\n",
    "\n",
    "Caso $a > 1$, teremos uma função crescente, caso $0 < a < 1$, teremos uma função decrescente."
   ]
  },
  {
   "cell_type": "markdown",
   "id": "7fdcc4da",
   "metadata": {},
   "source": [
    "####  <font color='blue'> Exemplo 3 </font>"
   ]
  },
  {
   "cell_type": "markdown",
   "id": "111b678c",
   "metadata": {},
   "source": [
    "<font color='blue'> Esboce o gráfico das funções exponenciais usando somente os pontos $(0,f(0))$ e $(1,f(1))$.<br><br>\n",
    " a) $f(x) = 4^{x}$ $\\ \\ \\ \\ \\ \\ \\ \\ $ b) $g(x) = \\left(\\frac{2}{3}\\right)^{x}$"
   ]
  },
  {
   "cell_type": "markdown",
   "id": "68ce47d8",
   "metadata": {},
   "source": [
    "#####  <font color='blue'> Solução </font>"
   ]
  },
  {
   "cell_type": "markdown",
   "id": "5a3754bd",
   "metadata": {},
   "source": [
    "<font color='blue'> Temos que<br><br>\n",
    " a) $f(x) = 4^{x} \\Rightarrow (0,1) \\,\\,\\, e \\,\\,\\, (1,4)$ $\\ \\ \\ \\ \\ \\ \\ \\ $ b) $f(x) = \\left(\\frac{2}{3}\\right)^{x} \\Rightarrow (0,1) \\,\\,\\, e \\,\\,\\, \\left(1,\\frac{2}{3}\\right)$<br><br>\n",
    "   <center> <img src=\"fig8_5.jpg\" alt=\"jpg_python\" width=\"600\" height=\"\"> </center><br>"
   ]
  },
  {
   "cell_type": "markdown",
   "id": "0e29e98f",
   "metadata": {},
   "source": [
    "# <div style=\"margin-top: -20px;\">\n",
    "<hr style=\"border: 2px solid black;\">\n",
    "\n",
    "<font color='black'><span style=\"font-size: 22px;\"><strong>8.4 Função Exponencial Geral $f(x) = b \\cdot a^{x}$ </strong></span></font>\n",
    "\n",
    "<hr style=\"border: 2px solid black;\">\n",
    "</div>"
   ]
  },
  {
   "cell_type": "markdown",
   "id": "afbd4dd1",
   "metadata": {},
   "source": [
    " Uma variação bastante comum da função exponencial é dada por $f(x) = ba^x$, isto é, o produto de uma constante não nula $b$ pelo termo $a^{x}$. Neste caso, os pontos nos quais os pontos pelos quais o gráfico de $f$ passará são $A = (0,f(0)) = (0,b)$ e $B = (1,f(1)) = (1,ba)$. Em termos gráficos, o valor de $b$ negativo corresponde a uma reflexão em torno do eixo-$x$ (veja o eixo-$x$ como um espelho).<br><br>\n",
    " \n",
    " <center> <img src=\"fig8_6.jpg\" alt=\"jpg_python\" width=\"600\" height=\"\"> </center><br><br>\n",
    " \n",
    " <center> <img src=\"fig8_7.jpg\" alt=\"jpg_python\" width=\"600\" height=\"\"> </center>"
   ]
  },
  {
   "cell_type": "markdown",
   "id": "dafb6ff4",
   "metadata": {},
   "source": [
    "####  <font color='blue'> Exemplo 3 </font>"
   ]
  },
  {
   "cell_type": "markdown",
   "id": "46ef9198",
   "metadata": {},
   "source": [
    "<font color='blue'> Esboce o gráfico de $f(x) = -3 \\cdot 2^{x}$."
   ]
  },
  {
   "cell_type": "markdown",
   "id": "0665792b",
   "metadata": {},
   "source": [
    "#####  <font color='blue'> Solução </font>"
   ]
  },
  {
   "cell_type": "markdown",
   "id": "30beef61",
   "metadata": {},
   "source": [
    "<font color='blue'> Basta calcularmos dois valores:<br><br>\n",
    " i) $f(0) = -3 \\cdot 2^{0} = -3 \\cdot 1 = -3 \\Rightarrow (0,-3)$<br><br>\n",
    " ii) $f(1) = -3 \\cdot 2^{1} = -3 \\cdot 2 = -6 \\Rightarrow (1,-6)$<br><br>\n",
    " Assim, temos o seguinte gráfico:\n",
    " <center> <img src=\"fig8_8.jpg\" alt=\"jpg_python\" width=\"300\" height=\"\"> </center>"
   ]
  },
  {
   "cell_type": "markdown",
   "id": "543c9e8b",
   "metadata": {},
   "source": [
    "Vejamos o exemplo anterior no Jupyter:"
   ]
  },
  {
   "cell_type": "code",
   "execution_count": 40,
   "id": "c4445a36",
   "metadata": {
    "ExecuteTime": {
     "end_time": "2023-09-11T14:10:40.871696Z",
     "start_time": "2023-09-11T14:10:40.698677Z"
    }
   },
   "outputs": [
    {
     "data": {
      "text/plain": [
       "[<matplotlib.lines.Line2D at 0x1fa8aad8e50>]"
      ]
     },
     "execution_count": 40,
     "metadata": {},
     "output_type": "execute_result"
    },
    {
     "data": {
      "image/png": "[encoded data removed]",
      "text/plain": [
       "<Figure size 640x480 with 1 Axes>"
      ]
     },
     "metadata": {},
     "output_type": "display_data"
    }
   ],
   "source": [
    "# Módulo contendo funções matemáticas não nativas\n",
    "import numpy as np \n",
    "import matplotlib.pyplot as plt # Módulo necessário para o esboço de gráficos\n",
    "\n",
    "# Definindo uma função\n",
    "def f(x):\n",
    "    return -3*2**x #Repasse para 0.5**x\n",
    "\n",
    "# Gerando o conjunto de entrada A\n",
    "x = np.arange(-5,5,0.1) # Intevalo de plotagem\n",
    "\n",
    "# Plotando as retas dos eixos x e y\n",
    "plt.axhline(0, color='black', linewidth=2)  # Reta do eixo x\n",
    "plt.axvline(0, color='black', linewidth=2)  # Reta do eixo y\n",
    "\n",
    "# Configurações adicionais\n",
    "plt.title('Gráfico da função')\n",
    "plt.xlabel('Eixo-y')\n",
    "plt.ylabel('Eixo-x')\n",
    "plt.grid() # Grade\n",
    "\n",
    "\n",
    "# Plotando o gráfico\n",
    "plt.plot(x,f(x),'-',color='red') # '-' muda para uma linha ligando os pontos"
   ]
  },
  {
   "cell_type": "markdown",
   "id": "873dcc7a",
   "metadata": {},
   "source": [
    "# <div style=\"margin-top: -20px;\">\n",
    "<hr style=\"border: 2px solid black;\">\n",
    "\n",
    "<font color='black'><span style=\"font-size: 22px;\"><strong>8.5 Exercícios</strong></span></font>\n",
    "\n",
    "<hr style=\"border: 2px solid black;\">\n",
    "</div>"
   ]
  },
  {
   "cell_type": "markdown",
   "id": "b35a5cba",
   "metadata": {},
   "source": [
    "#### Exercício 1"
   ]
  },
  {
   "cell_type": "markdown",
   "id": "2a6b4a2c",
   "metadata": {},
   "source": [
    "Encontre os valores solicitados. Caso necessário, use uma calculadora científica.\n",
    "\n",
    "a) $3^{4}$ $\\ \\ \\ \\ \\ \\ \\ $ b) $2^{-5}$ $\\ \\ \\ \\ \\ \\ \\ $ c) $\\left(\\frac{2}{3}\\right)^{-2}$ $\\ \\ \\ \\ \\ \\ \\ $ d) $1.3^{3}$ $\\ \\ \\ \\ \\ \\ \\ $ e) $0.6^{2}$ $\\ \\ \\ \\ \\ \\ \\ $ f) $(-0,4)^{3}$ $\\ \\ \\ \\ \\ \\ \\ $ g) $-0,4^{3}$  $\\ \\ \\ \\ \\ \\ \\ $ h) $0,8^{-3}$"
   ]
  },
  {
   "cell_type": "markdown",
   "id": "ac69da1f",
   "metadata": {},
   "source": [
    "#### Exercício 2"
   ]
  },
  {
   "cell_type": "markdown",
   "id": "90e71ca6",
   "metadata": {},
   "source": [
    "Usando uma calculadora científica, esboce os gráficos das funções a seguir usando as abscissas, $-2$, $-1$, $0$ , $1$ e $2$.\n",
    "\n",
    "a) $f(x) = 4^{x}$ $\\ \\ \\ \\ \\ \\ \\ $ b) $g(x) = \\left(\\frac{3}{5}\\right)^{x}$ $\\ \\ \\ \\ \\ \\ \\ $ c) $h(x) = 1.8^{x}$ "
   ]
  },
  {
   "cell_type": "markdown",
   "id": "2e7f40c0",
   "metadata": {},
   "source": [
    "#### Exercício 3"
   ]
  },
  {
   "cell_type": "markdown",
   "id": "1bb724f4",
   "metadata": {},
   "source": [
    "Esboce os gráficos das funções a seguir usando as abscissas, $0$ e $1$ somente.\n",
    "\n",
    "a) $f(x) = 5^{x}$ $\\ \\ \\ \\ \\ $ b) $g(x) = \\left(\\frac{1}{3}\\right)^{x}$ $\\ \\ \\ \\ \\ $ c) $h(x) = 2 \\cdot 3^{x}$ $\\ \\ \\ \\ \\ $ d) $k(x) = 0.8^{x}$ $\\ \\ \\ \\ \\ $ e) $s(x) = 2 \\cdot \\left(\\frac{1}{3}\\right)^{x}$ $\\ \\ \\ \\ \\ $ f) $t(x) = -2^{x}$"
   ]
  },
  {
   "cell_type": "markdown",
   "id": "3edbdbdb",
   "metadata": {},
   "source": [
    "#### Exercício 4"
   ]
  },
  {
   "cell_type": "markdown",
   "id": "1fe3abf4",
   "metadata": {},
   "source": [
    "Uma população de bactérias se prolifera triplicando a cada hora. Sabe-se que, no início do experimento havia apenas $1$ bactéria. Com base nestas informações determine:\n",
    "\n",
    "a) Uma função que apresenta o número de bactérias em função do tempo.\n",
    "\n",
    "b) O número de bactérias $3 \\, h$ após o início do experimento.\n",
    "\n",
    "c) Após quantas horas o número de bactérias certamente será maior que $200$?"
   ]
  },
  {
   "cell_type": "markdown",
   "id": "37d58504",
   "metadata": {},
   "source": [
    "#### Exercício 5"
   ]
  },
  {
   "cell_type": "markdown",
   "id": "ae9fbe10",
   "metadata": {},
   "source": [
    "O tempo de meia vida de uma substância radioativa é o tempo necessário para que metade do número de átomos do isótopo radioativo presente em uma amostra desintegre-se. Sabe-se que certa substância possui um tempo de meia vida de um ano. Considere existir, no início de um experimento, uma amostra de $120 \\, g$ desta substância. A massa dessa substância ao longo do tempo é dada pela função $M(t) = 120 \\cdot \\left(\\frac{1}{2}\\right)^{t}$, em que $t$ é dado em anos e $M(t)$ é dada em gramas. Nesta condições determine:\n",
    "\n",
    "a) A quantidade desta substância após $2$ anos.\n",
    "\n",
    "b) A quantidade desta substância após $5$ anos.\n",
    "\n",
    "c) A partir de quantos anos a quantidade de substância presente será inferior a $1\\%$ da quantidade inicial?"
   ]
  },
  {
   "cell_type": "markdown",
   "id": "8e65e477",
   "metadata": {},
   "source": [
    "#### Exercício 6"
   ]
  },
  {
   "cell_type": "markdown",
   "id": "7c33a6b9",
   "metadata": {},
   "source": [
    "As funções exponenciais são conhecidas por modelar fenômenos de crescimento ou decrescimento bastante acentuados (rápidos). Por outro lado, as funções afins modelam fenômenos cuja variação é constante. Neste contexto, há teorias que afirmam que o crescimento na produção de alimento se dá de forma linear enquanto a população cresce segundo um modelo exponencial. As funções a seguir, modelam a produção de alimento de certa população e sua demanda, em toneladas, ao longo de cada ano.\n",
    "\n",
    "i) Produção: $P(t) = 10t + 300$\n",
    "\n",
    "ii) Demanda: $D(t) = 7\\cdot2^{t}$\n",
    "\n",
    "a) Qual a produção e a demanda nos instantes $t = 0$, $t = 1$ e $t = 2$?\n",
    "\n",
    "b) Após quantos anos a produção será inferior à demanda, isto é, faltará alimento?\n",
    "\n",
    "c) Use um software ou app para esboçar os gráficos das funções $P(t)$ e $D(t)$ sobre um mesmo plano cartesiano considerando $t > 0$ (ou faça a mão). Destaque o ponto crítico $C$ obtido no item `b'."
   ]
  },
  {
   "cell_type": "markdown",
   "id": "196723ae",
   "metadata": {},
   "source": [
    "## <div style=\"margin-top: -20px;\">\n",
    "<hr style=\"border: 2px solid black;\">\n",
    "\n",
    "<font color='black'><span style=\"font-size: 18px;\"><strong>Respostas</strong></span></font>\n",
    "\n",
    "<hr style=\"border: 2px solid black;\">\n",
    "</div>"
   ]
  },
  {
   "cell_type": "markdown",
   "id": "cfe6c7e8",
   "metadata": {},
   "source": [
    "#### Respostas do Exercício 1"
   ]
  },
  {
   "cell_type": "markdown",
   "id": "abeb8ed1",
   "metadata": {},
   "source": [
    "a) $81$, b) $\\frac{1}{32} = 0,03125$, c) $\\frac{9}{4} = 2,25$, d) $2,197$, e) $0,36$, f) $-0,064$, g) $-0,064$, h) $1.953125$"
   ]
  },
  {
   "cell_type": "markdown",
   "id": "f5eced0c",
   "metadata": {},
   "source": [
    "#### Respostas do Exercício 2"
   ]
  },
  {
   "cell_type": "markdown",
   "id": "5a935fbd",
   "metadata": {},
   "source": [
    "<center> <img src=\"fig8_9.jpg\" alt=\"jpg_python\" width=\"600\" height=\"\"> </center>\n",
    "<center> <img src=\"fig8_10.jpg\" alt=\"jpg_python\" width=\"600\" height=\"\"> </center>"
   ]
  },
  {
   "cell_type": "markdown",
   "id": "ee46739c",
   "metadata": {},
   "source": [
    "#### Respostas do Exercício 3"
   ]
  },
  {
   "cell_type": "markdown",
   "id": "77243510",
   "metadata": {},
   "source": [
    "<center> <img src=\"fig8_11.jpg\" alt=\"jpg_python\" width=\"500\" height=\"\"> </center>\n",
    "<center> <img src=\"fig8_12.jpg\" alt=\"jpg_python\" width=\"500\" height=\"\"> </center>"
   ]
  },
  {
   "cell_type": "markdown",
   "id": "5ac2c9e1",
   "metadata": {},
   "source": [
    "#### Respostas do Exercício 4"
   ]
  },
  {
   "cell_type": "markdown",
   "id": "68e7346b",
   "metadata": {},
   "source": [
    "a) $P(t) = 3^{t}$, b) $27$ bactérias, c) $\\approx 5 \\ h$"
   ]
  },
  {
   "cell_type": "markdown",
   "id": "4e568688",
   "metadata": {},
   "source": [
    "#### Respostas do Exercício 5"
   ]
  },
  {
   "cell_type": "markdown",
   "id": "7153f156",
   "metadata": {},
   "source": [
    "a) $30 \\, g$, b) $3.75 \\, g$, c) $\\approx 7$ anos"
   ]
  },
  {
   "cell_type": "markdown",
   "id": "3aac73b2",
   "metadata": {},
   "source": [
    "#### Respostas do Exercício 6"
   ]
  },
  {
   "cell_type": "markdown",
   "id": "955e04ca",
   "metadata": {},
   "source": [
    "a) $t = 0$, $P(0) = 300$, $D(0) = 7$; $t = 1$, $P(1) = 310$,$D(1) = 14$; $t = 2$, $P(2) = 320$, $D(2) = 28$; b) $\\approx 6$ anos c) Segue o gráfico e o ponto crítico $C = (5.7,356.7)$ representando o tempo ($5.7$ anos) no qual a produção será inferior à demanda.<br><br>\n",
    "<center> <img src=\"fig8_13.jpg\" alt=\"jpg_python\" width=\"300\" height=\"\"> </center>"
   ]
  },
  {
   "cell_type": "markdown",
   "id": "9e4a04e6",
   "metadata": {},
   "source": [
    "# <div style=\"margin-top: -20px;\">\n",
    "<hr style=\"border: 2px solid black;\">\n",
    "\n",
    "<font color='black'><span style=\"font-size: 22px;\"><strong>8.6 Vídeo Aulas</strong></span></font>\n",
    "\n",
    "<hr style=\"border: 2px solid black;\">\n",
    "</div>"
   ]
  },
  {
   "cell_type": "markdown",
   "id": "42dc0ec2",
   "metadata": {},
   "source": [
    "Clicando nos links a seguir você será redirecionado às aulas referentes a este capítulo.\n",
    "\n",
    "[Propriedades da Exponenciação](https://youtu.be/nRoDTXiTJv0)\n",
    "\n",
    "[Introdução ao Estudo da Função Exponencial](https://youtu.be/URdO20aJbw0)\n",
    "\n",
    "[Definindo a Função Exponencial](https://youtu.be/LKkvL0i_XEI)\n",
    "\n",
    "[Esboço Rápido da Função Exponencial](https://youtu.be/PcrNzRL1A18)\n",
    "\n",
    "[Função Exponencial Especial ($y = ba^x$)](https://youtu.be/2dbD3GqgtGU)\n",
    "\n",
    "[Exercício 1: Cálculo de Potências](https://youtu.be/CuoP3tDAnsc)\n",
    "\n",
    "[Exercício 2: Esboço Gráfico da Função Exponencial](https://youtu.be/BTy6gof5jj4)\n",
    "\n",
    "[Exercício 3: Esboço Gráfico da Função Exponencial](https://youtu.be/Fkg3Y7b-d6s)\n",
    "\n",
    "[Exercício 4: Problema Envolvendo a Proliferação de Bactérias](https://youtu.be/RtgL9l-lYwk)\n",
    "\n",
    "[Exercício 5: Problema Envolvendo o Tempo de Meia Vida de Uma Substância Radioativa](https://youtu.be/Hr2tl4RkxU8)\n",
    "\n",
    "[Exercício 6: Problema Relacionando o Crescimento Populacional e a Demanda Por Alimentos](https://youtu.be/zgmpz_3AHfE)"
   ]
  }
 ],
 "metadata": {
  "kernelspec": {
   "display_name": "Python 3 (ipykernel)",
   "language": "python",
   "name": "python3"
  },
  "language_info": {
   "codemirror_mode": {
    "name": "ipython",
    "version": 3
   },
   "file_extension": ".py",
   "mimetype": "text/x-python",
   "name": "python",
   "nbconvert_exporter": "python",
   "pygments_lexer": "ipython3",
   "version": "3.11.5"
  },
  "varInspector": {
   "cols": {
    "lenName": 16,
    "lenType": 16,
    "lenVar": 40
   },
   "kernels_config": {
    "python": {
     "delete_cmd_postfix": "",
     "delete_cmd_prefix": "del ",
     "library": "var_list.py",
     "varRefreshCmd": "print(var_dic_list())"
    },
    "r": {
     "delete_cmd_postfix": ") ",
     "delete_cmd_prefix": "rm(",
     "library": "var_list.r",
     "varRefreshCmd": "cat(var_dic_list()) "
    }
   },
   "types_to_exclude": [
    "module",
    "function",
    "builtin_function_or_method",
    "instance",
    "_Feature"
   ],
   "window_display": false
  }
 },
 "nbformat": 4,
 "nbformat_minor": 5
}
