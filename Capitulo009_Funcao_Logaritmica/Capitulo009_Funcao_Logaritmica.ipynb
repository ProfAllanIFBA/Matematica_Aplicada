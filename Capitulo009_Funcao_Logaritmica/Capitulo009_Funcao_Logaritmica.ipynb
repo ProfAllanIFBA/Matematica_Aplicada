{
 "cells": [
  {
   "cell_type": "markdown",
   "id": "de40f19b",
   "metadata": {},
   "source": [
    "<center> <img src=\"logo_ifba.jpg\" alt=\"jpg_python\" width=\"100\" height=\"\"> </center>\n",
    "<br><br>\n",
    "<div align=\"center\"><span style=\"font-size: 26px;\"><strong>Matemática Aplicada <br></strong></span></div> <br>\n",
    "<center> <img src=\"python_gif.gif\" alt=\"gif_python\" width=\"80\"> </center>"
   ]
  },
  {
   "cell_type": "markdown",
   "id": "52af9bb6",
   "metadata": {},
   "source": [
    "<div style=\"border: 2px solid black; padding: 10px; width: 95%; background-color: lightgray; display: flex; align-items: center;\">\n",
    "    <h1 style=\"color: red; text-align: center; margin: auto;\">\n",
    "        Capítulo 9: Função Logaritmica\n",
    "    </h1>\n",
    "</div>\n",
    "\n",
    "<font color='red'></font>\n",
    "<a href=\"\"></a>"
   ]
  },
  {
   "cell_type": "markdown",
   "id": "55c4bea9",
   "metadata": {},
   "source": [
    "A função logarítmica, normalmente representada como $f(x) = log_{a}b$, onde $a$ é a base do logaritmo e $a > 0$ e $a \\neq 1$, é fundamental em várias disciplinas, incluindo matemática, física e ciências da computação. Essencial na resolução de equações exponenciais e na análise de fenômenos que crescem de maneira exponencial, a função logarítmica facilita o entendimento de escalas que vão além do linear, permitindo a transformação de multiplicações em adições através das suas propriedades. Dessa forma, torna-se uma ferramenta indispensável tanto em contextos teóricos quanto práticos, sendo frequentemente estudada em cursos de matemática a partir do ensino médio."
   ]
  },
  {
   "cell_type": "markdown",
   "id": "c16308be",
   "metadata": {
    "ExecuteTime": {
     "end_time": "2023-09-11T13:16:54.769258Z",
     "start_time": "2023-09-11T13:16:54.746096Z"
    }
   },
   "source": [
    "# <div style=\"margin-top: -20px;\">\n",
    "<hr style=\"border: 2px solid black;\">\n",
    "\n",
    "<font color='black'><span style=\"font-size: 22px;\"><strong>9.1 Revisão Rápida - Logaritmos </strong></span></font>\n",
    "\n",
    "<hr style=\"border: 2px solid black;\">\n",
    "</div>"
   ]
  },
  {
   "cell_type": "markdown",
   "id": "0ca92a26",
   "metadata": {},
   "source": [
    "####  <font color='red'> Definição 1 </font>"
   ]
  },
  {
   "cell_type": "markdown",
   "id": "c4f7661c",
   "metadata": {},
   "source": [
    "<font color='red'> Chamamos de logaritmo de $b$ na base $a$, representado por $log_{a} b$, o valor $x$, tal que $a$ elevado a $x$ seja igual a $b$."
   ]
  },
  {
   "cell_type": "markdown",
   "id": "48420002",
   "metadata": {},
   "source": [
    "<font color='blue'> Por exemplo, $log_{2}8 = 3$ pois $2^{3} = 8$. Viu a relação com a exponenciação?"
   ]
  },
  {
   "cell_type": "markdown",
   "id": "19139c40",
   "metadata": {},
   "source": [
    "#### Observações"
   ]
  },
  {
   "cell_type": "markdown",
   "id": "234bbb9b",
   "metadata": {},
   "source": [
    "- Alguns livros costumam escrever $log_{b} a$ (logaritmo de $a$ na base $b$). Por questões de analogia com a função exponencial optamos pela mudança.<br><br>\n",
    "- O logaritmo de base $10$ escreve-se, em geral, como $log \\, x$ ao invés de $log_{10} x$, isto, omitindo-se a base $10$. As duas formas estão corretas.<br><br>\n",
    "- Em níveis mais avançados cosutuma-se utilizar a função $ln(x)$ que corresponde ao logaritmo natural de base $e$. Tem-se que $e \\approx 2.71828182846$."
   ]
  },
  {
   "cell_type": "markdown",
   "id": "6cea5287",
   "metadata": {},
   "source": [
    "#### Calculadora"
   ]
  },
  {
   "cell_type": "markdown",
   "id": "87c1ebf5",
   "metadata": {},
   "source": [
    "Seguem algumas propriedades básicas para conhecimento. Não se assuste, tenha uma calculadora em mãos e não terá problemas. Assim como exponenciais, o cálculo de logaritmos pode vir a necessitar do uso de calculadoras científicas."
   ]
  },
  {
   "cell_type": "markdown",
   "id": "d5b33c2d",
   "metadata": {},
   "source": [
    "####  <font color='red'> Propriedades </font>"
   ]
  },
  {
   "cell_type": "markdown",
   "id": "678bc75a",
   "metadata": {},
   "source": [
    "<font color='red'> Sejam $a$, $b$ e $c$ reais positivos, $a \\neq 1$ e $x$, $y$ reais e $x > 0$. Valem as seguintes propriedades:"
   ]
  },
  {
   "cell_type": "markdown",
   "id": "44f2d144",
   "metadata": {},
   "source": [
    "##### <font color='red'> 1. $log_{a}1 = 0$"
   ]
  },
  {
   "cell_type": "markdown",
   "id": "35135da6",
   "metadata": {},
   "source": [
    "<font color='blue'> Por exemplo, $log_{3}1 = 0$, $log_{\\frac{1}{2}}1 = 0$ e $log_{0.1}1 = 0$."
   ]
  },
  {
   "cell_type": "markdown",
   "id": "ce201e1c",
   "metadata": {},
   "source": [
    "##### <font color='red'> 2. $log_{a}a = 1$"
   ]
  },
  {
   "cell_type": "markdown",
   "id": "1a7970d5",
   "metadata": {},
   "source": [
    "<font color='blue'> Por exemplo, $log_{2}2 = 1$, $log_{\\frac{2}{5}}\\frac{2}{5} = 1$ e $log_{0.2}0.2 = 1$."
   ]
  },
  {
   "cell_type": "markdown",
   "id": "1c4970fb",
   "metadata": {},
   "source": [
    "##### <font color='red'> 3. $log_{a}b^{m} = m \\cdot log_{a}b$"
   ]
  },
  {
   "cell_type": "markdown",
   "id": "aafccb76",
   "metadata": {},
   "source": [
    "<font color='blue'> Por exemplo, $log_{2}16 = log_{2}2^{4} = 4 \\cdot log_{2}2 = 4 \\cdot 1 = 4$."
   ]
  },
  {
   "cell_type": "markdown",
   "id": "ac801551",
   "metadata": {},
   "source": [
    "##### <font color='red'> 4. $log_{a}(bc) = log_{a}b + log_{a}c$"
   ]
  },
  {
   "cell_type": "markdown",
   "id": "3f97522f",
   "metadata": {},
   "source": [
    "<font color='blue'> Por exemplo, \n",
    "$$log_{2}8 = log_{2} 2 \\cdot 4 = log_{2}2 + log_{2}4 = 1 + log_{2}2^{2} = 1 + 2 \\cdot log_{2}2 = 1 + 2 \\cdot 1 = 3.$$"
   ]
  },
  {
   "cell_type": "markdown",
   "id": "95e9ab5c",
   "metadata": {},
   "source": [
    "##### <font color='red'> 5. $log_{a}\\frac{b}{c} = log_{a}b - log_{a}c$"
   ]
  },
  {
   "cell_type": "markdown",
   "id": "086f5b7b",
   "metadata": {},
   "source": [
    "<font color='blue'> Por exemplo, \n",
    "$$log_{3}\\frac{27}{9} = log_{3}27 - log_{3}9 = log_{3}3^{3} - log_{3}3^{2} = 3 \\cdot log_{3}3 - 2 \\cdot log_{3}3 = 3 \\cdot 1 - 3 \\cdot 2 = 3 - 2 = 1.$$"
   ]
  },
  {
   "cell_type": "markdown",
   "id": "e1703f4b",
   "metadata": {},
   "source": [
    "##### <font color='red'> 6. $log_{a}b = \\frac{log_{c}b}{log_{c}a}$, $c > 0$ e $c \\neq 1$"
   ]
  },
  {
   "cell_type": "markdown",
   "id": "f331bcc9",
   "metadata": {},
   "source": [
    "<font color='blue'>"
   ]
  },
  {
   "cell_type": "markdown",
   "id": "42bda105",
   "metadata": {},
   "source": [
    "<font color='blue'> Por exemplo,\n",
    "$$log_{8}16 = \\frac{log_{2}16}{log_{2}8} = \\frac{4}{3}.$$"
   ]
  },
  {
   "cell_type": "markdown",
   "id": "85ac87d8",
   "metadata": {
    "ExecuteTime": {
     "end_time": "2023-09-11T14:11:16.292952Z",
     "start_time": "2023-09-11T14:11:16.289723Z"
    }
   },
   "source": [
    "#### Calculando logaritmos no Jupyter"
   ]
  },
  {
   "cell_type": "markdown",
   "id": "f792fe57",
   "metadata": {},
   "source": [
    "O cálculo de logaritmos no Jupyter Notebook é feito usando-se a função $log_{a}(x)$ (ou $math.log(a,x)$) em que $a$ é a base do logaritmo de $x$. Faz-se necessário a importação do módulo **math**."
   ]
  },
  {
   "cell_type": "code",
   "execution_count": 24,
   "id": "aa1dbc76",
   "metadata": {
    "ExecuteTime": {
     "end_time": "2023-09-11T15:07:04.942706Z",
     "start_time": "2023-09-11T15:07:04.937697Z"
    }
   },
   "outputs": [
    {
     "name": "stdout",
     "output_type": "stream",
     "text": [
      "1.0\n",
      "-1.0\n",
      "-0.19229489344026132\n"
     ]
    }
   ],
   "source": [
    "import math # módulo necessário (substitui o numpy)\n",
    "x1 = math.log(2,2) # logaritmo de 2 na base 2\n",
    "x2 = math.log(1/3,3) # logaritmo de 1/3 na base 3\n",
    "x3 = math.log(1.35,0.21) # logaritmo de 1.35 na base 0.21\n",
    "\n",
    "print(x1)\n",
    "print(x2)\n",
    "print(x3)"
   ]
  },
  {
   "cell_type": "markdown",
   "id": "0abe32e0",
   "metadata": {},
   "source": [
    "# <div style=\"margin-top: -20px;\">\n",
    "<hr style=\"border: 2px solid black;\">\n",
    "\n",
    "<font color='black'><span style=\"font-size: 22px;\"><strong>9.2 Definição e Exemplos</strong></span></font>\n",
    "\n",
    "<hr style=\"border: 2px solid black;\">\n",
    "</div>"
   ]
  },
  {
   "cell_type": "markdown",
   "id": "b74b3ed4",
   "metadata": {},
   "source": [
    "#### Relação Logaritmo-Exponencial"
   ]
  },
  {
   "cell_type": "markdown",
   "id": "33e117e5",
   "metadata": {},
   "source": [
    "A função logarítmica é uma espécie de volta da função exponencial. De modo geral, o cálculo de logaritmos exige o uso de tabelas (método arcaico) ou calculadoras científicas. Por exemplo, $log_{10} 7 = 0.84509804$ ao passo que $10^{0.84509804} = 7$ (ou $\\approx 7$ a depender da calculadora)."
   ]
  },
  {
   "cell_type": "markdown",
   "id": "f55f058e",
   "metadata": {},
   "source": [
    "#### Situação Prática"
   ]
  },
  {
   "cell_type": "markdown",
   "id": "4c78e600",
   "metadata": {},
   "source": [
    "Voltando ao exemplo inicial do **Capítulo 8** foi perguntado em qual mês certa planta cresceria a tal ponto de ocupar toda a superfície de um lago de $100 \\, m^{2}$. A função que modelava o crescimento da planta era dada por $f(x) = 2^{x}$. Contudo, apresentamos uma estimativa entre $6$ e $7$ semanas pois $2^{6} = 64$ e $2^{7} = 128$ são valores que cotavam $100$ por cima e por baixo. Mas qual seria o valor exato. O cálculo é bem simples (com uma calculadora científica). Pois bem, queremos $x$ tal que $2^{x} = 100$. Assim,\n",
    "\n",
    "$$2^{x} = 100 \\Leftrightarrow x = log_{2} 100 = 6.64385619 \\approx 6.64$$\n",
    "\n",
    "Logo, são necessários aproximadamente $6.64$ meses para que a superfície esteja completamente coberta."
   ]
  },
  {
   "cell_type": "markdown",
   "id": "16bec06a",
   "metadata": {},
   "source": [
    "#### Calculadoras e Logaritmos"
   ]
  },
  {
   "cell_type": "markdown",
   "id": "79d5454c",
   "metadata": {},
   "source": [
    "Algumas calculadoras só calculam $log_{a}b$ para $a = 10$. Neste caso, deve-se recorrer à propriedade da mudança de base <font color='red'> Propriedade 6. $log_{a}b = \\frac{log_{10}b}{log_{10}a}$. </font> \n",
    "\n",
    "Sendo assim,\n",
    "\n",
    "$$log_{2}100 = \\frac{log_{10}100}{log_{10}2} = \\frac{2}{0.301029995} = 6.64385619.$$"
   ]
  },
  {
   "cell_type": "markdown",
   "id": "b0d22ba0",
   "metadata": {},
   "source": [
    "####  <font color='red'> Definição 2 </font>"
   ]
  },
  {
   "cell_type": "markdown",
   "id": "8680b667",
   "metadata": {},
   "source": [
    "<font color='red'> Uma função $f: \\mathbb{R}_{+}^{*} \\rightarrow \\mathbb{R}$ é dita logarítmica se é escrita na forma $f(x) = log_{a}x$, $a > 0$, $a \\neq 1$."
   ]
  },
  {
   "cell_type": "markdown",
   "id": "300bf4d6",
   "metadata": {},
   "source": [
    "Decorre da **Definição 2** que $log_{a}x = y \\Leftrightarrow x = a^{y}$. Percebeu a relação clara com a função exponencial?"
   ]
  },
  {
   "cell_type": "markdown",
   "id": "6af47ba1",
   "metadata": {},
   "source": [
    "# <div style=\"margin-top: -20px;\">\n",
    "<hr style=\"border: 2px solid black;\">\n",
    "\n",
    "<font color='black'><span style=\"font-size: 22px;\"><strong>9.3 Esboço Gráfico</strong></span></font>\n",
    "\n",
    "<hr style=\"border: 2px solid black;\">\n",
    "</div>"
   ]
  },
  {
   "cell_type": "markdown",
   "id": "ab822d50",
   "metadata": {},
   "source": [
    "O esboço gráfico da função logarítmica é tão simples quanto o da função exponencial o qual faremos por meio da atribuição de valores (apenas $2$ são necessários). Vejamos alguns exemplos:"
   ]
  },
  {
   "cell_type": "markdown",
   "id": "795d7e17",
   "metadata": {},
   "source": [
    "####  <font color='blue'> Exemplo 1 </font>"
   ]
  },
  {
   "cell_type": "markdown",
   "id": "bb92c8cd",
   "metadata": {},
   "source": [
    "<font color='blue'> Esboce os gráficos das funções a seguir considerando as entradas dadas:<br><br>\n",
    " a) $f(x) = log_{2}x$, $x = \\frac{1}{2}$, $x = 1$, $x = 2$ e $x = 4$<br><br>\n",
    " b) $g(x) = log_{\\frac{1}{3}}x$, $x = \\frac{1}{3}$, $x = 1$, $x = 3$ e $x = 9$"
   ]
  },
  {
   "cell_type": "markdown",
   "id": "74547257",
   "metadata": {},
   "source": [
    "##### <font color='blue'> Solução </font>"
   ]
  },
  {
   "cell_type": "markdown",
   "id": "9764a396",
   "metadata": {},
   "source": [
    "<font color='blue'> Temos que:<br><br>\n",
    " a) $log_{2}\\frac{1}{2} = -1$, $log_{2} 1 = 0$, $log_{2} 2 = 1$ e $log_{2} 4 = 2$<br><br>\n",
    " b) $log_{\\frac{1}{3}} \\frac{1}{3} = 1$, $log_{\\frac{1}{3}} 1 = 0$, $log_{\\frac{1}{3}} 3 = -1$ e $log_{\\frac{1}{3}} 9 = -2$.<br><br>\n",
    " <center> <img src=\"fig9_1.jpg\" alt=\"jpg_python\" width=\"600\" height=\"\"> </center><br>"
   ]
  },
  {
   "cell_type": "markdown",
   "id": "cebf32c1",
   "metadata": {},
   "source": [
    "####  <font color='blue'> Exemplo 2 </font>"
   ]
  },
  {
   "cell_type": "markdown",
   "id": "ee021f7d",
   "metadata": {},
   "source": [
    "<font color='blue'> Use uma calculadora científica para esboçar o gráfico da função $h(x) = log_{\\frac{3}{2}}x$ considerando as entradas $x = \\frac{1}{2}$, $x = 1$, $x = 2$, $x = 3$."
   ]
  },
  {
   "cell_type": "markdown",
   "id": "e4f98c7a",
   "metadata": {},
   "source": [
    "##### <font color='blue'> Solução </font>"
   ]
  },
  {
   "cell_type": "markdown",
   "id": "50a1198f",
   "metadata": {},
   "source": [
    "<font color='blue'> Temos que<br><br>\n",
    " $log_{\\frac{3}{2}} \\frac{1}{2} \\approx -1,7$, $log_{\\frac{3}{2}} 1 = 0$, $log_{\\frac{3}{2}} 2 \\approx 1,7$ e $log_{\\frac{3}{2}} 3 \\approx 2,7$.<br><br>\n",
    " Temos o seguinte gráfico:<br><br>\n",
    " <center> <img src=\"fig9_2.jpg\" alt=\"jpg_python\" width=\"400\" height=\"\"> </center><br>"
   ]
  },
  {
   "cell_type": "markdown",
   "id": "61a7e89c",
   "metadata": {
    "ExecuteTime": {
     "end_time": "2023-09-11T15:56:50.421831Z",
     "start_time": "2023-09-11T15:56:50.418695Z"
    }
   },
   "source": [
    "#### Plotango Gráficos Com o Jupyter"
   ]
  },
  {
   "cell_type": "markdown",
   "id": "608f6ae9",
   "metadata": {},
   "source": [
    " código a seguir, usado no **Capítulo 5** apresentará o esboço de cada um dos gráficos dados no **Exemplo 1**"
   ]
  },
  {
   "cell_type": "code",
   "execution_count": 34,
   "id": "4a1b6b3f",
   "metadata": {
    "ExecuteTime": {
     "end_time": "2023-09-11T16:03:45.579039Z",
     "start_time": "2023-09-11T16:03:45.370768Z"
    }
   },
   "outputs": [
    {
     "data": {
      "image/png": "[encoded data removed]",
      "text/plain": [
       "<Figure size 640x480 with 1 Axes>"
      ]
     },
     "metadata": {},
     "output_type": "display_data"
    }
   ],
   "source": [
    "# Módulo contendo funções matemáticas não nativas\n",
    "import math \n",
    "import numpy as np\n",
    "import matplotlib.pyplot as plt # Módulo necessário para o esboço de gráficos\n",
    "\n",
    "# Definindo uma função\n",
    "def f(x):\n",
    "    return math.log(x, 2)  # repasse para math.log(x, 1/3)\n",
    "\n",
    "# Gerando o conjunto de entrada A\n",
    "x = np.arange(0.1, 10, 0.1) # Intervalo de plotagem\n",
    "\n",
    "# Plotando as retas dos eixos x e y\n",
    "plt.axhline(0, color='black', linewidth=2)  # Reta do eixo x\n",
    "plt.axvline(0, color='black', linewidth=2)  # Reta do eixo y\n",
    "\n",
    "# Configurações adicionais\n",
    "plt.title('Gráfico da função')\n",
    "plt.xlabel('Eixo-x')\n",
    "plt.ylabel('Eixo-y')\n",
    "plt.grid() # Grade\n",
    "\n",
    "# Plotando o gráfico\n",
    "plt.plot(x, [f(val) for val in x], '-', color='red') # '-' muda para uma linha ligando os pontos\n",
    "\n",
    "# Mostrando o gráfico\n",
    "plt.show()\n"
   ]
  },
  {
   "cell_type": "markdown",
   "id": "6de9cb6d",
   "metadata": {},
   "source": [
    "# <div style=\"margin-top: -20px;\">\n",
    "<hr style=\"border: 2px solid black;\">\n",
    "\n",
    "<font color='black'><span style=\"font-size: 18px;\"><strong>9.3.1 Esboço Gráfico Rápido</strong></span></font>\n",
    "\n",
    "<hr style=\"border: 2px solid black;\">\n",
    "</div>"
   ]
  },
  {
   "cell_type": "markdown",
   "id": "26fe9717",
   "metadata": {},
   "source": [
    "Analogamente à função exponencial só necessitamos calcular dois valores para esboçar o gráfico de uma função logarítmica $f(x) = log_{a}x$ que são $x = 1$ e $x = a$ que geram os pontos\n",
    "\n",
    "i) $x = 1 \\Rightarrow log_{a}1 = 0 \\Rightarrow (1,0)$\n",
    "\n",
    "ii) $x = a \\Rightarrow log_{a}a = 1 \\Rightarrow (a,1)$"
   ]
  },
  {
   "cell_type": "markdown",
   "id": "5d7c6c84",
   "metadata": {},
   "source": [
    "####  <font color='blue'> Exemplo 3 </font>"
   ]
  },
  {
   "cell_type": "markdown",
   "id": "a2d8d077",
   "metadata": {},
   "source": [
    "<font color='blue'> Esboce os gráficos das funções a seguir usando somente as entradas $x = 1$ e $x = a$ em que $a$ é a base da função logarítmica:<br><br>\n",
    " a) $f(x) = log_{3}x$ $\\ \\ \\ \\ \\ \\ \\ \\ \\ \\ \\ \\ \\ \\ $ b) $g(x) = log_{0.4}x$"
   ]
  },
  {
   "cell_type": "markdown",
   "id": "a2a4f159",
   "metadata": {},
   "source": [
    "##### <font color='blue'> Solução </font>"
   ]
  },
  {
   "cell_type": "markdown",
   "id": "781525cb",
   "metadata": {},
   "source": [
    "<font color='blue'> Temos os seguintes gráficos:<br><br>\n",
    " <center> <img src=\"fig9_3.jpg\" alt=\"jpg_python\" width=\"600\" height=\"\"> </center><br>\n"
   ]
  },
  {
   "cell_type": "markdown",
   "id": "873dcc7a",
   "metadata": {},
   "source": [
    "# <div style=\"margin-top: -20px;\">\n",
    "<hr style=\"border: 2px solid black;\">\n",
    "\n",
    "<font color='black'><span style=\"font-size: 22px;\"><strong>9.4 Exercícios</strong></span></font>\n",
    "\n",
    "<hr style=\"border: 2px solid black;\">\n",
    "</div>"
   ]
  },
  {
   "cell_type": "markdown",
   "id": "b35a5cba",
   "metadata": {},
   "source": [
    "#### Exercício 1"
   ]
  },
  {
   "cell_type": "markdown",
   "id": "2a6b4a2c",
   "metadata": {},
   "source": [
    "Encontre os valores solicitados. Caso necessário, use uma calculadora científica.\n",
    "\n",
    "a) $log_{10}25$ $ \\ \\ \\ \\ \\ $ b) $log 100$ $ \\ \\ \\ \\ \\ $ c) $log 0.8$ $ \\ \\ \\ \\ \\ $ d) $log_{2} 32$ $ \\ \\ \\ \\ \\ $ e) $log_{3} 81$ $ \\ \\ \\ \\ \\ $ f) $log_{\\frac{1}{2}} 4$ $ \\ \\ \\ \\ \\ $ \n",
    "\n",
    "g) $log_{0.5}5$ $ \\ \\ \\ \\ \\ \\ $ h) $log_{1.3} 12$ $ \\ \\ \\ \\ \\ $ i) $log_{13.784}13.784$"
   ]
  },
  {
   "cell_type": "markdown",
   "id": "ac69da1f",
   "metadata": {},
   "source": [
    "#### Exercício 2"
   ]
  },
  {
   "cell_type": "markdown",
   "id": "90e71ca6",
   "metadata": {},
   "source": [
    "Considere a função $f(x) = log_{4}x$:\n",
    "\n",
    "a) Determine $f(0.5)$.\n",
    "\n",
    "b) Determine $x$ tal que $f(x) = 3$.\n",
    "\n",
    "c) Determine $x$ tal que $f(x) = -2$."
   ]
  },
  {
   "cell_type": "markdown",
   "id": "2e7f40c0",
   "metadata": {},
   "source": [
    "#### Exercício 3"
   ]
  },
  {
   "cell_type": "markdown",
   "id": "1bb724f4",
   "metadata": {},
   "source": [
    "Considere a função $f(x) = log \\,x$:\n",
    "\n",
    "a) Determine $f(100)$.\n",
    "\n",
    "b) Determine $x$ tal que $f(x) = 5$.\n",
    "\n",
    "c) Determine $x$ tal que $f(x) = -3$.\n",
    "\n",
    "d) Determine $x$ tal que $f(x) = -0.4$."
   ]
  },
  {
   "cell_type": "markdown",
   "id": "3edbdbdb",
   "metadata": {},
   "source": [
    "#### Exercício 4"
   ]
  },
  {
   "cell_type": "markdown",
   "id": "1fe3abf4",
   "metadata": {},
   "source": [
    "Esboce o gráfico das funções a seguir considerando as entradas fornecidas:\n",
    "\n",
    "a) $f(x) = log_{3}x$, $x = \\frac{1}{3}$, $x = 1$ e $x = 3$\n",
    "\n",
    "b) $g(x) = log_{0.1}x$, $x = 0.1$, $x = 1$, $x = 5$ e $x = 10$"
   ]
  },
  {
   "cell_type": "markdown",
   "id": "37d58504",
   "metadata": {},
   "source": [
    "#### Exercício 5"
   ]
  },
  {
   "cell_type": "markdown",
   "id": "ae9fbe10",
   "metadata": {},
   "source": [
    "Apresente o esboço rápido das funções a seguir:\n",
    "\n",
    "a) $f(x) = log_{2}x$ $ \\ \\ \\ \\ \\ $ b) $g(x) = log_{1.7}x$ $ \\ \\ \\ \\ \\ $ c) $h(x) = log_{0.2}x$"
   ]
  },
  {
   "cell_type": "markdown",
   "id": "8e65e477",
   "metadata": {},
   "source": [
    "#### Exercício 6"
   ]
  },
  {
   "cell_type": "markdown",
   "id": "7c33a6b9",
   "metadata": {},
   "source": [
    "A altura de certa planta, a partir do segundo ano de vida é modelada pela função $H(t) = log_{1.5}(t)$ em que $H$ é dado em metros e $t$ em anos. Sabe-se que tais plantas vivem em média $40$ anos e continuam sempre crescendo segundo tal modelo, isto é, $2\\leq t \\leq 40$. Com base nestas informações, determine:\n",
    "\n",
    "a) A altura da planta a partir do momento em que o modelo começa a valer.\n",
    "\n",
    "b) A altura da planta aos $5$ anos de vida.\n",
    "\n",
    "c) A altura máxima atingida pela planta.\n",
    "\n",
    "d) Após quantos anos a planta tem sua altura igual à metade da sua altura máxima?"
   ]
  },
  {
   "cell_type": "markdown",
   "id": "196723ae",
   "metadata": {},
   "source": [
    "## <div style=\"margin-top: -20px;\">\n",
    "<hr style=\"border: 2px solid black;\">\n",
    "\n",
    "<font color='black'><span style=\"font-size: 18px;\"><strong>Respostas (em breve)</strong></span></font>\n",
    "\n",
    "<hr style=\"border: 2px solid black;\">\n",
    "</div>"
   ]
  },
  {
   "cell_type": "markdown",
   "id": "cfe6c7e8",
   "metadata": {},
   "source": [
    "#### Respostas do Exercício 1"
   ]
  },
  {
   "cell_type": "markdown",
   "id": "abeb8ed1",
   "metadata": {},
   "source": []
  },
  {
   "cell_type": "markdown",
   "id": "f5eced0c",
   "metadata": {},
   "source": [
    "#### Respostas do Exercício 2"
   ]
  },
  {
   "cell_type": "markdown",
   "id": "5a935fbd",
   "metadata": {},
   "source": []
  },
  {
   "cell_type": "markdown",
   "id": "ee46739c",
   "metadata": {},
   "source": [
    "#### Respostas do Exercício 3"
   ]
  },
  {
   "cell_type": "markdown",
   "id": "77243510",
   "metadata": {},
   "source": []
  },
  {
   "cell_type": "markdown",
   "id": "5ac2c9e1",
   "metadata": {},
   "source": [
    "#### Respostas do Exercício 4"
   ]
  },
  {
   "cell_type": "markdown",
   "id": "68e7346b",
   "metadata": {},
   "source": []
  },
  {
   "cell_type": "markdown",
   "id": "4e568688",
   "metadata": {},
   "source": [
    "#### Respostas do Exercício 5"
   ]
  },
  {
   "cell_type": "markdown",
   "id": "7153f156",
   "metadata": {},
   "source": []
  },
  {
   "cell_type": "markdown",
   "id": "3aac73b2",
   "metadata": {},
   "source": [
    "#### Respostas do Exercício 6"
   ]
  },
  {
   "cell_type": "markdown",
   "id": "955e04ca",
   "metadata": {},
   "source": []
  },
  {
   "cell_type": "markdown",
   "id": "9e4a04e6",
   "metadata": {},
   "source": [
    "# <div style=\"margin-top: -20px;\">\n",
    "<hr style=\"border: 2px solid black;\">\n",
    "\n",
    "<font color='black'><span style=\"font-size: 22px;\"><strong>9.5 Vídeo Aulas</strong></span></font>\n",
    "\n",
    "<hr style=\"border: 2px solid black;\">\n",
    "</div>"
   ]
  },
  {
   "cell_type": "markdown",
   "id": "42dc0ec2",
   "metadata": {},
   "source": [
    "Clicando nos links a seguir você será redirecionado às aulas referentes a este capítulo. *As vídeo aulas referentes aos exercícios serão adicionadas em breve*.\n",
    "\n",
    "[Propriedades de Logaritmos](https://youtu.be/lhO2o1RDFOQ)\n",
    "\n",
    "[Introdução ao Estudo da Função Logarítmica](https://youtu.be/keLxdXp-MBg)\n",
    "\n",
    "[Exemplo Envolvendo o Esboço Gráfico da Função Logarítmica (1)](https://youtu.be/9BN7deDTfEk)\n",
    "\n",
    "[Exemplo Envolvendo o Esboço Gráfico da Função Logarítmica (2)](https://youtu.be/IBIj-nTGV1Y)\n",
    "\n",
    "[Esboço Gráfico Padrão da Função Logarítmica](https://youtu.be/0ehncGAbeuU)"
   ]
  }
 ],
 "metadata": {
  "kernelspec": {
   "display_name": "Python 3 (ipykernel)",
   "language": "python",
   "name": "python3"
  },
  "language_info": {
   "codemirror_mode": {
    "name": "ipython",
    "version": 3
   },
   "file_extension": ".py",
   "mimetype": "text/x-python",
   "name": "python",
   "nbconvert_exporter": "python",
   "pygments_lexer": "ipython3",
   "version": "3.11.5"
  },
  "varInspector": {
   "cols": {
    "lenName": 16,
    "lenType": 16,
    "lenVar": 40
   },
   "kernels_config": {
    "python": {
     "delete_cmd_postfix": "",
     "delete_cmd_prefix": "del ",
     "library": "var_list.py",
     "varRefreshCmd": "print(var_dic_list())"
    },
    "r": {
     "delete_cmd_postfix": ") ",
     "delete_cmd_prefix": "rm(",
     "library": "var_list.r",
     "varRefreshCmd": "cat(var_dic_list()) "
    }
   },
   "types_to_exclude": [
    "module",
    "function",
    "builtin_function_or_method",
    "instance",
    "_Feature"
   ],
   "window_display": false
  }
 },
 "nbformat": 4,
 "nbformat_minor": 5
}
