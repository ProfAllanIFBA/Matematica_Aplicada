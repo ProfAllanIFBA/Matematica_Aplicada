{
 "cells": [
  {
   "cell_type": "markdown",
   "id": "de40f19b",
   "metadata": {},
   "source": [
    "<center> <img src=\"logo_ifba.jpg\" alt=\"jpg_python\" width=\"100\" height=\"200\"> </center>\n",
    "<br><br>\n",
    "<div align=\"center\"><span style=\"font-size: 26px;\"><strong>Matemática Aplicada<br></strong></span></div> <br>\n",
    "<center> <img src=\"python_gif.gif\" alt=\"gif_python\" width=\"80\"> </center>"
   ]
  },
  {
   "cell_type": "markdown",
   "id": "52af9bb6",
   "metadata": {},
   "source": [
    "<div style=\"border: 2px solid black; padding: 10px; width: 95%; background-color: lightgray; display: flex; align-items: center;\">\n",
    "    <h1 style=\"color: red; text-align: center; margin: auto;\">\n",
    "        Capítulo 5: Funções\n",
    "    </h1>\n",
    "</div>\n",
    "\n",
    "<font color='red'></font>\n",
    "<a href=\"\"></a>"
   ]
  },
  {
   "cell_type": "markdown",
   "id": "0c2310e1",
   "metadata": {},
   "source": [
    "No estudo da matemática, as funções desempenham um papel fundamental ao descrever as relações entre diferentes quantidades. Uma função associa cada elemento de um conjunto de partida a um único elemento em um conjunto de chegada, revelando padrões, conexões e comportamentos essenciais em diversos contextos. Seja na análise de fenômenos naturais, na modelagem de sistemas complexos ou na resolução de problemas do cotidiano, compreender as propriedades das funções é essencial para construir uma base sólida no vasto universo matemático. Neste capítulo, exploraremos os conceitos fundamentais das funções, sua representação gráfica e suas aplicações, permitindo-nos desvendar as relações subjacentes que governam o mundo ao nosso redor."
   ]
  },
  {
   "cell_type": "markdown",
   "id": "4bcf7343",
   "metadata": {},
   "source": [
    "# <div style=\"margin-top: -20px;\">\n",
    "<hr style=\"border: 2px solid black;\">\n",
    "\n",
    "<font color='black'><span style=\"font-size: 22px;\"><strong>5.1 Definição e Exemplos</strong></span></font>\n",
    "\n",
    "<hr style=\"border: 2px solid black;\">\n",
    "</div>"
   ]
  },
  {
   "cell_type": "markdown",
   "id": "49ba59d1",
   "metadata": {},
   "source": [
    "Em muitas situações associamos elementos de um conjunto a elementos de outro conjunto (que pode inclusive ser o mesmo). Por exemplo, suponha que cada aluno de artes marciais da turma do professor Chuck Norris tenha seu peso corporal registrado em uma ficha da seguinte forma:<br><br>\n",
    "\\begin{array}{|c|c|} \n",
    "\\hline\n",
    "Aluno\t\t    & Peso (Kg) \\\\\n",
    "\\hline\n",
    "Bruce Lee\t    &  62 \\\\\n",
    "\\hline\n",
    "Goku\t        &  63 \\\\\n",
    "\\hline\n",
    "He Man\t        &  125 \\\\\n",
    "\\hline\n",
    "Jason Statham\t& 84  \\\\\n",
    "\\hline\n",
    "Jaspion\t        & 65 \\\\\n",
    "\\hline\n",
    "Jet Li\t        & 66 \\\\\n",
    "\\hline\n",
    "Van Damme\t    & 84 \\\\\n",
    "\\hline\n",
    "\\end{array}"
   ]
  },
  {
   "cell_type": "markdown",
   "id": "e4cba423",
   "metadata": {},
   "source": [
    "Para explorar mais a situação descrita acima apresentemos o conceito de função:"
   ]
  },
  {
   "cell_type": "markdown",
   "id": "d3f1e5b2",
   "metadata": {},
   "source": [
    "####  <font color='red'> Definição 1 </font>"
   ]
  },
  {
   "cell_type": "markdown",
   "id": "548769fa",
   "metadata": {},
   "source": [
    "<font color='red'>Sejam $A$ e $B$ conjuntos não vazios. Uma **função** $f$ de $A$ em $B$ é uma determinação de exatamente um elemento $B$ para cada elemento de $A$. Escrevemos $f(a) = b$ se $b$ for o único elemento de $B$ determinado para o elemento $a$ de $A$. Se $f$ é uma função de $A$ para $B$, escrevemos $f: A \\rightarrow B$."
   ]
  },
  {
   "cell_type": "markdown",
   "id": "30d95680",
   "metadata": {},
   "source": [
    "Note que, na tabela apresentada anteriormente, temos uma função de $A = \\{$Bruce Lee, Goku, He Man, Jason Statham, Jaspion, Jet Li, Van Damme $\\}$ para $B = \\{62, 63, 65, 66, 84, 125\\}$. A cada elemento de $A$ associamos um único elemento de $B$. Isto é, um peso para cada indivíduo (não o contrário!). Uma representação bastante comum se dá pela utilização de um diagrama de setas:<br><br>\n",
    " <center> <img src=\"fig8_1.jpg\" alt=\"jpg_python\" width=\"250\" height=\"\"> </center>"
   ]
  },
  {
   "cell_type": "markdown",
   "id": "5e935366",
   "metadata": {},
   "source": [
    "####  <font color='red'> Definição 2 </font>"
   ]
  },
  {
   "cell_type": "markdown",
   "id": "91e8ad4c",
   "metadata": {},
   "source": [
    "<font color='red'> Uma outra definição de uma função $f: A \\rightarrow B$ em termos de uma **relação** de $A$ para $B$. Entenda uma relação de $A$ para $B$ como apenas como um subconjunto do produto cartesiano $A \\times B$. Uma relação que contém um, e apenas um, par ordenado $(a,b)$ para cada $a \\in A$, define uma função $f$ de $A$ em $B$."
   ]
  },
  {
   "cell_type": "markdown",
   "id": "e23f6053",
   "metadata": {},
   "source": [
    "#### Função Como Mapeamento"
   ]
  },
  {
   "cell_type": "markdown",
   "id": "b0c6763b",
   "metadata": {},
   "source": [
    "A figura a seguir apresenta uma função como uma espécie de mapeamente de um conjunto em outro:<br><br>  <center> <img src=\"fig8_2.jpg\" alt=\"jpg_python\" width=\"400\" height=\"\"> </center>"
   ]
  },
  {
   "cell_type": "markdown",
   "id": "7abd3fa8",
   "metadata": {},
   "source": [
    "####  <font color='blue'> Exemplo 1 </font>"
   ]
  },
  {
   "cell_type": "markdown",
   "id": "008187db",
   "metadata": {},
   "source": [
    "<font color='blue'> Sejam os conjuntos $A = \\{1, 2, 3, 5\\}$ e $B =\\{-1, 0, 1, 6\\}$. Determine quais das relações a seguir são funções de $A$ para $B$.<br><br>\n",
    " a) $R_{1} = \\{(1,-1), (2,1), (3,0), (5,6)\\}$ $\\ \\ \\ \\ \\ \\ \\ \\ \\ \\ \\ \\ $ b) $R_{2} = \\{(1,0), (2,1), (3,0), (5,6)\\}$<br><br>\n",
    " c) $R_{3} = \\{(1,0), (2,1), (3,0), (3,6), (5,6)\\}$ $\\ \\ \\ \\ $ d) $R_{4} = \\{(1,0), (2,1), (3,0)\\}$<br><br>\n",
    " e) $R_{5} = \\{(1,0), (2,1), (-1,0), (3,6), (5,6)\\}$ $\\ \\ $ f) $R_{6} = \\{(1,0), (2,0), (3,0), (5,0)\\}$"
   ]
  },
  {
   "cell_type": "markdown",
   "id": "e7c5888f",
   "metadata": {},
   "source": [
    "<font color='blue'> **Solução**: a) Temos que $R_{1}$ é uma função de $A$ para $B$, pois todo elemento de $A$ se corresponde com um único elemento de $B$. De fato, $f(1) = -1$, $f(2) = 1$, $f(3) = 0$ e $f(5) = 6$.<br><br>\n",
    " b) Temos que $R_{2}$ é uma função de $A$ para $B$, pois todo elemento de $A$ se corresponde com um único elemento de $B$. De fato, $f(1) = 0$, $f(2) = 1$, $f(3) = 0$ e $f(5) = 6$. Aqui cabe uma observação. Note que o valor $-1$ pertencente ao conjunto $B$ não foi associado a nenhum elemento pertencente ao conjunto $A$. Isto não contradiz as definições anteriores. Da mesma forma, dois elementos do conjunto $A$ tem um mesmo correspondente no conjunto $B$, o que também não é um problema para a definição de função.<br><br>\n",
    " c) Temos que $R_{3}$ não é uma função de $A$ para $B$, pois existe o elemento $a = 3$ do conjunto $A$ que se corresponde com mais de um elemento do conjunto $B$, isto é, $f(3) = 0$ e $f(3) = 6$.<br><br>\n",
    " d) Temos que $R_{4}$ não é uma função de $A$ para $B$, pois existe $a = 5$ de $A$ que não se corresponde com nenhum valor do conjunto $B$.<br><br>\n",
    " e) Temos que $R_{5}$ não é uma função de $A$ para $B$, pois o par $(-1,0)$ não pertence ao produto cartesiano $A \\times B$.<br><br>\n",
    " f) Temos que $R_{6}$ é uma função de $A$ para $B$, pois todo elemento de $A$ se corresponde com um único elemento de $B$. De fato, $f(1) = 0$, $f(2) = 0$, $f(3) = 0$ e $f(5) = 0$."
   ]
  },
  {
   "cell_type": "markdown",
   "id": "5d4ee5ac",
   "metadata": {},
   "source": [
    "####  <font color='red'> Definição 3 </font>"
   ]
  },
  {
   "cell_type": "markdown",
   "id": "e12493cb",
   "metadata": {},
   "source": [
    "<font color='red'> Se $f$ é uma função de $A$ para $B$, dizemos que $A$ é o **domínio** de $f$ e $B$ é o **contradomínio**  de $f$. Se $f(a) = b$, dizemos que $b$ é a **imagem** de $a$ e $a$ é a **imagem inversa** de $B$. A **imagem** de $f$ é o conjunto com todas as imagens dos elementos de $A$. Além disso, se $f$ é uma função de $A$ para $B$ dizemos que $f$ mapeia $A$ para $B$. Indicaremos o domínio, o contradomínio e a imagem de $f$, respectivamente, por: $D(f)$, $CD(f)$ e $Im(f)$."
   ]
  },
  {
   "cell_type": "markdown",
   "id": "ad11089a",
   "metadata": {},
   "source": [
    "####  <font color='blue'> Exemplo 2 </font>"
   ]
  },
  {
   "cell_type": "markdown",
   "id": "18ac28c0",
   "metadata": {},
   "source": [
    "<font color='blue'> Dados os conjuntos $A = \\{1,2,3,4\\}$ e $B = \\{-1,0,1,2,3\\}$ determine o domínio, a imagem e o contradomínio das funções de $A$ para $B$ cujos pares ordenados estão listados a seguir:<br><br>\n",
    " a) $f = \\{(1,-1), (2,3), (3,0), (4,2)\\}$ $\\ \\ \\ \\ \\ \\ \\ \\ \\ \\ $ b) $g = \\{(1,1), (2,1), (3,1), (4,1)\\}$"
   ]
  },
  {
   "cell_type": "markdown",
   "id": "7ac99ea2",
   "metadata": {},
   "source": [
    "<font color='blue'> **Solução**: a) Trivialmente, temos $D(f) = \\{1, 2, 3, 4\\}$, $CD(f) = \\{-1,0,1,2,3\\}$ e $Im(f) = \\{-1, 0, 2, 3\\}$.<br><br>\n",
    " b) Trivialmente, temos $D(f) = \\{1, 2, 3, 4\\}$, $CD(f) = \\{-1,0,1,2,3\\}$ e $Im(f) = \\{1\\}$."
   ]
  },
  {
   "cell_type": "markdown",
   "id": "890c296a",
   "metadata": {},
   "source": [
    "Em alguns casos, o domínio de $f$ não vem explicitado (no PC, geralmente, temos que fazê-lo). Nestes casos costuma-se considerar o domínio como sendo o conjunto maximal para o qual a fórmula de $f$ faz sentido."
   ]
  },
  {
   "cell_type": "markdown",
   "id": "2fa897a2",
   "metadata": {},
   "source": [
    "####  <font color='blue'> Exemplo 3 </font>"
   ]
  },
  {
   "cell_type": "markdown",
   "id": "54519469",
   "metadata": {},
   "source": [
    "<font color='blue'> Determine o domínio das seguintes funções:<br><br>\n",
    " a) $f(x) = x^{2}$ $\\ \\ \\ \\ \\ \\ \\ \\ \\ \\ \\ \\ \\ \\ \\ \\ \\ \\ \\ \\ $ b) $g(x) = \\frac{1}{4-x^{2}}$ $\\ \\ \\ \\ \\ \\ \\ \\ \\ \\ \\ \\ \\ \\ \\ \\ \\ \\ \\ \\ \\ $ c) $h(x) = \\sqrt[4]{3x - 1}$<br><br>\n",
    " d) $k(x) = \\frac{x+1}{\\sqrt{x+2}}$ $\\ \\ \\ \\ \\ \\ \\ \\ \\ \\ \\ \\ \\ \\ \\ $ e)  $s(x) = \\frac{1}{x-3} + \\sqrt[6]{x-1}$ $\\ \\ \\ \\ \\ $ f) $t(x) = \\frac{x}{\\sqrt[3]{x-5}}$"
   ]
  },
  {
   "cell_type": "markdown",
   "id": "6ae9927b",
   "metadata": {},
   "source": [
    "<font color='blue'> **Solução**: a) Note que $f$ não tem qualquer restrição quanto aos números que a função faz sentido. Logo, podemos admitir que $D(f) = \\mathbb{R}$.<br><br>\n",
    " b) Note que $g$ tem a presença de um denominador. Neste caso, este deve ser diferente de zero. Assim,\n",
    "$$g(x) = \\frac{1}{4-x^{2}} \\Rightarrow 4 - x^{2} \\neq 0 \\Rightarrow x^{2} \\neq 4 \\Rightarrow x^{2} \\neq \\pm 2 \\Rightarrow D(g) = \\{x \\in \\mathbb{R}| x \\neq -2 \\,\\, e \\,\\, x \\neq 2\\}.$$<br><br>\n",
    " c) Note que temos a presença de um índice par no radical, neste caso, os números internos a este não podem ser negativos. Assim,\n",
    "$$h(x) = \\sqrt[4]{3x - 1} \\Rightarrow 3x - 1 \\geq 0 \\Rightarrow 3x \\geq 1 \\Rightarrow x \\geq \\frac{1}{3} \\Rightarrow D(h) = \\{x \\in \\mathbb{R}|x \\geq \\frac{1}{3}\\}.$$<br><br>\n",
    " d) Note que temos a presença de uma raiz quadrada (índice par) no denominador. Neste caso, internamente a esta raiz não podemos ter um valor negativo ou nulo. Assim,\n",
    "$$k(x) = \\frac{x+1}{\\sqrt{x+2}} \\Rightarrow x + 2 > 0 \\Rightarrow x > -2 \\Rightarrow D(k) = \\{x \\in \\mathbb{R}| x > -2\\}.$$<br><br>\n",
    " e) Note que temos a presença de um denominador e de uma raiz com com índice par. Neste caso, devemos tomar o domínio levando em conta as duas restrições, isto é, tomar a interseção dos domínios. Assim,\n",
    "$$s(x) = \\frac{1}{x-3} + \\sqrt[6]{x-1} \\Rightarrow x - 3\\neq 0 \\,\\, e \\,\\, x - 1 > 0 \\Rightarrow x \\neq 3 \\,\\, e \\,\\, x > 1 \\Rightarrow D(s) = \\{x \\in \\mathbb{R}| x \\neq 3 \\,\\, e \\,\\, x > 1\\}.$$<br><br>\n",
    " f) Note que temos a presença de uma raiz de índice ímpar no denominador. Neste caso, a raiz não nos traz preocupação (número negativo tem raiz de índice ímpar). Contudo o denominador nos traz um problema, este não pode ser nulo. Assim, \n",
    "$$t(x) = \\frac{x}{\\sqrt[3]{x-5}} \\Rightarrow \\sqrt[3]{x-5} \\neq 0 \\Rightarrow x - 5 \\neq 0 \\Rightarrow x \\neq 5 \\Rightarrow D(t) = \\{x \\in \\mathbb{R}|x \\neq 5\\}.$$"
   ]
  },
  {
   "cell_type": "markdown",
   "id": "41994560",
   "metadata": {},
   "source": [
    "####  <font color='blue'> Exemplo 4 </font>"
   ]
  },
  {
   "cell_type": "markdown",
   "id": "a4948c8b",
   "metadata": {},
   "source": [
    "<font color='blue'> Considere a função $f: \\mathbb{Z} \\rightarrow \\mathbb{Z}$ como sendo a função que determina o quadrado de um número inteiro. Determine o domínio, a imagem e o contradomínio de $f$."
   ]
  },
  {
   "cell_type": "markdown",
   "id": "d3e483c5",
   "metadata": {},
   "source": [
    "<font color='blue'> **Solução**: Temos que $D(f) = \\mathbb{Z}$ (explicitado), $Im(f) = \\{ 0,1,4,9,\\ldots\\}$ e $CD(f) = \\mathbb{Z}$ (explicitado)."
   ]
  },
  {
   "cell_type": "markdown",
   "id": "bae7c673",
   "metadata": {},
   "source": [
    "#### Linguagens de programação"
   ]
  },
  {
   "cell_type": "markdown",
   "id": "163cbf61",
   "metadata": {},
   "source": [
    "Algumas especificações quanto ao domínio de variáveis são muito frequentes nas mais diversas linguagens de programação,das quais podemos citar algumas:\n",
    "\n",
    "byte $a$\n",
    "\n",
    "char $t$\n",
    "\n",
    "int $valor$\n",
    "\n",
    "float $x,y$\n",
    "\n",
    "int $dia = 20$\n",
    "\n",
    "char  $sexo =$ 'F'"
   ]
  },
  {
   "cell_type": "markdown",
   "id": "e53cfa72",
   "metadata": {},
   "source": [
    "####  <font color='blue'> Exemplo 5 </font>"
   ]
  },
  {
   "cell_type": "markdown",
   "id": "a84c46f7",
   "metadata": {},
   "source": [
    "<font color='blue'> Na linguagem de programação java, por exemplo, temos, por exemplo a função<br><br>\n",
    " **int floor(float real)**<br><br>\n",
    " Temos que o domínio desta função é o conjunto dos números reais, e seu contradomínio, o conjunto dos inteiros. O método floor é utilizado para arredondar um número real (float real) para maior inteiro menor ou igual ao número de entrada. Por exemplo, a imagem de $2,15$ é igual a $2$, a imagem de $5$ é o próprio $5$."
   ]
  },
  {
   "cell_type": "markdown",
   "id": "b10e58a2",
   "metadata": {},
   "source": [
    "# <div style=\"margin-top: -20px;\">\n",
    "<hr style=\"border: 2px solid black;\">\n",
    "\n",
    "<font color='black'><span style=\"font-size: 22px;\"><strong>5.2 Exercícios</strong></span></font>\n",
    "\n",
    "<hr style=\"border: 2px solid black;\">\n",
    "</div>"
   ]
  },
  {
   "cell_type": "markdown",
   "id": "671b4ff5",
   "metadata": {},
   "source": [
    "#### Exercício 1"
   ]
  },
  {
   "cell_type": "markdown",
   "id": "225d0af5",
   "metadata": {},
   "source": [
    "Dados os conjuntos $A = \\{0,-1,1,-3,3\\}$ e $B = \\{0, 3, 27, -3, -9, 1\\}$, quais das relações seguintes são funções de $A$ para $B$.\n",
    "\n",
    "a) $R_{1} = \\{(x,y) \\in A \\times B| y = 3x^{2}\\}$ $\\ \\ \\ \\ \\ $ b) $R_{2} = \\{(x,y) \\in A \\times B| y = x\\}$ $\\ \\ \\ \\ \\ $ \n",
    "\n",
    "c) $R_{4} = \\{(x,y) \\in A \\times B| y = 3\\}$"
   ]
  },
  {
   "cell_type": "markdown",
   "id": "dc50717d",
   "metadata": {},
   "source": [
    "#### Exercício 2"
   ]
  },
  {
   "cell_type": "markdown",
   "id": "de9e4dcc",
   "metadata": {},
   "source": [
    "Dados os conjuntos $A = \\{-2, -1, 0, 1, 2\\}$ e $B = \\{0, 1, 2, 3, 4, 5\\}$, determine o domínio, o contradomínio e a imagem da função $f = \\{(x,y) \\in A \\times B| y = x^{2} + 1\\}$"
   ]
  },
  {
   "cell_type": "markdown",
   "id": "768642e3",
   "metadata": {},
   "source": [
    "#### Exercício 3"
   ]
  },
  {
   "cell_type": "markdown",
   "id": "693db911",
   "metadata": {},
   "source": [
    "Determine o domínio das seguintes funções.\n",
    "\n",
    "a) $f(x) = \\frac{1}{3x}$, $\\ \\ \\ \\ \\ \\ \\ \\ \\ \\ \\ \\ \\ \\ \\ \\ \\ \\ \\ \\ $ b) $g(x) = \\sqrt{3x + 4}$ $\\ \\ \\ \\ \\ \\ \\ \\ \\ \\ \\ \\ \\ \\ \\ \\ \\ \\ \\ \\ $ c) $h(x) = \\frac{x + 1}{\\sqrt{5-x}}$\n",
    "\n",
    "d) $s(x) = \\sqrt[3]{2x-3}$ $\\ \\ \\ \\ \\ \\ \\ \\ \\ \\ \\ $ e) $t(x) = \\frac{2}{x^{2}-9} + \\sqrt{2x-1}$"
   ]
  },
  {
   "cell_type": "markdown",
   "id": "1cdedc46",
   "metadata": {},
   "source": [
    "## <div style=\"margin-top: -20px;\">\n",
    "<hr style=\"border: 2px solid black;\">\n",
    "\n",
    "<font color='black'><span style=\"font-size: 18px;\"><strong>Respostas</strong></span></font>\n",
    "\n",
    "<hr style=\"border: 2px solid black;\">\n",
    "</div>"
   ]
  },
  {
   "cell_type": "markdown",
   "id": "d96f9cb2",
   "metadata": {},
   "source": [
    "#### Respostas do Exercício 1"
   ]
  },
  {
   "cell_type": "markdown",
   "id": "c24812de",
   "metadata": {},
   "source": [
    "Somente $R_{1}$ e $R_{4}$ são funções de $A$ para $B$."
   ]
  },
  {
   "cell_type": "markdown",
   "id": "3074db72",
   "metadata": {},
   "source": [
    "#### Respostas do Exercício 2"
   ]
  },
  {
   "cell_type": "markdown",
   "id": "e34ec2a6",
   "metadata": {},
   "source": [
    "$D(f) = A = \\{-2, -1, 0, 1, 2\\}$, $CD(f) = B = \\{0, 1, 2, 3, 4, 5\\}$ e $Im(f) = \\{1, 2, 5\\}$."
   ]
  },
  {
   "cell_type": "markdown",
   "id": "64674ec4",
   "metadata": {},
   "source": [
    "#### Respostas do Exercício 3"
   ]
  },
  {
   "cell_type": "markdown",
   "id": "474ed138",
   "metadata": {},
   "source": [
    "a) $D(f) = \\mathbb{R}_{*}$, b) $D(g) = \\{x \\in \\mathbb{R}| x \\geq -\\frac{4}{3}\\}$, \n",
    "c) $D(h) = \\{x \\in \\mathbb{R}| x < 5 \\}$, d) $D(s) = \\mathbb{R}$, \n",
    "\n",
    "e) $D(t) = \\{x \\in \\mathbb{R}| (x \\geq \\frac{1}{2}) \\wedge (x \\neq 3)\\}$."
   ]
  },
  {
   "cell_type": "markdown",
   "id": "9e4a04e6",
   "metadata": {},
   "source": [
    "# <div style=\"margin-top: -20px;\">\n",
    "<hr style=\"border: 2px solid black;\">\n",
    "\n",
    "<font color='black'><span style=\"font-size: 22px;\"><strong>5.3 Vídeo Aulas</strong></span></font>\n",
    "\n",
    "<hr style=\"border: 2px solid black;\">\n",
    "</div>"
   ]
  },
  {
   "cell_type": "markdown",
   "id": "42dc0ec2",
   "metadata": {},
   "source": [
    "Clicando nos links a seguir você será redirecionado às aulas referentes a este capítulo.\n",
    "\n",
    "[Função](https://youtu.be/NCNzbW5tKY8)\n",
    "\n",
    "[Função Como Uma Relação Especial](https://youtu.be/KLx_BUBg2iM)\n",
    "\n",
    "[Função: Domínio, Contradomínio, Imagem e Imagem Inversa](https://youtu.be/_3HZlG4y8Gg)\n",
    "\n",
    "[Exemplo: Domínio Não Explicitado de Funções Reais](https://youtu.be/k3m3Rhst1Hs)\n",
    "\n",
    "[Exemplo: Domínio, Contradomínio e Imagem (1)](https://youtu.be/WDhi3QjKh9g)\n",
    "\n",
    "[Exemplo: Domínio, Contradomínio e Imagem (2)](https://youtu.be/NOflTjvTA8w)\n",
    "\n",
    "[Exemplo: Domínio, Contradomínio e Imagem em Programação (Java)](https://youtu.be/huEwjjcjQ6c)\n",
    "\n",
    "[Exercício 1: Reconhecendo Uma Função a Partir da Definição](https://youtu.be/KB-iCYjxbhY)\n",
    "\n",
    "[Exercício 2: Cálculo do Domínio, Contradomínio e Imagem de Uma Função](https://youtu.be/Ow1m1u1MbOw)\n",
    "\n",
    "[Exercício 3: Cálculo do Domínio de Funções](https://youtu.be/7PYUVLfaVrg)"
   ]
  },
  {
   "cell_type": "markdown",
   "id": "90ad38ef",
   "metadata": {},
   "source": [
    "# <div style=\"margin-top: -20px;\">\n",
    "<hr style=\"border: 2px solid black;\">\n",
    "\n",
    "<font color='black'><span style=\"font-size: 22px;\"><strong>5.4 No Computador (Experimental)</strong></span></font>\n",
    "\n",
    "<hr style=\"border: 2px solid black;\">\n",
    "</div>"
   ]
  },
  {
   "cell_type": "markdown",
   "id": "eb1bdb5f",
   "metadata": {},
   "source": [
    "Os códigos apresentados a seguir funcionarão bem para praticamente todos os tipos de funções inclusive as que serão vistas nos **Capítulos 6, 7, 8** e **9**."
   ]
  },
  {
   "cell_type": "markdown",
   "id": "b91a4584",
   "metadata": {},
   "source": [
    "### Definindo uma função"
   ]
  },
  {
   "cell_type": "markdown",
   "id": "001f5e47",
   "metadata": {},
   "source": [
    "O código a seguir apresenta a função $f(x) = x^{2}$:"
   ]
  },
  {
   "cell_type": "code",
   "execution_count": 17,
   "id": "a4d0700e",
   "metadata": {
    "ExecuteTime": {
     "end_time": "2023-08-08T14:45:07.212350Z",
     "start_time": "2023-08-08T14:45:07.208335Z"
    }
   },
   "outputs": [],
   "source": [
    "# Definindo uma função\n",
    "def f(x):\n",
    "    return x**2"
   ]
  },
  {
   "cell_type": "code",
   "execution_count": 6,
   "id": "9c2b6fd0",
   "metadata": {
    "ExecuteTime": {
     "end_time": "2023-08-08T14:32:45.451445Z",
     "start_time": "2023-08-08T14:32:45.446458Z"
    }
   },
   "outputs": [
    {
     "name": "stdout",
     "output_type": "stream",
     "text": [
      "4\n",
      "0\n",
      "9\n"
     ]
    }
   ],
   "source": [
    "# Calculando valores\n",
    "print(f(2))\n",
    "print(f(0))\n",
    "print(f(-3))"
   ]
  },
  {
   "cell_type": "markdown",
   "id": "011e7c13",
   "metadata": {
    "ExecuteTime": {
     "end_time": "2023-08-08T14:40:32.053203Z",
     "start_time": "2023-08-08T14:40:32.048216Z"
    }
   },
   "source": [
    "### Funções Não-Nativas"
   ]
  },
  {
   "cell_type": "markdown",
   "id": "b965e3e8",
   "metadata": {},
   "source": [
    "Algumas funções não são nativas do python e precisam da importação de algum módulo especial para funcionarem. Por exemplo, a função $g(x) = log_{10}(x)$, correspondendo ao logaritmo de base $10$. Podemos importá-la, por exemplo, da biblioteca numpy. Em particular, $D(g) = \\mathbb{R}_{+}^{*}$ e $Im(g) = \\mathbb{R}$."
   ]
  },
  {
   "cell_type": "code",
   "execution_count": 25,
   "id": "3e9e90e9",
   "metadata": {
    "ExecuteTime": {
     "end_time": "2023-08-08T14:51:07.580575Z",
     "start_time": "2023-08-08T14:51:07.575588Z"
    }
   },
   "outputs": [],
   "source": [
    "# Módulo contendo funções matemáticas não nativas\n",
    "import numpy as np\n",
    "\n",
    "# Definindo uma função\n",
    "def g(x):\n",
    "    return np.log10(x)"
   ]
  },
  {
   "cell_type": "code",
   "execution_count": 13,
   "id": "c9610383",
   "metadata": {
    "ExecuteTime": {
     "end_time": "2023-08-08T14:36:43.163777Z",
     "start_time": "2023-08-08T14:36:43.158790Z"
    }
   },
   "outputs": [
    {
     "name": "stdout",
     "output_type": "stream",
     "text": [
      "1.0\n",
      "2.0\n",
      "1.6551384348113822\n"
     ]
    }
   ],
   "source": [
    "# Avaliando g(x) em diversos valores\n",
    "print(g(10))\n",
    "print(g(100))\n",
    "print(g(45.2))"
   ]
  },
  {
   "cell_type": "code",
   "execution_count": 14,
   "id": "f95da20e",
   "metadata": {
    "ExecuteTime": {
     "end_time": "2023-08-08T14:37:05.746932Z",
     "start_time": "2023-08-08T14:37:05.742914Z"
    }
   },
   "outputs": [
    {
     "name": "stdout",
     "output_type": "stream",
     "text": [
      "nan\n"
     ]
    },
    {
     "name": "stderr",
     "output_type": "stream",
     "text": [
      "C:\\Users\\Hell\\AppData\\Local\\Temp\\ipykernel_2792\\398730421.py:6: RuntimeWarning: invalid value encountered in log10\n",
      "  return np.log10(x)\n"
     ]
    }
   ],
   "source": [
    "# Avaliação fora do domínio\n",
    "print(g(-1))"
   ]
  },
  {
   "cell_type": "markdown",
   "id": "3fd30b48",
   "metadata": {},
   "source": [
    "O erro obtido ao executarmos a célula a seguir se deve ao fato de o domínio de $g(x) = log_{10}(x)$ não comportar valores negativos."
   ]
  },
  {
   "cell_type": "markdown",
   "id": "a61a3e2c",
   "metadata": {},
   "source": [
    "Outras funções não nativas são, $f(x) = sin(x)$(seno), $cos(x)$, $tg(x)$, $e^{x}$ etc. Todas elas precisam da importação de alguma biblioteca especial. Por outro lado, funções como $x^{2}$, $\\frac{x^{3}+1}{3x+2}$, $2^{x}$, etc já estão pré-configuradas e prontas para uso. Em particular, $x^{2} = x**2$, $\\frac{x^{3}+1}{3x+2} = (x**3+1)/(3*x+2)$, $2^{x} = 2**x$."
   ]
  },
  {
   "cell_type": "markdown",
   "id": "fa4b035b",
   "metadata": {
    "ExecuteTime": {
     "end_time": "2023-08-08T14:44:55.028164Z",
     "start_time": "2023-08-08T14:44:55.024176Z"
    }
   },
   "source": [
    "### Avaliando um função em um conjunto"
   ]
  },
  {
   "cell_type": "markdown",
   "id": "9c7a88dd",
   "metadata": {},
   "source": [
    "Imagine que queiramos avaliar a função $f(x) = x^{2}$ no conjunto $A = \\{-1,2,3,5,10\\}$. Neste caso usamos o loop for:"
   ]
  },
  {
   "cell_type": "code",
   "execution_count": 19,
   "id": "3cd27dba",
   "metadata": {
    "ExecuteTime": {
     "end_time": "2023-08-08T14:46:47.245563Z",
     "start_time": "2023-08-08T14:46:47.239579Z"
    }
   },
   "outputs": [
    {
     "name": "stdout",
     "output_type": "stream",
     "text": [
      "4\n",
      "9\n",
      "25\n",
      "100\n",
      "1\n"
     ]
    }
   ],
   "source": [
    "# Definindo uma função\n",
    "def f(x):\n",
    "    return x**2\n",
    "\n",
    "# Definindo o conjunto de entrada A\n",
    "A = {-1,2,3,5,10}\n",
    "\n",
    "# Percorrendo o cojunto A\n",
    "for x in A:\n",
    "    print(f(x))"
   ]
  },
  {
   "cell_type": "markdown",
   "id": "c9f4f222",
   "metadata": {},
   "source": [
    "Caso estejamos trabalhando com um conjunto de pontos igualmente espaçados, temos a possibilidade de geração automática deste conjunto. Por exemplo, $A = \\{0, 1, 2, 3, ..., 10\\}$. "
   ]
  },
  {
   "cell_type": "code",
   "execution_count": 21,
   "id": "d0a3eefd",
   "metadata": {
    "ExecuteTime": {
     "end_time": "2023-08-08T14:49:25.390051Z",
     "start_time": "2023-08-08T14:49:25.385064Z"
    }
   },
   "outputs": [
    {
     "name": "stdout",
     "output_type": "stream",
     "text": [
      "0\n",
      "1\n",
      "4\n",
      "9\n",
      "16\n",
      "25\n",
      "36\n",
      "49\n",
      "64\n",
      "81\n",
      "100\n"
     ]
    }
   ],
   "source": [
    "# Definindo uma função\n",
    "def f(x):\n",
    "    return x**2\n",
    "\n",
    "# Gerando o conjunto de entrada A\n",
    "A = range(0,11) # O último elemento é desconsiderado\n",
    "\n",
    "# Percorrendo o cojunto A\n",
    "for x in A:\n",
    "    print(f(x))"
   ]
  },
  {
   "cell_type": "markdown",
   "id": "79899418",
   "metadata": {},
   "source": [
    "Para um espaçamento não inteiro podemos repassar a função range para a função arrange da biblioteca numpy. Por exemplo, se considerarmos o conjunto $A = \\{0,0.1,0.2, ..., 3\\}$."
   ]
  },
  {
   "cell_type": "code",
   "execution_count": 32,
   "id": "4cc1811c",
   "metadata": {
    "ExecuteTime": {
     "end_time": "2023-08-08T15:03:26.231378Z",
     "start_time": "2023-08-08T15:03:26.225394Z"
    }
   },
   "outputs": [
    {
     "name": "stdout",
     "output_type": "stream",
     "text": [
      "0.0\n",
      "0.010000000000000002\n",
      "0.04000000000000001\n",
      "0.09000000000000002\n",
      "0.16000000000000003\n",
      "0.25\n",
      "0.3600000000000001\n",
      "0.4900000000000001\n",
      "0.6400000000000001\n",
      "0.81\n",
      "1.0\n",
      "1.2100000000000002\n",
      "1.4400000000000004\n",
      "1.6900000000000002\n",
      "1.9600000000000004\n",
      "2.25\n",
      "2.5600000000000005\n",
      "2.8900000000000006\n",
      "3.24\n",
      "3.6100000000000003\n",
      "4.0\n",
      "4.41\n",
      "4.840000000000001\n",
      "5.290000000000001\n",
      "5.760000000000002\n",
      "6.25\n",
      "6.760000000000001\n",
      "7.290000000000001\n",
      "7.840000000000002\n",
      "8.410000000000002\n",
      "9.0\n"
     ]
    }
   ],
   "source": [
    "# Módulo contendo funções matemáticas não nativas\n",
    "import numpy as np\n",
    "\n",
    "# Definindo uma função\n",
    "def f(x):\n",
    "    return x**2\n",
    "\n",
    "# Gerando o conjunto de entrada A\n",
    "A = np.arange(0,3.1,0.1) # O último elemento é desconsiderado\n",
    "\n",
    "# Percorrendo o cojunto A\n",
    "for x in A:\n",
    "    print(f(x))"
   ]
  },
  {
   "cell_type": "markdown",
   "id": "4e718219",
   "metadata": {},
   "source": [
    "### Operando Funções"
   ]
  },
  {
   "cell_type": "markdown",
   "id": "fb8f6434",
   "metadata": {},
   "source": [
    "Podemos operar duas funções somando, mutiplicando e até mesmo compondo seus resultados (saída de uma funcionando como entrada de outra)."
   ]
  },
  {
   "cell_type": "code",
   "execution_count": 28,
   "id": "213bd4db",
   "metadata": {
    "ExecuteTime": {
     "end_time": "2023-08-08T14:56:44.638502Z",
     "start_time": "2023-08-08T14:56:44.632527Z"
    }
   },
   "outputs": [],
   "source": [
    "# Definindo diversas funções\n",
    "def f(x):\n",
    "    return 3*x\n",
    "\n",
    "def g(x):\n",
    "    return x**2 + 3*x\n",
    "\n",
    "def h(x):\n",
    "    return 2**x"
   ]
  },
  {
   "cell_type": "code",
   "execution_count": 29,
   "id": "d40b265f",
   "metadata": {
    "ExecuteTime": {
     "end_time": "2023-08-08T14:57:45.198953Z",
     "start_time": "2023-08-08T14:57:45.193966Z"
    }
   },
   "outputs": [
    {
     "name": "stdout",
     "output_type": "stream",
     "text": [
      "6\n",
      "-2\n",
      "8\n"
     ]
    }
   ],
   "source": [
    "# Imprimindo alguns valores\n",
    "print(f(2))\n",
    "print(g(-1))\n",
    "print(h(3))"
   ]
  },
  {
   "cell_type": "code",
   "execution_count": 30,
   "id": "f1281e6c",
   "metadata": {
    "ExecuteTime": {
     "end_time": "2023-08-08T14:59:40.549871Z",
     "start_time": "2023-08-08T14:59:40.544889Z"
    }
   },
   "outputs": [],
   "source": [
    "# Função soma de f com g\n",
    "def f_mais_g(x):\n",
    "    return f(x) + g(x)\n",
    "\n",
    "# Função produto de g e h\n",
    "def g_produto_h(x):\n",
    "    return g(x)*h(x)\n",
    "\n",
    "# Função composta (estudaremos em breve)\n",
    "def f_composta_g(x):\n",
    "    return f(g(x))   # A saída da g funciona como a entrada de f"
   ]
  },
  {
   "cell_type": "code",
   "execution_count": 31,
   "id": "eb4e7b7c",
   "metadata": {
    "ExecuteTime": {
     "end_time": "2023-08-08T15:00:28.501386Z",
     "start_time": "2023-08-08T15:00:28.497397Z"
    }
   },
   "outputs": [
    {
     "name": "stdout",
     "output_type": "stream",
     "text": [
      "16\n",
      "0.0\n",
      "12\n"
     ]
    }
   ],
   "source": [
    "# Imprimindo alguns valores\n",
    "print(f_mais_g(2))\n",
    "print(g_produto_h(-3))\n",
    "print(f_composta_g(1))"
   ]
  },
  {
   "cell_type": "markdown",
   "id": "d71fc472",
   "metadata": {},
   "source": [
    "### Esboçando o gráfico de uma função"
   ]
  },
  {
   "cell_type": "markdown",
   "id": "4cbf684b",
   "metadata": {},
   "source": [
    "Em muitas situações recorreremos ao gráfico de uma função para melhor entendermos um fenômeno representado por ela. Por exemplo, o gráfico da função $f(x) = x^{2}$, no conjunto $A = \\{0,1,2,...,10\\}$ é apresentado na célula a seguir:"
   ]
  },
  {
   "cell_type": "code",
   "execution_count": 40,
   "id": "9af07734",
   "metadata": {
    "ExecuteTime": {
     "end_time": "2023-08-08T15:07:43.775007Z",
     "start_time": "2023-08-08T15:07:43.576514Z"
    }
   },
   "outputs": [
    {
     "data": {
      "text/plain": [
       "[<matplotlib.lines.Line2D at 0x280404035b0>]"
      ]
     },
     "execution_count": 40,
     "metadata": {},
     "output_type": "execute_result"
    },
    {
     "data": {
      "image/png": "[encoded data removed]",
      "text/plain": [
       "<Figure size 640x480 with 1 Axes>"
      ]
     },
     "metadata": {},
     "output_type": "display_data"
    }
   ],
   "source": [
    "# Módulo contendo funções matemáticas não nativas\n",
    "import numpy as np\n",
    "import matplotlib.pyplot as plt # Módulo necessário para o esboço de gráficos\n",
    "\n",
    "# Definindo uma função\n",
    "def f(x):\n",
    "    return x**2\n",
    "\n",
    "# Gerando o conjunto de entrada A\n",
    "x = np.arange(0,3.1,0.1) # O último elemento é desconsiderado\n",
    "\n",
    "# Plotando o gráfico\n",
    "plt.plot(x,f(x),'.')\n"
   ]
  },
  {
   "cell_type": "markdown",
   "id": "64f2b94a",
   "metadata": {},
   "source": [
    "Podemos incrementar nosso esboço gráfico colocando eixos, títulos, legendas, etc."
   ]
  },
  {
   "cell_type": "code",
   "execution_count": 3,
   "id": "93fe1d2c",
   "metadata": {
    "ExecuteTime": {
     "end_time": "2023-08-23T14:07:12.506416Z",
     "start_time": "2023-08-23T14:07:12.301987Z"
    }
   },
   "outputs": [
    {
     "data": {
      "text/plain": [
       "[<matplotlib.lines.Line2D at 0x266c8fe6b90>]"
      ]
     },
     "execution_count": 3,
     "metadata": {},
     "output_type": "execute_result"
    },
    {
     "data": {
      "image/png": "[encoded data removed]",
      "text/plain": [
       "<Figure size 640x480 with 1 Axes>"
      ]
     },
     "metadata": {},
     "output_type": "display_data"
    }
   ],
   "source": [
    "# Módulo contendo funções matemáticas não nativas\n",
    "import numpy as np\n",
    "import matplotlib.pyplot as plt # Módulo necessário para o esboço de gráficos\n",
    "\n",
    "# Definindo uma função\n",
    "def f(x):\n",
    "    return x**2\n",
    "\n",
    "# Gerando o conjunto de entrada A\n",
    "x = np.arange(0,3.1,0.1) # O último elemento é desconsiderado\n",
    "\n",
    "# Plotando as retas dos eixos x e y\n",
    "plt.axhline(0, color='black', linewidth=2)  # Reta do eixo x\n",
    "plt.axvline(0, color='black', linewidth=2)  # Reta do eixo y\n",
    "\n",
    "# Configurações adicionais\n",
    "plt.title('Título')\n",
    "plt.xlabel('Variável 1')\n",
    "plt.ylabel('Variável 2')\n",
    "plt.grid() # Grade\n",
    "\n",
    "# Plotando o gráfico\n",
    "plt.plot(x,f(x),'-',color='red') # '-' muda para uma linha ligando os pontos"
   ]
  }
 ],
 "metadata": {
  "kernelspec": {
   "display_name": "Python 3 (ipykernel)",
   "language": "python",
   "name": "python3"
  },
  "language_info": {
   "codemirror_mode": {
    "name": "ipython",
    "version": 3
   },
   "file_extension": ".py",
   "mimetype": "text/x-python",
   "name": "python",
   "nbconvert_exporter": "python",
   "pygments_lexer": "ipython3",
   "version": "3.11.5"
  },
  "varInspector": {
   "cols": {
    "lenName": 16,
    "lenType": 16,
    "lenVar": 40
   },
   "kernels_config": {
    "python": {
     "delete_cmd_postfix": "",
     "delete_cmd_prefix": "del ",
     "library": "var_list.py",
     "varRefreshCmd": "print(var_dic_list())"
    },
    "r": {
     "delete_cmd_postfix": ") ",
     "delete_cmd_prefix": "rm(",
     "library": "var_list.r",
     "varRefreshCmd": "cat(var_dic_list()) "
    }
   },
   "types_to_exclude": [
    "module",
    "function",
    "builtin_function_or_method",
    "instance",
    "_Feature"
   ],
   "window_display": false
  }
 },
 "nbformat": 4,
 "nbformat_minor": 5
}
