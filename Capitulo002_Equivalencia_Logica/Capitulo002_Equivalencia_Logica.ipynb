{
 "cells": [
  {
   "cell_type": "markdown",
   "id": "9dac3258",
   "metadata": {},
   "source": [
    "<center> <img src=\"logo_ifba.jpg\" alt=\"jpg_python\" width=\"100\" height=\"200\"> </center>\n",
    "<br><br>\n",
    "<div align=\"center\"><span style=\"font-size: 26px;\"><strong>Matemática Aplicada <br></strong></span></div> <br>\n",
    "<center> <img src=\"python_gif.gif\" alt=\"gif_python\" width=\"80\"> </center>"
   ]
  },
  {
   "cell_type": "markdown",
   "id": "65978acf",
   "metadata": {},
   "source": [
    "<div style=\"border: 2px solid black; padding: 10px; width: 95%; background-color: lightgray; display: flex; align-items: center;\">\n",
    "    <h1 style=\"color: red; text-align: center; margin: auto;\">\n",
    "        Capítulo 2: Equivalência Lógica\n",
    "    </h1>\n",
    "</div>\n",
    "\n",
    "<font color='red'></font>\n",
    "<a href=\"\"></a>"
   ]
  },
  {
   "cell_type": "markdown",
   "id": "ffe9ec84",
   "metadata": {},
   "source": [
    "A lógica matemática oferece ferramentas poderosas para estudar a estrutura e a validade de argumentos. Entre essas ferramentas, encontramos os conceitos de equivalência, predicados e quantificadores. A equivalência lógica nos permite estabelecer se duas proposições são semanticamente equivalentes, ou seja, se possuem os mesmos valores de verdade em todas as situações possíveis. Os predicados, por sua vez, permitem a expressão de proposições que contêm variáveis, possibilitando a análise de propriedades que dependem de valores específicos. E, por fim, os quantificadores nos permitem expressar afirmações que envolvem quantidades, como \"para todo\" e \"existe\". Esses conceitos são fundamentais para a compreensão e a formalização da lógica matemática, bem como para a resolução de problemas em diversas áreas, como matemática, ciência da computação e filosofia."
   ]
  },
  {
   "cell_type": "markdown",
   "id": "3c7e94be",
   "metadata": {},
   "source": [
    "# <div style=\"margin-top: -20px;\">\n",
    "<hr style=\"border: 2px solid black;\">\n",
    "\n",
    "<font color='black'><span style=\"font-size: 22px;\"><strong>2.1 Equivalência Lógica</strong></span></font>\n",
    "\n",
    "<hr style=\"border: 2px solid black;\">\n",
    "</div>"
   ]
  },
  {
   "cell_type": "markdown",
   "id": "48d05494",
   "metadata": {},
   "source": [
    "#### <font color='red'> Definição 1 </font>"
   ]
  },
  {
   "cell_type": "markdown",
   "id": "7d801232",
   "metadata": {},
   "source": [
    "<font color='red'> Uma proposição composta que é sempre verdadeira, qualquer que sejam os valores-verdade das proposições que ocorrem nela, é chamada de **tautologia**.  Uma proposição composta que é sempre falsa, qualquer que sejam os valores-verdade das proposições que a compõe, é chamada de **contradição**. Uma proposição composta que não é nem tautologia nem contradição é chamada de **contingência**. </font>"
   ]
  },
  {
   "cell_type": "markdown",
   "id": "be4a031e",
   "metadata": {},
   "source": [
    "#### <font color='blue'> Exemplo 1 </font>"
   ]
  },
  {
   "cell_type": "markdown",
   "id": "fc9f2707",
   "metadata": {},
   "source": [
    "<font color='blue'> Classifique cada uma das proposições a seguir em tautologia, contradição e contingência:\n",
    "<br><br>\n",
    "a) $p \\vee \\neg p$ $\\,\\,\\,\\,\\,\\,\\,\\,\\,\\,\\,\\,\\,\\,\\,\\,\\,\\,\\,\\,\\,\\,\\,\\,\\,\\,\\,\\,\\,\\,\\,\\,\\,\\,\\,\\,\\,\\,\\,\\,\\,\\,\\,\\,\\,$ b) $p \\rightarrow \\neg p$ $\\,\\,\\,\\,\\,\\,\\,\\,\\,\\,\\,\\,\\,\\,\\,\\,\\,\\,\\,\\,\\,\\,\\,\\,\\,\\,\\,\\,\\,\\,\\,\\,\\,\\,\\,\\,\\,\\,\\,\\,\\,\\,\\,\\,\\,$ c) $p \\wedge \\neg p$ $\\,\\,\\,\\,\\,\\,\\,\\,\\,\\,\\,\\,\\,\\,\\,\\,\\,\\,\\,\\,\\,\\,\\,\\,\\,\\,\\,\\,\\,\\,\\,\\,\\,\\,\\,\\,\\,\\,\\,\\,\\,\\,\\,\\,\\,$ d) $(p \\wedge \\neg p) \\rightarrow q$ </font>"
   ]
  },
  {
   "cell_type": "markdown",
   "id": "ca2e7c31",
   "metadata": {},
   "source": [
    " <font color='blue'> **Solução**: Basta construirmos as tabelas verdade associadas à cada proposição: </font>"
   ]
  },
  {
   "cell_type": "markdown",
   "id": "7db8eaa8",
   "metadata": {},
   "source": [
    "<font color='blue'>  a) <center> \\begin{array}{|c|c|c|}\n",
    "\\hline\n",
    "p\t& \\neg p  & p \\vee \\neg p   \\\\\n",
    "\\hline\n",
    "V\t& F & V   \\\\\n",
    "\\hline\n",
    "F\t& V & V  \\\\\n",
    "\\hline\n",
    "\\end{array} </center> \n",
    "Temos portanto uma tautologia. </font>"
   ]
  },
  {
   "cell_type": "markdown",
   "id": "9e410ac0",
   "metadata": {},
   "source": [
    "<font color='blue'> b) <center> \\begin{array}{|c|c|c|}\n",
    "\\hline\n",
    "p\t& \\neg p  & p \\rightarrow \\neg p   \\\\\n",
    "\\hline\n",
    "V\t& F & F   \\\\\n",
    "\\hline\n",
    "F\t& V & V   \\\\\n",
    "\\hline\n",
    "\\end{array} </center> \n",
    "Temos portanto uma contingência. </font>\n"
   ]
  },
  {
   "cell_type": "markdown",
   "id": "f7b83faa",
   "metadata": {},
   "source": [
    "<font color='blue'> c) <center> \\begin{array}{|c|c|c|}\n",
    "\\hline\n",
    "p\t& \\neg p  & p \\wedge \\neg p \\\\\n",
    "\\hline\n",
    "V\t& F & F  \\\\\n",
    "\\hline\n",
    "F\t& V & F  \\\\\n",
    "\\hline\n",
    "\\end{array} </center>\n",
    "Temos portanto uma contradição. </font> "
   ]
  },
  {
   "cell_type": "markdown",
   "id": "57f8b6ff",
   "metadata": {},
   "source": [
    "<font color='blue'> d) <center> \\begin{array}{|c|c|c|c|c|}\n",
    "\\hline\n",
    "p\t& q  & \\neg p & p \\wedge \\neg p & (p \\wedge \\neg p) \\rightarrow q \\\\\n",
    "\\hline\n",
    "V\t& V & F & F & V \\\\\n",
    "\\hline\n",
    "V\t& F & F & F & V \\\\\n",
    "\\hline\n",
    "F\t& V & V & F & V \\\\\n",
    "\\hline\n",
    "F\t& F & V & F & V \\\\\n",
    "\\hline\n",
    "\\end{array} </center>\n",
    "Temos portanto uma tautologia. </font>"
   ]
  },
  {
   "cell_type": "markdown",
   "id": "c78c8ad7",
   "metadata": {},
   "source": [
    "#### <font color='red'> Definição 2 </font>"
   ]
  },
  {
   "cell_type": "markdown",
   "id": "8d820663",
   "metadata": {},
   "source": [
    "<font color='red'> Duas proposições compostas $p$ e $q$ são chamadas **logicamente equivalente** se $p \\leftrightarrow q$ é uma tautologia. A notação $p \\equiv q$ indica que $p$ e $q$ são logicamente equivalentes. </font>"
   ]
  },
  {
   "cell_type": "markdown",
   "id": "d2b611fd",
   "metadata": {},
   "source": [
    "A Definição 2 nos diz que as tabelas verdade associadas às proposições equivalentes tem suas colunas finais iguais."
   ]
  },
  {
   "cell_type": "markdown",
   "id": "6a850f8a",
   "metadata": {},
   "source": [
    "#### <font color='blue'> Exemplo 2 </font>"
   ]
  },
  {
   "cell_type": "markdown",
   "id": "fdcd6c31",
   "metadata": {},
   "source": [
    "<font color='blue'> Mostre que $\\neg(p \\vee q)$ e $\\neg p \\wedge \\neg q$ são logicamente equivalentes. </font>"
   ]
  },
  {
   "cell_type": "markdown",
   "id": "48caf59d",
   "metadata": {},
   "source": [
    "<font color='blue'> **Solução**: Basta construirmos a seguinte tabela verdade:<br><br>\n",
    " <center> \\begin{array}{|c|c|c|c|c|c|c|c|}\n",
    "\\hline\n",
    "p\t& q & \\neg p & \\neg q & p \\vee q & \\neg(p \\vee q) & \\neg p \\wedge \\neg q  & \\neg(p \\vee q) \\leftrightarrow \\neg p \\wedge \\neg q \\\\\n",
    "\\hline\n",
    "V & V & F & F & V & F & F & V \\\\\n",
    "\\hline\n",
    "V\t& F & F & V & V & F & F & V \\\\\n",
    "\\hline\n",
    "F\t& V & V & F & V & F & F & V \\\\\n",
    "\\hline\n",
    "F\t& F & V & V & F & V & V & V \\\\\n",
    "\\hline\n",
    "\\end{array} </center><br>\n",
    "Logo, temos que as proposições $\\neg(p \\vee q)$ e $\\neg p \\wedge \\neg q$ são logicamente equivalentes. </font>"
   ]
  },
  {
   "cell_type": "markdown",
   "id": "f013b192",
   "metadata": {},
   "source": [
    "#### <font color='blue'> Exemplo 3 </font>"
   ]
  },
  {
   "cell_type": "markdown",
   "id": "429251dc",
   "metadata": {},
   "source": [
    "<font color='blue'> Mostre que $(p \\rightarrow q) \\wedge (p \\rightarrow r) \\equiv p \\rightarrow (q \\wedge r)$. </font>"
   ]
  },
  {
   "cell_type": "markdown",
   "id": "bc3ec465",
   "metadata": {},
   "source": [
    "<font color='blue'> **Solução**: Basta observamos as seguintes tabelas verdade: <center> <br>\n",
    "  \\begin{array}{|c|c|c|c|c|c|}\n",
    "\\hline\n",
    "p\t& q & r &p \\rightarrow q & p \\rightarrow r  & (p \\rightarrow q) \\wedge (q \\rightarrow r) \\\\\n",
    "\\hline\n",
    "V\t& V & V & V & V & V\\\\\n",
    "\\hline\n",
    "V\t& V & F & V & F & F\\\\\n",
    "\\hline\n",
    "V\t& F & V & F & V & F\\\\\n",
    "\\hline\n",
    "V\t& F & F & F & F & F\\\\\n",
    "\\hline\n",
    "F\t& V & V & V & V & V\\\\\n",
    "\\hline\n",
    "F\t& V & F & V & V & V\\\\\n",
    "\\hline\n",
    "F\t& F & V & V & V & V\\\\\n",
    "\\hline\n",
    "F\t& F & F & V & V & V\\\\\n",
    "\\hline\n",
    "    \\end{array} </center> <br>\n",
    "    e  <br><br>\n",
    " <center>\n",
    "\\begin{array}{|c|c|c|c|c|}\n",
    "\\hline\n",
    "p\t& q & r &q \\wedge r & p \\rightarrow (q \\wedge r)  \\\\\n",
    "\\hline\n",
    "V\t& V & V & V & V \\\\\n",
    "\\hline\n",
    "V\t& V & F & F & F \\\\\n",
    "\\hline\n",
    "V\t& F & V & F & F \\\\\n",
    "\\hline\n",
    "V\t& F & F & F & F \\\\\n",
    "\\hline\n",
    "F\t& V & V & V & V \\\\\n",
    "\\hline\n",
    "F\t& V & F & F & V \\\\\n",
    "\\hline\n",
    "F\t& F & V & F & V \\\\\n",
    "\\hline\n",
    "F\t& F & F & F & V \\\\\n",
    "\\hline\n",
    "\\end{array}\n",
    " </center><br>\n",
    "Como as colunas resultado coincidem, temos uma equivalência."
   ]
  },
  {
   "cell_type": "markdown",
   "id": "99fd7603",
   "metadata": {},
   "source": [
    "#### <font color='blue'> Exemplo 4 </font>"
   ]
  },
  {
   "cell_type": "markdown",
   "id": "69816148",
   "metadata": {},
   "source": [
    "<font color='blue'> Verifique quais das sentenças a seguir são equivalentes:\n",
    "<br><br>\n",
    "a) Não é verdade que João foi assaltado e Maria não ganhou na loteria./ João não  foi assaltado ou Maria ganhou na loteria.\n",
    "<br><br>\n",
    "b) O gato é mamífero ou o sapo é inseto./ Se o gato não é um mamífero, então o sapo é um inseto. </font>"
   ]
  },
  {
   "cell_type": "markdown",
   "id": "df2569a4",
   "metadata": {},
   "source": [
    "<font color='blue'> **Solução**: a) Tomemos as seguintes proposições:\n",
    "<br><br>\n",
    "$p:$ João foi assaltado. \n",
    "<br><br>\n",
    "$q:$ Maria ganhou na loteria.\n",
    "<br><br>\n",
    "Queremos saber se as proposições $\\neg (p \\wedge \\neg q)$ e $\\neg p \\vee q$ são logicamente equivalentes. Vejamos.\n",
    " <center><br> \n",
    " \\begin{array}{|c|c|c|c|c|}\n",
    "\\hline\n",
    "p\t& q & \\neg p &\\neg q  & p \\wedge \\neg q & \\neg(p \\wedge \\neg q) & \\neg p \\vee q\\\\\n",
    "\\hline\n",
    "V\t& V & F & F & F & V & V  \\\\\n",
    "\\hline\n",
    "V\t& F & F & V & V & F & F  \\\\\n",
    "\\hline\n",
    "F\t& V & V & F & F & V & V  \\\\\n",
    "\\hline\n",
    "F\t& F & V & V & F & V & V  \\\\\n",
    "\\hline\n",
    "\\end{array}\n",
    "    </center><br>\n",
    "Como as colunas resultado são iguais, temos que se trata de uma equivalência lógica."
   ]
  },
  {
   "cell_type": "markdown",
   "id": "ba17ef46",
   "metadata": {},
   "source": [
    "<font color='blue'> b) Tomemos as seguintes proposições:\n",
    "<br><br>\n",
    "$p:$ O gato é um mamífero. \n",
    "<br><br>\n",
    "$q:$ O sapo é um inseto.\n",
    "<br><br>\n",
    "Temos as seguintes tabelas verdade.  \n",
    " <center>  \n",
    "   \\begin{array}{|c|c|c|}\n",
    "\\hline\n",
    "p\t& q & \\neg p & p \\vee q & \\neg p \\rightarrow q \\\\\n",
    "\\hline\n",
    "V\t& V & F & V & V\\\\\n",
    "\\hline\n",
    "V\t& F & F & V & V\\\\\n",
    "\\hline\n",
    "F\t& V & V & V & V\\\\\n",
    "\\hline\n",
    "F\t& F & V & F & F\\\\\n",
    "\\hline\n",
    "\\end{array}\n",
    "    </center><br>\n",
    "Como as colunas resultado são iguais, temos que se trata de uma equivalência lógica."
   ]
  },
  {
   "cell_type": "markdown",
   "id": "ad67bb27",
   "metadata": {},
   "source": [
    "####  <font color='red'> Tabela de Regras de Equivalência </font>"
   ]
  },
  {
   "cell_type": "markdown",
   "id": "ca010560",
   "metadata": {},
   "source": [
    "A seguir mostraremos algumas equivalências importantes:"
   ]
  },
  {
   "cell_type": "markdown",
   "id": "3b9471a6",
   "metadata": {},
   "source": [
    " <font color='red'> <center> \\begin{array}{|c|c|c|c|c|c|}\n",
    "\\hline\n",
    "Equivalência\t& Nome \\\\\n",
    "\\hline\n",
    "p \\wedge V \\equiv p, \\,\\, p \\vee F \\equiv p  \t& Elemento \\, Neutro\\\\\n",
    "\\hline\n",
    "p \\vee V \\equiv V, \\,\\, p \\wedge F \\equiv F\t& Dominação \\\\\n",
    "\\hline\n",
    "p \\vee p \\equiv p, \\,\\, p \\wedge p \\equiv p\t \t& Idempotente \\\\\n",
    "\\hline\n",
    "\\neg (\\neg p) \\equiv p\t& Dupla \\, Negação \\\\\n",
    "\\hline\n",
    "p \\wedge q \\equiv q \\wedge p, \\,\\, p \\vee q \\equiv q \\vee p\t& Comutativa  \\\\\n",
    "\\hline\n",
    "p \\vee (q \\wedge r) \\equiv (p \\vee q) \\wedge (p \\vee r), \\,\\, p \\wedge (q \\vee r) \\equiv (p \\wedge q) \\vee (p \\wedge r)\t& Dsitributiva \\\\\n",
    "\\hline\n",
    "\\neg (p \\wedge q) \\equiv \\neg p \\vee \\neg q, \\,\\, \\neg (p \\vee q) \\equiv \\neg p \\wedge \\neg q\t& Leis \\, de \\, De \\, Morgan \\\\\n",
    "\\hline\n",
    "p \\vee (p \\wedge q) \\equiv p, \\,\\, p \\wedge (p \\vee q) \\equiv p\t& Absorção \\\\\n",
    "\\hline\n",
    "p \\vee \\neg p \\equiv V, \\,\\, p \\wedge \\neg p \\equiv F\t& Negação \\\\\n",
    "\\hline\n",
    "p \\rightarrow q \\equiv \\neg p \\vee q\t& - \\\\\n",
    "\\hline\n",
    "p \\rightarrow q \\equiv \\neg q \\rightarrow \\neg p\t& Contrapositiva \\\\\n",
    "\\hline\n",
    "\\neg (p \\rightarrow q) \\equiv p \\wedge \\neg q & Negação \\, da \\, Implicação  \\\\\n",
    "\\hline\n",
    "(p \\rightarrow q) \\wedge (p \\rightarrow r) \\equiv p \\rightarrow (q \\wedge r) & - \\\\\n",
    "\\hline\n",
    "(p \\rightarrow r) \\wedge (q \\rightarrow r) \\equiv (p \\vee q) \\rightarrow r & - \\\\\n",
    "\\hline\n",
    "(p \\rightarrow q) \\vee (p \\rightarrow r) \\equiv p \\rightarrow (q \\vee r) & -\\\\\n",
    "\\hline\n",
    "(p \\rightarrow r) \\vee (q \\rightarrow r) \\equiv (p \\wedge q) \\rightarrow r & -\\\\\n",
    "\\hline\n",
    "p \\leftrightarrow q \\equiv (p \\rightarrow q) \\wedge (q \\rightarrow p) & - \\\\\n",
    "\\hline\n",
    "p \\leftrightarrow q \\equiv \\neg p \\leftrightarrow \\neq q & - \\\\\n",
    "\\hline\n",
    "p \\leftrightarrow q \\equiv (p \\wedge q) \\vee (\\neg p \\wedge \\neg q) & - \\\\\n",
    "\\hline\n",
    "\\neg (p \\leftrightarrow q) \\equiv p \\leftrightarrow \\neg q & - \\\\\n",
    "\\hline\n",
    "\\end{array} </center> </font>"
   ]
  },
  {
   "cell_type": "markdown",
   "id": "2f22b08d",
   "metadata": {},
   "source": [
    "#### <font color='blue'> Exemplo 5 </font>"
   ]
  },
  {
   "cell_type": "markdown",
   "id": "ad9ed4c1",
   "metadata": {},
   "source": [
    "<font color='blue'> Escreva a negação das proposições a seguir usando as leis de De Morgan:\n",
    "<br><br>\n",
    "a) Maria foi de carro e João não foi de trem.\n",
    "<br><br>\n",
    "b) Se o Sol não é amarelo, então a Lua é azul. <\\font>"
   ]
  },
  {
   "cell_type": "markdown",
   "id": "958ba39d",
   "metadata": {},
   "source": [
    "<font color='blue'> **Solução**: a) Identifiquemos as proposições:\n",
    "<br><br>\n",
    "$p:$ Maria foi de carro.\n",
    "<br><br>\n",
    "$q:$ João foi de trem.\n",
    "<br><br>\n",
    "Assim, queremos negar a proposição $p \\wedge \\neg q$, isto é, $\\neg (p \\wedge \\neg q)$. Usando a lei de De Morgan, temos:<br><br>\n",
    "$$\\neg (p \\wedge \\neg q) \\equiv \\neg p \\vee \\neg \\neg q \\equiv \\neg p \\vee q.$$\n",
    "Segue que a negação procurada é dada por: \"Maria não foi de carro ou João foi de trem\". </font>"
   ]
  },
  {
   "cell_type": "markdown",
   "id": "df2c70cb",
   "metadata": {},
   "source": [
    "<font color='blue'>b) Identifiquemos as proposições:\n",
    "<br><br>\n",
    "$p:$ O Sol é amarelo.\n",
    "<br><br>\n",
    "$q:$ A Lua é azul.\n",
    "<br><br>\n",
    "Usando a equivalência $p \\rightarrow q \\equiv \\neg p \\vee q$, temos: <br><br>\n",
    "$$\\neg(\\neg p \\rightarrow q) \\equiv \\neg (\\neg \\neg p \\vee q) \\equiv \\neg (p \\vee q) \\equiv \\neg p \\wedge \\neg q.$$ <br>\n",
    "Portanto, a negação da proposição fornecida é dada por: \"O Sol é não é amarelo e a Lua não é azul.\" </font>"
   ]
  },
  {
   "cell_type": "markdown",
   "id": "6eb4c65b",
   "metadata": {},
   "source": [
    "# <div style=\"margin-top: -20px;\">\n",
    "<hr style=\"border: 2px solid black;\">\n",
    "\n",
    "<font color='black'><span style=\"font-size: 22px;\"><strong>2.2 Exercícios</strong></span></font>\n",
    "\n",
    "<hr style=\"border: 2px solid black;\">\n",
    "</div>"
   ]
  },
  {
   "cell_type": "markdown",
   "id": "fa1e60f9",
   "metadata": {},
   "source": [
    "#### Exercício 1"
   ]
  },
  {
   "cell_type": "markdown",
   "id": "ebc95958",
   "metadata": {},
   "source": [
    "Determine, por meio de tabelas verdade, quais dos pares de proposições a seguir são equivalentes.\n",
    "\n",
    "a) $\\neg (p \\vee \\neg q)$ e  $\\neg p \\wedge q$;\n",
    "\n",
    "b) $\\neg p \\rightarrow q$ e $\\neg p \\vee q$\n",
    "\n",
    "c) $p \\rightarrow (q \\wedge r)$ e $\\neg p \\vee (q \\wedge r)$"
   ]
  },
  {
   "cell_type": "markdown",
   "id": "2d26d24d",
   "metadata": {},
   "source": [
    "#### Exercício 2"
   ]
  },
  {
   "cell_type": "markdown",
   "id": "e8f0bfe7",
   "metadata": {},
   "source": [
    "Apresente a negação das seguintes frases usando equivalências lógicas:\n",
    "\n",
    "a) Maria andou de carro e João não andou de bicicleta.\n",
    "\n",
    "b) O cachorro não é bípede ou o homem não é inteligente.\n",
    "\n",
    "c) Se saio de casa, então não chove."
   ]
  },
  {
   "cell_type": "markdown",
   "id": "0f678207",
   "metadata": {},
   "source": [
    "#### Exercício 3"
   ]
  },
  {
   "cell_type": "markdown",
   "id": "e29adbd8",
   "metadata": {},
   "source": [
    "Reescreva a proposição a seguir, sem alterar seu sentido, de modo que não haja implicação alguma presente nela.\n",
    "<center> \"Se o homem é um mamífero e o sapo não é um anfíbio, então o cavalo é um quadrúpede.\" </center>"
   ]
  },
  {
   "cell_type": "markdown",
   "id": "14b26bce",
   "metadata": {},
   "source": [
    "## <div style=\"margin-top: -20px;\">\n",
    "<hr style=\"border: 2px solid black;\">\n",
    "\n",
    "<font color='black'><span style=\"font-size: 18px;\"><strong>Respostas</strong></span></font>\n",
    "\n",
    "<hr style=\"border: 2px solid black;\">\n",
    "</div>"
   ]
  },
  {
   "cell_type": "markdown",
   "id": "f486be50",
   "metadata": {},
   "source": [
    "#### Respostas do Exercício 1"
   ]
  },
  {
   "cell_type": "markdown",
   "id": "c13697cc",
   "metadata": {},
   "source": [
    "Os itens \"a\" e \"c\" apresentam proposições equivalentes."
   ]
  },
  {
   "cell_type": "markdown",
   "id": "bcd95a8d",
   "metadata": {},
   "source": [
    "#### Respostas do Exercício 2"
   ]
  },
  {
   "cell_type": "markdown",
   "id": "fd991371",
   "metadata": {},
   "source": [
    "Para este exercício negue as equivalências nas tabelas anteriormente dadas. As respostas não são as únicas.\n",
    "\n",
    "a) Maria não andou de carro ou João andou de bicicleta; b) O cachorro é bípede e o homem é inteligente; c) Saio de casa e chove."
   ]
  },
  {
   "cell_type": "markdown",
   "id": "52fe8a5b",
   "metadata": {},
   "source": [
    "#### Respostas do Exercício 3"
   ]
  },
  {
   "cell_type": "markdown",
   "id": "e97be9ac",
   "metadata": {
    "ExecuteTime": {
     "end_time": "2023-07-18T11:52:59.596365Z",
     "start_time": "2023-07-18T11:52:59.572938Z"
    }
   },
   "source": [
    "O homem não é um mamífero ou o sapo é um anfíbio ou o cavalo é um quadrúpede."
   ]
  },
  {
   "cell_type": "markdown",
   "id": "8a40bfa4",
   "metadata": {},
   "source": [
    "# <div style=\"margin-top: -20px;\">\n",
    "<hr style=\"border: 2px solid black;\">\n",
    "\n",
    "<font color='black'><span style=\"font-size: 22px;\"><strong>2.3 Vídeo Aulas</strong></span></font>\n",
    "\n",
    "<hr style=\"border: 2px solid black;\">\n",
    "</div>"
   ]
  },
  {
   "cell_type": "markdown",
   "id": "eaf36a5a",
   "metadata": {},
   "source": [
    "Clicando nos links a seguir você será redirecionado às aulas referentes a este capítulo.\n",
    "\n",
    "[Tautologia, Contradição e Contingência](https://youtu.be/hnk-gfzkbh8)\n",
    "\n",
    "[Equivalência Lógica](https://youtu.be/kguvNUf3uZk)\n",
    "\n",
    "[Exemplo: Equivalência Lógica](https://youtu.be/kMVtUqzPZkk)\n",
    "\n",
    "[Exemplo: Negando Proposições Usando as Leis de De Morgan](https://youtu.be/unrqB-gmGow)\n",
    "\n",
    "[Exercício 1: Tabela Verdade e Equivalência Lógica](https://youtu.be/ZPPLuc7Zzdk)\n",
    "\n",
    "[Exercício 2: Equivalência Lógica](https://youtu.be/KDbnkgDpueM)\n",
    "\n",
    "[Exercício 3: Equivalência Lógica](https://youtu.be/TVwLyUFshE8)"
   ]
  },
  {
   "cell_type": "markdown",
   "id": "5bfb4fa5",
   "metadata": {},
   "source": [
    "# <div style=\"margin-top: -20px;\">\n",
    "<hr style=\"border: 2px solid black;\">\n",
    "\n",
    "<font color='black'><span style=\"font-size: 22px;\"><strong>2.4 No Computador (Experimental)</strong></span></font>\n",
    "\n",
    "<hr style=\"border: 2px solid black;\">\n",
    "</div>"
   ]
  },
  {
   "cell_type": "code",
   "execution_count": 1,
   "id": "b14389c1",
   "metadata": {
    "ExecuteTime": {
     "end_time": "2023-07-17T20:15:50.378513Z",
     "start_time": "2023-07-17T20:15:44.755942Z"
    }
   },
   "outputs": [
    {
     "name": "stdout",
     "output_type": "stream",
     "text": [
      "Requirement already satisfied: truth-table-generator in d:\\ananconda\\lib\\site-packages (1.1.2)\n",
      "Requirement already satisfied: PTable in d:\\ananconda\\lib\\site-packages (from truth-table-generator) (0.9.2)\n",
      "Requirement already satisfied: tabulate in d:\\ananconda\\lib\\site-packages (from truth-table-generator) (0.8.10)\n",
      "Requirement already satisfied: pandas in d:\\ananconda\\lib\\site-packages (from truth-table-generator) (1.5.3)\n",
      "Requirement already satisfied: numpy in d:\\ananconda\\lib\\site-packages (from truth-table-generator) (1.23.5)\n",
      "Requirement already satisfied: pyparsing in d:\\ananconda\\lib\\site-packages (from truth-table-generator) (3.0.9)\n",
      "Requirement already satisfied: jinja2 in d:\\ananconda\\lib\\site-packages (from truth-table-generator) (3.1.2)\n",
      "Requirement already satisfied: MarkupSafe>=2.0 in d:\\ananconda\\lib\\site-packages (from jinja2->truth-table-generator) (2.1.1)\n",
      "Requirement already satisfied: pytz>=2020.1 in d:\\ananconda\\lib\\site-packages (from pandas->truth-table-generator) (2022.7)\n",
      "Requirement already satisfied: python-dateutil>=2.8.1 in d:\\ananconda\\lib\\site-packages (from pandas->truth-table-generator) (2.8.2)\n",
      "Requirement already satisfied: six>=1.5 in d:\\ananconda\\lib\\site-packages (from python-dateutil>=2.8.1->pandas->truth-table-generator) (1.16.0)\n"
     ]
    }
   ],
   "source": [
    "# Instalando o módulo truth-table-generator (instale somente uma vez neste documento)\n",
    "!pip install truth-table-generator"
   ]
  },
  {
   "cell_type": "markdown",
   "id": "1a9ffe46",
   "metadata": {},
   "source": [
    "#### Classificando uma proposição em Taltologia, Contradição ou Contingência"
   ]
  },
  {
   "cell_type": "markdown",
   "id": "ab25adfd",
   "metadata": {},
   "source": [
    "Podemos classificar uma proposição como tautologia, contradição ou contingência usando o método **.valuation()** do módulo truth-table-generator."
   ]
  },
  {
   "cell_type": "code",
   "execution_count": 2,
   "id": "3b2708e9",
   "metadata": {
    "ExecuteTime": {
     "end_time": "2023-07-17T20:15:51.010242Z",
     "start_time": "2023-07-17T20:15:50.380506Z"
    }
   },
   "outputs": [],
   "source": [
    "# Importando o módulo ttg (aplica-se a todas as células seguintes)\n",
    "import ttg"
   ]
  },
  {
   "cell_type": "code",
   "execution_count": 3,
   "id": "54d9d140",
   "metadata": {
    "ExecuteTime": {
     "end_time": "2023-07-17T20:15:51.036421Z",
     "start_time": "2023-07-17T20:15:51.010242Z"
    }
   },
   "outputs": [
    {
     "name": "stdout",
     "output_type": "stream",
     "text": [
      "+-----+-------------+\n",
      "|  p  |  p or (~p)  |\n",
      "|-----+-------------|\n",
      "|  1  |      1      |\n",
      "|  0  |      1      |\n",
      "+-----+-------------+\n",
      "Tautology\n"
     ]
    }
   ],
   "source": [
    "# Proposição 1\n",
    "prop1 = ttg.Truths(['p'],['p or (~p)'])\n",
    "\n",
    "# Classificação\n",
    "classificacao1 = prop1.valuation()\n",
    "\n",
    "# Impressão da tabela-verdade\n",
    "print(prop1)\n",
    "\n",
    "# Impressão da classificação\n",
    "print(classificacao1)"
   ]
  },
  {
   "cell_type": "code",
   "execution_count": 4,
   "id": "a41c4197",
   "metadata": {
    "ExecuteTime": {
     "end_time": "2023-07-17T20:15:51.071449Z",
     "start_time": "2023-07-17T20:15:51.039190Z"
    }
   },
   "outputs": [
    {
     "name": "stdout",
     "output_type": "stream",
     "text": [
      "+-----+--------------+\n",
      "|  p  |  p and (~p)  |\n",
      "|-----+--------------|\n",
      "|  1  |      0       |\n",
      "|  0  |      0       |\n",
      "+-----+--------------+\n",
      "Contradiction\n"
     ]
    }
   ],
   "source": [
    "# Proposição 2\n",
    "prop2 = ttg.Truths(['p'],['p and (~p)'])\n",
    "\n",
    "# Classificação\n",
    "classificacao2 = prop2.valuation()\n",
    "\n",
    "# Impressão da tabela-verdade\n",
    "print(prop2)\n",
    "\n",
    "# Impressão da classificação\n",
    "print(classificacao2)"
   ]
  },
  {
   "cell_type": "code",
   "execution_count": 5,
   "id": "25378094",
   "metadata": {
    "ExecuteTime": {
     "end_time": "2023-07-17T20:15:51.104945Z",
     "start_time": "2023-07-17T20:15:51.072744Z"
    }
   },
   "outputs": [
    {
     "name": "stdout",
     "output_type": "stream",
     "text": [
      "+-----+-----+----------+\n",
      "|  p  |  q  |  p => q  |\n",
      "|-----+-----+----------|\n",
      "|  1  |  1  |    1     |\n",
      "|  1  |  0  |    0     |\n",
      "|  0  |  1  |    1     |\n",
      "|  0  |  0  |    1     |\n",
      "+-----+-----+----------+\n",
      "Contingency\n"
     ]
    }
   ],
   "source": [
    "# Proposição 3\n",
    "prop3 = ttg.Truths(['p','q'],['p => q'])\n",
    "\n",
    "# Classificação\n",
    "classificacao3 = prop3.valuation()\n",
    "\n",
    "# Impressão da tabela verdade\n",
    "print(prop3)\n",
    "\n",
    "# Impressão da classificação\n",
    "print(classificacao3)"
   ]
  },
  {
   "cell_type": "markdown",
   "id": "f2dcf8f9",
   "metadata": {
    "ExecuteTime": {
     "end_time": "2023-07-17T12:08:40.426465Z",
     "start_time": "2023-07-17T12:08:40.421485Z"
    }
   },
   "source": [
    "#### Solução computacional do Exemplo 3: \"$(p \\rightarrow q) \\wedge (p \\rightarrow r) \\equiv p \\rightarrow (q \\wedge r)$\""
   ]
  },
  {
   "cell_type": "code",
   "execution_count": 6,
   "id": "12fb2709",
   "metadata": {
    "ExecuteTime": {
     "end_time": "2023-07-17T20:15:51.222725Z",
     "start_time": "2023-07-17T20:15:51.105993Z"
    }
   },
   "outputs": [
    {
     "name": "stdout",
     "output_type": "stream",
     "text": [
      "+-----+-----+-----+-----------------------------------------------+\n",
      "|  p  |  q  |  r  |  ((p => q) and (p => r)) = ( p => (q and r))  |\n",
      "|-----+-----+-----+-----------------------------------------------|\n",
      "|  1  |  1  |  1  |                       1                       |\n",
      "|  1  |  1  |  0  |                       1                       |\n",
      "|  1  |  0  |  1  |                       1                       |\n",
      "|  1  |  0  |  0  |                       1                       |\n",
      "|  0  |  1  |  1  |                       1                       |\n",
      "|  0  |  1  |  0  |                       1                       |\n",
      "|  0  |  0  |  1  |                       1                       |\n",
      "|  0  |  0  |  0  |                       1                       |\n",
      "+-----+-----+-----+-----------------------------------------------+\n",
      "\n",
      "Temos uma tautologia.\n"
     ]
    }
   ],
   "source": [
    "import ttg  # Importando o módulo ttg (Truth Table Generator)\n",
    "\n",
    "# Proposições\n",
    "prop_1 = '((p => q) and (p => r))'\n",
    "prop_2 = '( p => (q and r))'\n",
    "\n",
    "# Criação da tabela-verdade para as proposições\n",
    "prop = ttg.Truths(['p', 'q', 'r'], ['((p => q) and (p => r)) = ( p => (q and r))'])  \n",
    "\n",
    "# Classificação da tabela-verdade\n",
    "classificacao = prop.valuation()  \n",
    "\n",
    "# Impressão da tabela-verdade\n",
    "print(prop)  \n",
    "\n",
    "# Verificação da classificação\n",
    "if classificacao == \"Tautology\":\n",
    "    print('\\nTemos uma tautologia.')\n",
    "elif classificacao == \"Contradiction\":\n",
    "    print('\\nTemos uma contradição.')\n",
    "else:\n",
    "    print('\\nTemos uma contingência.')\n"
   ]
  }
 ],
 "metadata": {
  "kernelspec": {
   "display_name": "Python 3 (ipykernel)",
   "language": "python",
   "name": "python3"
  },
  "language_info": {
   "codemirror_mode": {
    "name": "ipython",
    "version": 3
   },
   "file_extension": ".py",
   "mimetype": "text/x-python",
   "name": "python",
   "nbconvert_exporter": "python",
   "pygments_lexer": "ipython3",
   "version": "3.11.5"
  },
  "varInspector": {
   "cols": {
    "lenName": 16,
    "lenType": 16,
    "lenVar": 40
   },
   "kernels_config": {
    "python": {
     "delete_cmd_postfix": "",
     "delete_cmd_prefix": "del ",
     "library": "var_list.py",
     "varRefreshCmd": "print(var_dic_list())"
    },
    "r": {
     "delete_cmd_postfix": ") ",
     "delete_cmd_prefix": "rm(",
     "library": "var_list.r",
     "varRefreshCmd": "cat(var_dic_list()) "
    }
   },
   "types_to_exclude": [
    "module",
    "function",
    "builtin_function_or_method",
    "instance",
    "_Feature"
   ],
   "window_display": false
  }
 },
 "nbformat": 4,
 "nbformat_minor": 5
}
