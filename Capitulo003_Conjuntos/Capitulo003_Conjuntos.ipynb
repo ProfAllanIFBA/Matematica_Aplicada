{
 "cells": [
  {
   "cell_type": "markdown",
   "id": "de40f19b",
   "metadata": {},
   "source": [
    "<center> <img src=\"logo_ifba.jpg\" alt=\"jpg_python\" width=\"100\" height=\"200\"> </center>\n",
    "<br><br>\n",
    "<div align=\"center\"><span style=\"font-size: 26px;\"><strong>Matemática Aplicada <br></strong></span></div> <br>\n",
    "<center> <img src=\"python_gif.gif\" alt=\"gif_python\" width=\"80\"> </center>"
   ]
  },
  {
   "cell_type": "markdown",
   "id": "52af9bb6",
   "metadata": {},
   "source": [
    "<div style=\"border: 2px solid black; padding: 10px; width: 95%; background-color: lightgray; display: flex; align-items: center;\">\n",
    "    <h1 style=\"color: red; text-align: center; margin: auto;\">\n",
    "        Capítulo 6: Conjuntos\n",
    "    </h1>\n",
    "</div>\n",
    "\n",
    "<font color='red'></font>\n",
    "<a href=\"\"></a>"
   ]
  },
  {
   "cell_type": "markdown",
   "id": "0c2310e1",
   "metadata": {},
   "source": [
    "Neste capítulo, iniciaremos o estudo dos conjuntos, uma das estruturas mais fundamentais e versáteis da matemática, essencial para o entendimento de diversos assuntos. Os conjuntos são estruturas poderosas que nos permitem organizar elementos de forma única, desvendar padrões e resolver problemas, além de serem a base para outros temas importantes, como funções, análise combinatória e muito outros. Ao longo do material, serão apresentadas propriedades e aplicações práticas que tornam os conjuntos uma ferramenta indispensável para o entendimento de muitos conceitos matemáticos, tornando sua aprendizagem ainda mais enriquecedora e aplicável."
   ]
  },
  {
   "cell_type": "markdown",
   "id": "4bcf7343",
   "metadata": {},
   "source": [
    "# <div style=\"margin-top: -20px;\">\n",
    "<hr style=\"border: 2px solid black;\">\n",
    "\n",
    "<font color='black'><span style=\"font-size: 22px;\"><strong>6.1 Conceitos Inciais</strong></span></font>\n",
    "\n",
    "<hr style=\"border: 2px solid black;\">\n",
    "</div>"
   ]
  },
  {
   "cell_type": "markdown",
   "id": "d3f1e5b2",
   "metadata": {},
   "source": [
    "####  <font color='red'> Definição 1 </font>"
   ]
  },
  {
   "cell_type": "markdown",
   "id": "548769fa",
   "metadata": {},
   "source": [
    "<font color='red'>Um conjunto é uma coleção de objetos."
   ]
  },
  {
   "cell_type": "markdown",
   "id": "80116d43",
   "metadata": {},
   "source": [
    "#### Representação tabular"
   ]
  },
  {
   "cell_type": "markdown",
   "id": "a7a16b6a",
   "metadata": {},
   "source": [
    "Os elementos de um conjunto costumam ser escritos entre chaves separados por vírgulas."
   ]
  },
  {
   "cell_type": "markdown",
   "id": "7abd3fa8",
   "metadata": {},
   "source": [
    "####  <font color='blue'> Exemplo 1 </font>"
   ]
  },
  {
   "cell_type": "markdown",
   "id": "008187db",
   "metadata": {},
   "source": [
    "<font color='blue'>Seguem alguns conjuntos:<br><br>\n",
    "a) O conjunto $V$ de todas as vogais da língua portuguesa pode ser escrito como: $V =\\left\\{a, e, i, o, u\\right\\}$.<br><br>\n",
    "b) O conjunto dos números inteiros maiores que $2$ e menores que $9$ pode ser escrito como: $A = \\left\\{ 3, 4, 5, 6, 7, 8\\right\\}$.<br><br>\n",
    "c) O conjunto dos planetas do Sistema Solar atualmente conhecidos pode ser escrito como:\n",
    "$P = \\{ Mercúrio, Vênus, Terra, Marte, Júpiter, Saturno, Urano, Netuno\\}$<br><br>\n",
    "d) Um conjunto cujos elementos não tem qualquer relação aparente: $B = \\{$ $1$, $a$, $carro$ $\\}$"
   ]
  },
  {
   "cell_type": "markdown",
   "id": "7bfea63e",
   "metadata": {},
   "source": [
    "A listagem utilizada acima, na qual se explicitam os elementos de um conjunto é chamada de **representação tabular** de um conjunto."
   ]
  },
  {
   "cell_type": "markdown",
   "id": "5076ee05",
   "metadata": {},
   "source": [
    "#### Não ordenação"
   ]
  },
  {
   "cell_type": "markdown",
   "id": "449f34ad",
   "metadata": {},
   "source": [
    "A ordem na qual os elementos de um conjunto são listados não é necessariamente importante. Por exemplo, escrever $\\{1,2,3\\}$ é o mesmo que escrever $\\{3,2,1\\}$. Contudo, anotar seguindo um padrão é sempre aconselhável."
   ]
  },
  {
   "cell_type": "markdown",
   "id": "646f9032",
   "metadata": {},
   "source": [
    "####  <font color='red'> Definição 2 </font>"
   ]
  },
  {
   "cell_type": "markdown",
   "id": "89798f6e",
   "metadata": {},
   "source": [
    "<font color='red'>Se um certo elemento $x$ pertence a um conjunto $A$, escrevemos $x \\in A$, do contrário, escrevemos $x \\notin A$."
   ]
  },
  {
   "cell_type": "markdown",
   "id": "cb113451",
   "metadata": {},
   "source": [
    "A **Definição 2** estabelece a chamada **relação de pertinência** que é uma relação estabelecida entre um elemento e um conjunto."
   ]
  },
  {
   "cell_type": "markdown",
   "id": "d658a570",
   "metadata": {},
   "source": [
    "####  <font color='blue'> Exemplo 2 </font>"
   ]
  },
  {
   "cell_type": "markdown",
   "id": "fd9397cd",
   "metadata": {},
   "source": [
    "<font color='blue'> Considerando o **Exemplo 1** temos, por exemplo que i) $e \\in V$, ii) $b \\notin V$, iii) $Terra \\in P$, iv) $Plutão \\notin P$."
   ]
  },
  {
   "cell_type": "markdown",
   "id": "8f21e8a3",
   "metadata": {},
   "source": [
    "####  <font color='red'> Conjuntos Numéricos</font>"
   ]
  },
  {
   "cell_type": "markdown",
   "id": "8659a52a",
   "metadata": {},
   "source": [
    "<font color='red'> Seguem alguns conjuntos numéricos importantes para o nosso estudo:<br><br>\n",
    "$\\mathbb{N} = \\{0,1,2,3,\\ldots\\}$, o conjunto dos **números naturais**.<br><br>\n",
    "$\\mathbb{Z} = \\{\\ldots -3,-2,-1,0,1,2,3,\\ldots\\}$, o conjunto dos **números inteiros**.<br><br>\n",
    "$\\mathbb{Q} = \\left\\{ \\frac{p}{q}| p,q \\in \\mathbb{Z}, q\\neq 0 \\right\\}$, o conjunto dos **números racionais**.<br><br>\n",
    "$\\mathbb{Q}'$, o conjunto dos **números irracionais** é conjunto formado por todos os números que não podem ser representados por uma fração da forma $\\frac{p}{q}$, $p,q \\in \\mathbb{Z}, q \\neq 0$.<br><br>\n",
    "$\\mathbb{R} = \\left\\{x|(x \\in \\mathbb{Q}) \\vee  (x \\in \\mathbb{Q}')\\right\\}$, o conjunto dos **números reais**<br><br>\n",
    "$\\mathbb{C} = \\left\\{a + bi|a, b \\in \\mathbb{R}, i^{2} = -1\\right\\}$, o conjuntos dos **números complexos}**."
   ]
  },
  {
   "cell_type": "markdown",
   "id": "e98527dc",
   "metadata": {},
   "source": [
    "O entendimento dos conjuntos numéricos é de fundamental importância na linguagem de programação. Em várias linguagens de programação, o usuário deve especificar o tipo de variável que está sendo considerado em uma situação, como inteira, real, literal, booleana, entre outros. Dentre os conjuntos numéricos apresentados, dois se destacam: o conjunto dos números inteiros, representado por $\\mathbb{Z}$, e o conjunto dos números reais, representado por $\\mathbb{R}$. Por exemplo, na linguagem Python, temos diferentes tipos de variáveis: **int** para armazenar valores numéricos inteiros; **float** para armazenar números com ponto flutuante (reais) com precisão simples. Compreender os conjuntos numéricos é essencial para trabalhar de forma eficiente e precisa na programação, garantindo resultados confiáveis e consistentes."
   ]
  },
  {
   "cell_type": "markdown",
   "id": "ac20f350",
   "metadata": {},
   "source": [
    "#### Variações"
   ]
  },
  {
   "cell_type": "markdown",
   "id": "0392fed0",
   "metadata": {},
   "source": [
    "Um \"$+$\" na parte superior direita da letra que representa um conjunto numérico indica que se consideram os números não negativos; analogamente, um \"$-$\" na parte superior direita indica que se consideram somente o números não positivos; por fim, um \"$*$\" na parte inferior direita da letra que representa um conjunto numérico indica que se consideram os números não nulos. Por exemplo, $\\mathbb{Z^{+}} = \\{\\ldots 0,1,2,3,\\ldots\\}$, $\\mathbb{Z^{-}} = \\{\\ldots -3,-2,-1,0\\}$ e $\\mathbb{Z_{*}} = \\{\\ldots -3,-2,-1,1,2,3,\\ldots\\}$."
   ]
  },
  {
   "cell_type": "markdown",
   "id": "e245c5e8",
   "metadata": {
    "ExecuteTime": {
     "end_time": "2023-07-21T14:40:02.625759Z",
     "start_time": "2023-07-21T14:40:02.621771Z"
    }
   },
   "source": [
    "#### <font color='red'> Conjuntos Importantes"
   ]
  },
  {
   "cell_type": "markdown",
   "id": "c528aeb8",
   "metadata": {},
   "source": [
    "<font color='red'>$\\emptyset$ o conjunto **vazio**;<br><br>\n",
    "$U$ o conjunto **universo**."
   ]
  },
  {
   "cell_type": "markdown",
   "id": "dd8f006e",
   "metadata": {},
   "source": [
    "O vazio, obviamente é um conjunto que não possui elemento algum. Por outro lado, dado uma situação ou um problema há sempre um conjunto que deve conter todos os elementos envolvidos, isto é, o universo da questão."
   ]
  },
  {
   "cell_type": "markdown",
   "id": "784fc461",
   "metadata": {},
   "source": [
    "Outros conjuntos importantes são, os conjuntos **unitários**, isto é, aqueles que possuem um só elemento; os conjuntos **finitos**, aqueles que possuem uma quantidade finita de elementos; o conjunto infinito**, aqueles que não são finitos. Indicamos por $n(A)$ o número de elementos de um conjunto finito $A$."
   ]
  },
  {
   "cell_type": "markdown",
   "id": "678920c8",
   "metadata": {},
   "source": [
    "# <div style=\"margin-top: -20px;\">\n",
    "<hr style=\"border: 2px solid black;\">\n",
    "\n",
    "<font color='black'><span style=\"font-size: 22px;\"><strong>6.2 Outras Representações de Um Conjunto</strong></span></font>\n",
    "\n",
    "<hr style=\"border: 2px solid black;\">\n",
    "</div>"
   ]
  },
  {
   "cell_type": "markdown",
   "id": "177e0345",
   "metadata": {},
   "source": [
    "#### Representação Por Propriedade"
   ]
  },
  {
   "cell_type": "markdown",
   "id": "d3cf057a",
   "metadata": {},
   "source": [
    "Uma outra forma de se representar um certo conjunto é da escrevê-lo por meio de uma propriedade que identifique todos os seus elementos."
   ]
  },
  {
   "cell_type": "markdown",
   "id": "9cb8a160",
   "metadata": {},
   "source": [
    "####  <font color='blue'> Exemplo 3 </font>"
   ]
  },
  {
   "cell_type": "markdown",
   "id": "587c3e74",
   "metadata": {},
   "source": [
    "<font color='blue'> Seguem alguns conjuntos dados no **Exemplo 1** listados por meio de uma propriedade:<br><br>\n",
    "a) $V = \\{x| x \\ é \\ vogal \\  da \\ língua \\ portuguesa\\}$<br><br>\n",
    "b) $P = \\{x| x \\ é \\ planeta \\ do \\ Sistema \\ Solar\\}$<br><br>\n",
    "c) $A = \\{x \\in \\mathbb{Z}| 3 < x < 9\\}$"
   ]
  },
  {
   "cell_type": "markdown",
   "id": "22555921",
   "metadata": {},
   "source": [
    "####  <font color='blue'> Exemplo 4 </font>"
   ]
  },
  {
   "cell_type": "markdown",
   "id": "e54cd855",
   "metadata": {},
   "source": [
    "<font color='blue'> Classifique as sentenças a seguir em verdadeiras ou falsas.<br><br>\n",
    "a) $1 \\in \\mathbb{N}$ $\\ \\ \\ \\ \\ $ b) $\\frac{2}{3} \\notin \\mathbb{R}$ $\\ \\ \\ \\ \\ $ c) $\\pi \\in \\mathbb{Q}$ $\\ \\ \\ \\ \\ $ d) $0,3333\\ldots \\in \\mathbb{Q}$ $\\ \\ \\ \\ \\ $ e) $0 \\in \\mathbb{Z}^{+}_{*}$"
   ]
  },
  {
   "cell_type": "markdown",
   "id": "8379d233",
   "metadata": {},
   "source": [
    "<font color='blue'> **Solução**: a) Verdadeira (trivial).<br><br>\n",
    "b) Falsa (trivial).<br><br>\n",
    "c) Note que não existem $p,q \\in \\mathbb{Z}, q \\neq 0$ tal que $\\pi = \\frac{p}{q}$. Logo, a proposição é falsa. Em particular, $\\pi$ é irracional, isto é, é real mas não é racional.<br><br>\n",
    "d) Note que $0,3333\\ldots = \\frac{1}{3}$ e portanto $0,3333\\ldots \\in \\mathbb{Q}$. Logo, a pertinência é verdadeira.<br><br>\n",
    "e) Note que $\\mathbb{Z}^{+}_{*} = \\{1,2,3,\\ldots\\}$. Logo, a proposição é falsa."
   ]
  },
  {
   "cell_type": "markdown",
   "id": "759a0e4c",
   "metadata": {},
   "source": [
    "####  <font color='red'> Definição 3 </font>"
   ]
  },
  {
   "cell_type": "markdown",
   "id": "440925d4",
   "metadata": {},
   "source": [
    "<font color='red'> Dois conjuntos $A$ e $B$ são iguais se, e somente se, têm os mesmo elementos. Em símbolos, temos:<br><br>\n",
    "$$A = B \\Leftrightarrow \\forall x (x \\in A \\leftrightarrow x \\in B).$$"
   ]
  },
  {
   "cell_type": "markdown",
   "id": "e966726f",
   "metadata": {},
   "source": [
    "#### Representação Usando Diagramas de Venn"
   ]
  },
  {
   "cell_type": "markdown",
   "id": "686b918f",
   "metadata": {},
   "source": [
    "Uma outra forma interessante e bastante ilustrativa de se representar um conjunto se dá pela utilização dos chamados **diagramas de Venn**. Nesta representação, os elementos pertencentes a um dado conjunto ficam limitados por uma região. Os elementos não pertencentes ficam na parte de fora."
   ]
  },
  {
   "cell_type": "markdown",
   "id": "9cd97761",
   "metadata": {},
   "source": [
    "####  <font color='blue'> Exemplo 5 </font>"
   ]
  },
  {
   "cell_type": "markdown",
   "id": "3536e79e",
   "metadata": {},
   "source": [
    "<font color='blue'> A representação em diagramas de Venn do conjunto $V = \\{a,e,i,o,u\\}$ é a seguinte:<br><br>\n",
    "<center> <img src=\"fig6_1.jpg\" alt=\"jpg_python\" width=\"250\" height=\"\"> </center><br>\n",
    "<font color='blue'>Caso o nosso conjunto universo $U$ consistisse de todas as letras do alfabeto da língua portuguesa esta deveriam ser postas do lado de fora do círculo que representa $V$ mas ainda dentro da região retangular que representa $U$ conforme a figura a seguir: \n",
    "    <center> <img src=\"fig6_2.jpg\" alt=\"jpg_python\" width=\"300\" height=\"\"> </center>"
   ]
  },
  {
   "cell_type": "markdown",
   "id": "2bd34a24",
   "metadata": {},
   "source": [
    "# <div style=\"margin-top: -20px;\">\n",
    "<hr style=\"border: 2px solid black;\">\n",
    "\n",
    "<font color='black'><span style=\"font-size: 22px;\"><strong>6.3 Relação de Inclusão</strong></span></font>\n",
    "\n",
    "<hr style=\"border: 2px solid black;\">\n",
    "</div>"
   ]
  },
  {
   "cell_type": "markdown",
   "id": "f46998a0",
   "metadata": {},
   "source": [
    "####  <font color='red'> Definição 4 </font>"
   ]
  },
  {
   "cell_type": "markdown",
   "id": "dccc3f42",
   "metadata": {},
   "source": [
    "<font color='red'> O conjunto $A$ é um subconjunto de um conjunto $B$ se, e somente se, todo elemento de $A$ for também um elemento de $B$. Usamos a notação $A \\subseteq B$ para indicar que $A$ é um subconjunto de $B$. Simbolicamente, temos<br><br>\n",
    "$$A \\subseteq B \\Leftrightarrow \\forall x(x\\in A \\rightarrow x \\in B).$$<br>\n",
    "Se $A$ não for subconjunto de um conjunto $B$ indicaremos por $A \\nsubseteq B$. Se a inclusão for estrita usamos o símbolo $\\subset$ ao invés de $\\subseteq$. Quando $A$ é subconjunto de $B$ dzemos que $A$ está contido em $B$ ou que $B$ contém $A$ (escreve-se $B \\supset A$)"
   ]
  },
  {
   "cell_type": "markdown",
   "id": "e503a21c",
   "metadata": {},
   "source": [
    "Em termos de diagramas de Venn, a inclusão $A \\subset B$ pode ser vista conforme indicado na figura a seguir na qual, todo conjunto $A$ é desenhado internamente ao conjunto $B$.\n",
    "<center> <img src=\"fig6_3a.jpg\" alt=\"jpg_python\" width=\"130\" height=\"\"> </center>\n",
    "\t"
   ]
  },
  {
   "cell_type": "markdown",
   "id": "4eb6fe4c",
   "metadata": {},
   "source": [
    "####  <font color='blue'> Exemplo 6 </font>"
   ]
  },
  {
   "cell_type": "markdown",
   "id": "5428ca7e",
   "metadata": {},
   "source": [
    "<font color='blue'>Classifique as sentenças a seguir em verdadeiras ou falsas.<br><br>\n",
    "a) $\\{1,2,3\\} \\subset \\mathbb{Z}$ $\\ \\ \\ \\ \\ $ b) $\\{-1,0,1\\} \\subset \\mathbb{N}$ $\\ \\ \\ \\ \\ $ c) $1 \\subset \\mathbb{R}$ $\\ \\ \\ \\ \\ $ d) $\\mathbb{N} \\subset \\mathbb{Z}$  $\\ \\ \\ \\ \\ $ e) $\\mathbb{Z} \\subset \\mathbb{Q}$ $\\ \\ \\ \\ \\ $ f) $\\mathbb{N} \\subset \\mathbb{Z} \\subset \\mathbb{Q} \\subset \\mathbb{R}$"
   ]
  },
  {
   "cell_type": "markdown",
   "id": "07e6c86a",
   "metadata": {},
   "source": [
    "<font color='blue'> **Solução**: a) Note que todo elemento do conjunto $\\{1,2,3\\}$ é também inteiro. Logo, a inclusão é verdadeira.<br><br>\n",
    "b) Note que $-1 \\in \\{-1,0,1\\}$ e $-1 \\notin \\mathbb{N}$. Logo, a afirmação é falsa.<br><br>\n",
    "c) Verdadeira (trivial).<br><br>\n",
    "d) Verdadeira (trivial).<br><br>\n",
    "e) Temos que $\\mathbb{Q} = \\left\\{ \\frac{p}{q}| p,q \\in \\mathbb{Z}, q\\neq 0 \\right\\}$. Tomando $q = 1$ mostramos que $\\mathbb{Z} \\subset \\mathbb{Q}$. Logo, a afirmação é verdadeira.<br><br>\n",
    "f) Verdadeira. Esta é uma importante inclusão que relaciona alguns dos principais conjuntos numéricos."
   ]
  },
  {
   "cell_type": "markdown",
   "id": "c5e4c5cd",
   "metadata": {},
   "source": [
    "####  <font color='red'> Teorema 1 </font>"
   ]
  },
  {
   "cell_type": "markdown",
   "id": "5e1c6907",
   "metadata": {},
   "source": [
    "<font color='red'> Para todo conjunto $S$,<br><br>\n",
    "i) $\\emptyset \\subseteq S$<br><br>\n",
    "ii) $S \\subseteq S$"
   ]
  },
  {
   "cell_type": "markdown",
   "id": "daba7f87",
   "metadata": {},
   "source": [
    "# <div style=\"margin-top: -20px;\">\n",
    "<hr style=\"border: 2px solid black;\">\n",
    "\n",
    "<font color='black'><span style=\"font-size: 22px;\"><strong>6.4 Conjunto das Partes</strong></span></font>\n",
    "\n",
    "<hr style=\"border: 2px solid black;\">\n",
    "</div>"
   ]
  },
  {
   "cell_type": "markdown",
   "id": "fd7b6216",
   "metadata": {},
   "source": [
    "Muitos problemas necessitam de saber todas as combinações possíveis de elementos de um dado conjunto na formação de subconjuntos deste."
   ]
  },
  {
   "cell_type": "markdown",
   "id": "70cc9dee",
   "metadata": {},
   "source": [
    "####  <font color='red'> Definição 5 </font>"
   ]
  },
  {
   "cell_type": "markdown",
   "id": "6f611b81",
   "metadata": {},
   "source": [
    "<font color='red'> Dado um conjunto $S$, o **conjunto das partes** de $S$ é o conjunto formado por todos os subconjuntos do conjunto $S$. O conjunto das partes do conjunto $S$ é indicado por $\\mathcal{P}(S)$."
   ]
  },
  {
   "cell_type": "markdown",
   "id": "12f5e97f",
   "metadata": {},
   "source": [
    "####  <font color='blue'> Exemplo 7 </font>"
   ]
  },
  {
   "cell_type": "markdown",
   "id": "8350e51c",
   "metadata": {},
   "source": [
    "<font color='blue'> Determine o conjunto das partes dos seguintes conjuntos:<br><br>\n",
    "a) $A = \\{1\\}$ $\\ \\ \\ \\ \\ $ b) $B = \\{1,2\\}$ $\\ \\ \\ \\ \\ $ c) $C = \\{1,2,3\\}$ $\\ \\ \\ \\ \\ $ d) $\\emptyset$ $\\ \\ \\ \\ \\ $ e) $\\{\\emptyset\\}$ "
   ]
  },
  {
   "cell_type": "markdown",
   "id": "ae74b7e0",
   "metadata": {},
   "source": [
    "<font color='blue'> **Solução**: a) $\\mathcal{P}(A) = \\{\\emptyset, \\{1\\}\\}$<br><br>\n",
    "b) $\\mathcal{P}(B) = \\{\\emptyset, \\{1\\}, \\{2\\}, \\{1,2\\}\\}$ <br><br>\n",
    "c) $\\mathcal{P}(C) = \\{\\emptyset, \\{1\\}, \\{2\\}, \\{3\\}, \\{1,2\\}, \\{1,3\\}, \\{2,3\\}, \\{1,2,3\\}\\}$<br><br>\n",
    "d) $\\mathcal{P}(\\emptyset) = \\{\\emptyset\\}$ <br><br>\n",
    "e) $\\mathcal{P}(\\left\\{\\emptyset\\right\\}) = \\{\\emptyset, \\{\\emptyset\\}\\}$. Note que não é o conjunto vazio!<br><br>"
   ]
  },
  {
   "cell_type": "markdown",
   "id": "aa4d6174",
   "metadata": {},
   "source": [
    "####  <font color='red'> Teorema 2 </font>"
   ]
  },
  {
   "cell_type": "markdown",
   "id": "f5f976d8",
   "metadata": {},
   "source": [
    "<font color='red'> Se um conjunto $S$ possui $n$ elementos, então $\\mathcal{P}(S)$ possui $2^{n}$ elementos."
   ]
  },
  {
   "cell_type": "markdown",
   "id": "3dd5a55a",
   "metadata": {},
   "source": [
    "####  <font color='blue'> Exemplo 8 </font>"
   ]
  },
  {
   "cell_type": "markdown",
   "id": "0cdfa768",
   "metadata": {},
   "source": [
    "<font color='blue'> Determine o número de subconjuntos de um conjunto $A$ composto por $10$ elementos."
   ]
  },
  {
   "cell_type": "markdown",
   "id": "ee7d77eb",
   "metadata": {},
   "source": [
    "<font color='blue'> **Solução**: Temos que $n\\left( \\mathcal{P}(A) \\right) = 2^{n(A)} = 2^{10} = 1024$. Logo, $A$ tem $1024$ subconjuntos. *Sem o **Teorema 1** estaríamos em uma fria!*"
   ]
  },
  {
   "cell_type": "markdown",
   "id": "cab8c99a",
   "metadata": {},
   "source": [
    "####  <font color='blue'> Exemplo 9 </font>"
   ]
  },
  {
   "cell_type": "markdown",
   "id": "fcc7cc53",
   "metadata": {},
   "source": [
    "<font color='blue'> Sendo $A = \\left\\{1,2\\right\\}$ classifique cada uma das sentenças a seguir em verdadeira ou falsa.<br><br>\n",
    "a) $\\{1\\} \\in \\mathcal{P}(A)$ $\\ \\ \\ \\ \\ $ b) $1 \\in \\mathcal{P}(A)$ $\\ \\ \\ \\ \\ $ c) $\\emptyset \\subset \\mathcal{P}(A)$ $\\ \\ \\ \\ \\ $ d) $2 \\subset \\mathcal{P}(A)$ $\\ \\ \\ \\ \\ $ e) $\\left\\{\\emptyset \\right\\} \\in \\mathcal{P}(A)$ $\\ \\ \\ \\ \\ $ f) $\\left\\{\\emptyset \\right\\} \\subset \\mathcal{P}(A)$"
   ]
  },
  {
   "cell_type": "markdown",
   "id": "9b23391d",
   "metadata": {},
   "source": [
    "<font color='blue'> **Solução**: Antes de tudo, observe que $\\mathcal{P}(A) = \\{\\emptyset, \\{1\\}, \\{2\\}, \\{1,2\\}\\}$.<br><br>\n",
    "a) Note que o conjunto $\\{1\\}$ é um elemento do conjunto $\\mathcal{P}(A)$ (Observe que $\\{1\\}$ está dentro das chaves de $\\mathcal{P}(A)$). Logo, a afirmação é verdadeira.<br><br>\n",
    "b) Note que $1$ não é elemento de $\\mathcal{P}(A)$ (Observe que $1$ não está dentro das chaves de $\\mathcal{P}(A)$). Logo a afirmação é falsa.<br><br>\n",
    "c) Pelo **Teorema 1** esta é uma afirmação verdadeira.<br><br>\n",
    "d) Note que $2$ é um elemento e portanto, não vale qualquer relação de inclusão. Logo, esta é uma afirmação falsa.<br><br>\n",
    "e) Note que $\\{\\emptyset\\}$ não é um elemento de $\\mathcal{P}(A)$. Não confundir $\\{\\emptyset\\}$ com $\\emptyset$. Logo, a afirmação é falsa.<br><br>\n",
    "f) Note que $\\emptyset$ é um subconjunto de $\\mathcal{P}(A)$. Logo, a afirmação é verdadeira."
   ]
  },
  {
   "cell_type": "markdown",
   "id": "b10e58a2",
   "metadata": {},
   "source": [
    "# <div style=\"margin-top: -20px;\">\n",
    "<hr style=\"border: 2px solid black;\">\n",
    "\n",
    "<font color='black'><span style=\"font-size: 22px;\"><strong>6.5 Exercícios</strong></span></font>\n",
    "\n",
    "<hr style=\"border: 2px solid black;\">\n",
    "</div>"
   ]
  },
  {
   "cell_type": "markdown",
   "id": "671b4ff5",
   "metadata": {},
   "source": [
    "#### Exercício 1"
   ]
  },
  {
   "cell_type": "markdown",
   "id": "5409adbf",
   "metadata": {},
   "source": [
    "Represente os conjuntos a seguir na forma tabular:\n",
    "\n",
    "a) $\\{x \\in \\mathbb{N}| 3\\leq x < 10\\}$ $\\ \\ \\ \\ \\ $ b) $\\{x \\in \\mathbb{R}| x^{2} = 9\\}$ $\\ \\ \\ \\ \\ $ c) $\\{x \\in \\mathbb{Z}| 2x^{2} - x - 1 = 0\\}$"
   ]
  },
  {
   "cell_type": "markdown",
   "id": "c5f49241",
   "metadata": {},
   "source": [
    "#### Exercício 2"
   ]
  },
  {
   "cell_type": "markdown",
   "id": "0a904708",
   "metadata": {},
   "source": [
    "Classifique como $V$ ou $F$ cada uma das afirmações a seguir:\n",
    "\n",
    "a) $\\{3\\} \\subset \\{1,2,3\\}$ $\\ \\ \\ \\ \\ $ b) $\\{2,3,1\\} \\subset \\{1,2,3\\}$ $\\ \\ \\ \\ \\ $ c) $2 \\subset \\{1,2\\}$ $\\ \\ \\ \\ \\ $ d) $2 \\in \\{1,2\\}$ $\\ \\ \\ \\ \\ $ e) $\\{2,3,4\\} \\nsubseteq {1,2,3,4}$ $\\ \\ \\ \\ \\ $ f) $\\emptyset \\subset \\{1,2\\}$ $\\ \\ \\ \\ \\ $ g) $\\emptyset \\in \\{1,2\\}$ $\\ \\ \\ \\ \\ $ h) $\\{3,5,2\\} \\supset \\{3,5\\}$"
   ]
  },
  {
   "cell_type": "markdown",
   "id": "100a2977",
   "metadata": {},
   "source": [
    "#### Exercício 3"
   ]
  },
  {
   "cell_type": "markdown",
   "id": "2ecfb779",
   "metadata": {},
   "source": [
    "Considere os conjuntos $A = \\{a,b,c\\}$, $B = \\{d,e\\}$,  $C = \\{f,g,h\\}$ e $D = \\{a,i,j\\}$:\n",
    "\n",
    "a) Quantos conjuntos, de três elementos, podemos formar com exatamente um elemento de $A$, um de $B$ e um de $C$?\n",
    "\n",
    "b) Quantos conjuntos, de três elementos, podemos formar com exatamente um elemento de $A$, um de $B$ e um de $D$?"
   ]
  },
  {
   "cell_type": "markdown",
   "id": "f10d528c",
   "metadata": {},
   "source": [
    "#### Exercício 4"
   ]
  },
  {
   "cell_type": "markdown",
   "id": "c683f905",
   "metadata": {},
   "source": [
    "Classifique em $V$ ou $F$ cada uma das afirmações sobre o conjunto $A = \\{1,2\\}$ e seu conjunto das partes $\\mathcal{P}(A)$:\n",
    "\n",
    "a) $\\{1\\} \\in \\mathcal{P}(A)$ $\\ \\ \\ \\ \\ $ b) $1 \\in A$ $\\ \\ \\ \\ \\ $ c) $2 \\in \\mathcal{P}(A)$ $\\ \\ \\ \\ \\ $ d) $\\{2\\} \\subset \\mathcal{P}(A)$ $\\ \\ \\ \\ \\ $ e) $\\{\\{1\\}\\} \\subset \\mathcal{P}(A)$ "
   ]
  },
  {
   "cell_type": "markdown",
   "id": "aa5f67ce",
   "metadata": {},
   "source": [
    "#### Exercício 5"
   ]
  },
  {
   "cell_type": "markdown",
   "id": "c9d51390",
   "metadata": {},
   "source": [
    "Se um conjunto $A$ possui $64$ subconjuntos, qual o número de elementos de $A$?"
   ]
  },
  {
   "cell_type": "markdown",
   "id": "92b1d720",
   "metadata": {},
   "source": [
    "#### Exercício 6"
   ]
  },
  {
   "cell_type": "markdown",
   "id": "d3e47474",
   "metadata": {},
   "source": [
    " Um conjunto $A$ possui $512$ subconjuntos. Ao removermos dois elementos do conjunto $A$ este novo conjunto passará a possuir quantos subconjuntos"
   ]
  },
  {
   "cell_type": "markdown",
   "id": "543e99c3",
   "metadata": {},
   "source": [
    "#### Exercício 7"
   ]
  },
  {
   "cell_type": "markdown",
   "id": "e26cd0fb",
   "metadata": {},
   "source": [
    "Um grupo de amigos é formado por $5$ integrantes. De quantos modos eles podem fazer uma viagem levando ao menos dois dos membros?"
   ]
  },
  {
   "cell_type": "markdown",
   "id": "1cdedc46",
   "metadata": {},
   "source": [
    "## <div style=\"margin-top: -20px;\">\n",
    "<hr style=\"border: 2px solid black;\">\n",
    "\n",
    "<font color='black'><span style=\"font-size: 18px;\"><strong>Respostas</strong></span></font>\n",
    "\n",
    "<hr style=\"border: 2px solid black;\">\n",
    "</div>"
   ]
  },
  {
   "cell_type": "markdown",
   "id": "d96f9cb2",
   "metadata": {},
   "source": [
    "#### Respostas do Exercício 1"
   ]
  },
  {
   "cell_type": "markdown",
   "id": "ee0f3c76",
   "metadata": {},
   "source": [
    "a) $\\{3,4,5,6,7,8,9\\}$, b) $\\{-3,3\\}$, c) $\\{1\\}$"
   ]
  },
  {
   "cell_type": "markdown",
   "id": "a2435018",
   "metadata": {},
   "source": [
    "#### Respostas do Exercício 2"
   ]
  },
  {
   "cell_type": "markdown",
   "id": "26a378da",
   "metadata": {},
   "source": [
    "a) $V$, b) $V$, c) $F$, d) $V$, e) $F$, f) $V$, g) $F$, h) $V$"
   ]
  },
  {
   "cell_type": "markdown",
   "id": "773050cc",
   "metadata": {},
   "source": [
    "#### Respostas do Exercício 3"
   ]
  },
  {
   "cell_type": "markdown",
   "id": "963bd8a2",
   "metadata": {},
   "source": [
    "a) $18$, b) $16$"
   ]
  },
  {
   "cell_type": "markdown",
   "id": "a07897ca",
   "metadata": {},
   "source": [
    "#### Respostas do Exercício 4"
   ]
  },
  {
   "cell_type": "markdown",
   "id": "632a91ad",
   "metadata": {},
   "source": [
    "a) $V$, b) $V$, c) $F$, d) $F$, e) $V$"
   ]
  },
  {
   "cell_type": "markdown",
   "id": "5e56e086",
   "metadata": {},
   "source": [
    "#### Resposta do Exercício 5"
   ]
  },
  {
   "cell_type": "markdown",
   "id": "ba3fd766",
   "metadata": {},
   "source": [
    "$6$"
   ]
  },
  {
   "cell_type": "markdown",
   "id": "7458900f",
   "metadata": {},
   "source": [
    "#### Resposta do Exercício 6"
   ]
  },
  {
   "cell_type": "markdown",
   "id": "3f0d1213",
   "metadata": {},
   "source": [
    "$128$"
   ]
  },
  {
   "cell_type": "markdown",
   "id": "86c1f4d5",
   "metadata": {},
   "source": [
    "#### Resposta do Exercício 7"
   ]
  },
  {
   "cell_type": "markdown",
   "id": "b352563e",
   "metadata": {},
   "source": [
    "$26$"
   ]
  },
  {
   "cell_type": "markdown",
   "id": "9e4a04e6",
   "metadata": {},
   "source": [
    "# <div style=\"margin-top: -20px;\">\n",
    "<hr style=\"border: 2px solid black;\">\n",
    "\n",
    "<font color='black'><span style=\"font-size: 22px;\"><strong>6.6 Vídeo Aulas</strong></span></font>\n",
    "\n",
    "<hr style=\"border: 2px solid black;\">\n",
    "</div>"
   ]
  },
  {
   "cell_type": "markdown",
   "id": "42dc0ec2",
   "metadata": {},
   "source": [
    "Clicando nos links a seguir você será redirecionado às aulas referentes a este capítulo.\n",
    "\n",
    "[Conjunto](https://youtu.be/ByBOxmV0dmU)\n",
    "\n",
    "[Conjuntos Numéricos](https://youtu.be/P35RdfmVzZM)\n",
    "\n",
    "[Conjuntos Importantes](https://youtu.be/nrUXeEGrgNU)\n",
    "\n",
    "[Relação de Inclusão](https://youtu.be/j4wd2iXodH0)\n",
    "\n",
    "[Conjunto das Partes](https://youtu.be/bAVUmznqWt4)\n",
    "\n",
    "[Exercício 1 - Representação Tabular de Um Conjunto](https://youtu.be/-_rnenVThmg)\n",
    "\n",
    "[Exercício 2 - Relações de Pertinência e Inclusão (V ou F)](https://youtu.be/OSLqW_W5sxg)\n",
    "\n",
    "[Exercício 3 - Princípio da Contagem](https://youtu.be/UOxLhyVZbbU)\n",
    "\n",
    "[Exercício 4 - Conjunto das Partes e Relações de Pertinência e Inclusão (V ou F)](https://youtu.be/Af2pW9mHZrU)\n",
    "\n",
    "[Exercício 5 - Conjunto das Partes](https://youtu.be/5t-poOsDqUg)\n",
    "\n",
    "[Exercício 6 - Conjunto das Partes](https://youtu.be/9VAd8DLjZFY)\n",
    "\n",
    "[Exercício 7 - Contagem de Subconjuntos](https://youtu.be/9qGdXd8JRP8)"
   ]
  },
  {
   "cell_type": "markdown",
   "id": "90ad38ef",
   "metadata": {},
   "source": [
    "# <div style=\"margin-top: -20px;\">\n",
    "<hr style=\"border: 2px solid black;\">\n",
    "\n",
    "<font color='black'><span style=\"font-size: 22px;\"><strong>6.7 No Computador (Experimental)</strong></span></font>\n",
    "\n",
    "<hr style=\"border: 2px solid black;\">\n",
    "</div>"
   ]
  },
  {
   "cell_type": "markdown",
   "id": "62bbedd5",
   "metadata": {},
   "source": [
    "#### Armazenando um Conjunto"
   ]
  },
  {
   "cell_type": "markdown",
   "id": "fe0d46e9",
   "metadata": {},
   "source": [
    "A forma de inserção de um conjunto é feita de forma natural."
   ]
  },
  {
   "cell_type": "code",
   "execution_count": null,
   "id": "72bef377",
   "metadata": {
    "ExecuteTime": {
     "end_time": "2023-07-21T20:31:44.257355Z",
     "start_time": "2023-07-21T20:31:44.252994Z"
    }
   },
   "outputs": [],
   "source": [
    "# Cojuntos\n",
    "A = {1,2,3,4}\n",
    "B = {3,4,7}\n",
    "C = {2,3,4}"
   ]
  },
  {
   "cell_type": "code",
   "execution_count": null,
   "id": "e927b575",
   "metadata": {
    "ExecuteTime": {
     "end_time": "2023-07-21T20:31:45.769769Z",
     "start_time": "2023-07-21T20:31:45.765759Z"
    }
   },
   "outputs": [],
   "source": [
    "# Imprimindo conjuntos\n",
    "print(A)\n",
    "print(B)\n",
    "print(C)"
   ]
  },
  {
   "cell_type": "markdown",
   "id": "7e8628d0",
   "metadata": {},
   "source": [
    "A função **type()** é usada para obter o tipo de um objeto. Por exemplo:"
   ]
  },
  {
   "cell_type": "code",
   "execution_count": null,
   "id": "94680f39",
   "metadata": {
    "ExecuteTime": {
     "end_time": "2023-07-21T20:53:50.377699Z",
     "start_time": "2023-07-21T20:53:50.372736Z"
    }
   },
   "outputs": [],
   "source": [
    "print(type(A))"
   ]
  },
  {
   "cell_type": "markdown",
   "id": "76bd61a9",
   "metadata": {},
   "source": [
    "Podemos trabalhar com outros tipos de variáveis em um conjunto."
   ]
  },
  {
   "cell_type": "code",
   "execution_count": null,
   "id": "d5929fa9",
   "metadata": {
    "ExecuteTime": {
     "end_time": "2023-07-21T20:52:22.971725Z",
     "start_time": "2023-07-21T20:52:22.965762Z"
    }
   },
   "outputs": [],
   "source": [
    "# Conjuntos\n",
    "V = {'a','e','i','o','u'}\n",
    "A = {3,4,5,6,7,8}\n",
    "P = {'Mercúrio','Vênus','Terra','Marte','Júpiter','Saturno','Urano','Netuno'}\n",
    "B = {1,'a','carro'}"
   ]
  },
  {
   "cell_type": "markdown",
   "id": "a195a890",
   "metadata": {},
   "source": [
    "#### Verificação de Pertinência"
   ]
  },
  {
   "cell_type": "code",
   "execution_count": null,
   "id": "c402a0d3",
   "metadata": {
    "ExecuteTime": {
     "end_time": "2023-07-21T20:32:32.201628Z",
     "start_time": "2023-07-21T20:32:32.196642Z"
    }
   },
   "outputs": [],
   "source": [
    "# Cojunto\n",
    "A = {1,2,3,4}"
   ]
  },
  {
   "cell_type": "code",
   "execution_count": null,
   "id": "013931e6",
   "metadata": {
    "ExecuteTime": {
     "end_time": "2023-07-21T20:39:53.500516Z",
     "start_time": "2023-07-21T20:39:53.493558Z"
    }
   },
   "outputs": [],
   "source": [
    "# Verificação de pertinência\n",
    "pert_1 = 2 in A\n",
    "pert_2 = (2 and 3) in A\n",
    "pert_3 = 5 in A\n",
    "pert_4 = (1 and 5) in A\n",
    "\n",
    "# Impressão de resultados armazenados\n",
    "print(pert_1)\n",
    "print(pert_2)\n",
    "print(pert_3)\n",
    "print(pert_4)"
   ]
  },
  {
   "cell_type": "markdown",
   "id": "c77777bf",
   "metadata": {},
   "source": [
    "Note que a verificação de pertinência de mais de um elemento usamos o operador lógico **and** ao invés da vírgula. Do contrário, a vírgula entenderia o operador **in** atuando somente sobre o $2$."
   ]
  },
  {
   "cell_type": "code",
   "execution_count": null,
   "id": "6858cd46",
   "metadata": {
    "ExecuteTime": {
     "end_time": "2023-07-21T20:37:49.570676Z",
     "start_time": "2023-07-21T20:37:49.564687Z"
    }
   },
   "outputs": [],
   "source": [
    "result_5 = 2,3 in A # Forma incorreta\n",
    "print(pert_5)"
   ]
  },
  {
   "cell_type": "markdown",
   "id": "d149c1c6",
   "metadata": {},
   "source": [
    "#### Verificação de Inclusão"
   ]
  },
  {
   "cell_type": "code",
   "execution_count": null,
   "id": "b3ef054d",
   "metadata": {
    "ExecuteTime": {
     "end_time": "2023-07-21T20:27:56.433956Z",
     "start_time": "2023-07-21T20:27:56.428959Z"
    }
   },
   "outputs": [],
   "source": [
    "# Conjuntos\n",
    "A = {1,2,3,4,5}\n",
    "B = {3,4,6,7}\n",
    "C = {2,3,4}"
   ]
  },
  {
   "cell_type": "code",
   "execution_count": null,
   "id": "04c3873b",
   "metadata": {
    "ExecuteTime": {
     "end_time": "2023-07-21T20:44:51.346477Z",
     "start_time": "2023-07-21T20:44:51.340470Z"
    }
   },
   "outputs": [],
   "source": [
    "# Verificação de inclusão\n",
    "incl_1 = A.issubset(B)     # A ⊂ B?\n",
    "incl_2 = B.issubset(A)     # B ⊂ A?\n",
    "incl_3 = C.issubset(A)     # C ⊂ A?\n",
    "incl_4 = set().issubset(A) # ∅ ⊂ A?\n",
    "\n",
    "# Impressão de resultados armazenados\n",
    "print(incl_1)\n",
    "print(incl_2)\n",
    "print(incl_3)\n",
    "print(incl_4)"
   ]
  },
  {
   "cell_type": "markdown",
   "id": "acd04d72",
   "metadata": {},
   "source": [
    "#### Obtendo o Conjunto das Partes"
   ]
  },
  {
   "cell_type": "code",
   "execution_count": 1,
   "id": "d803308e",
   "metadata": {
    "ExecuteTime": {
     "end_time": "2023-07-21T21:12:43.611478Z",
     "start_time": "2023-07-21T21:12:43.604497Z"
    }
   },
   "outputs": [
    {
     "name": "stdout",
     "output_type": "stream",
     "text": [
      "P({1, 2, 3}) = [set(), {1}, {2}, {3}, {1, 2}, {1, 3}, {2, 3}, {1, 2, 3}]\n"
     ]
    }
   ],
   "source": [
    "from itertools import chain, combinations\n",
    "\n",
    "def powerset_as_sets(iterable):\n",
    "    s = list(iterable)\n",
    "    return [set(subset) for subset in chain.from_iterable(combinations(s, r) for r in range(len(s)+1))]\n",
    "\n",
    "# Conjunto de elementos\n",
    "A = {1, 2, 3}\n",
    "\n",
    "# Calculando o conjunto das partes como conjuntos\n",
    "conjunto_das_partes = powerset_as_sets(A)\n",
    "\n",
    "print(f'P({A}) = {conjunto_das_partes}')"
   ]
  },
  {
   "cell_type": "markdown",
   "id": "725c4fd2",
   "metadata": {},
   "source": [
    "Note que a saída em questão é uma **lista Python** e não um conjunto."
   ]
  },
  {
   "cell_type": "code",
   "execution_count": 20,
   "id": "8c4a6b01",
   "metadata": {
    "ExecuteTime": {
     "end_time": "2023-07-21T21:34:16.336000Z",
     "start_time": "2023-07-21T21:34:16.330991Z"
    }
   },
   "outputs": [
    {
     "name": "stdout",
     "output_type": "stream",
     "text": [
      "False\n",
      "True\n",
      "True\n"
     ]
    }
   ],
   "source": [
    "# Verficando pertinências\n",
    "pert_1 = 1 in conjunto_das_partes\n",
    "pert_2 = {1} in conjunto_das_partes\n",
    "pert_3 = set() in conjunto_das_partes\n",
    "\n",
    "# Imprimindo os resultados\n",
    "print(pert_1)\n",
    "print(pert_2)\n",
    "print(pert_3)"
   ]
  }
 ],
 "metadata": {
  "kernelspec": {
   "display_name": "Python 3 (ipykernel)",
   "language": "python",
   "name": "python3"
  },
  "language_info": {
   "codemirror_mode": {
    "name": "ipython",
    "version": 3
   },
   "file_extension": ".py",
   "mimetype": "text/x-python",
   "name": "python",
   "nbconvert_exporter": "python",
   "pygments_lexer": "ipython3",
   "version": "3.11.5"
  },
  "varInspector": {
   "cols": {
    "lenName": 16,
    "lenType": 16,
    "lenVar": 40
   },
   "kernels_config": {
    "python": {
     "delete_cmd_postfix": "",
     "delete_cmd_prefix": "del ",
     "library": "var_list.py",
     "varRefreshCmd": "print(var_dic_list())"
    },
    "r": {
     "delete_cmd_postfix": ") ",
     "delete_cmd_prefix": "rm(",
     "library": "var_list.r",
     "varRefreshCmd": "cat(var_dic_list()) "
    }
   },
   "types_to_exclude": [
    "module",
    "function",
    "builtin_function_or_method",
    "instance",
    "_Feature"
   ],
   "window_display": false
  }
 },
 "nbformat": 4,
 "nbformat_minor": 5
}
